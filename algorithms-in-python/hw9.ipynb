{
  "nbformat": 4,
  "nbformat_minor": 0,
  "metadata": {
    "colab": {
      "provenance": []
    },
    "kernelspec": {
      "name": "python3",
      "display_name": "Python 3"
    },
    "language_info": {
      "name": "python"
    }
  },
  "cells": [
    {
      "cell_type": "markdown",
      "source": [
        "63. Unique Paths II\n",
        "O(m * n)"
      ],
      "metadata": {
        "id": "rDIMIytPuiD2"
      }
    },
    {
      "cell_type": "code",
      "execution_count": null,
      "metadata": {
        "colab": {
          "base_uri": "https://localhost:8080/"
        },
        "id": "hipdnsXMuQ9o",
        "outputId": "8621353b-9b03-4536-8c02-c3fc78cf6351"
      },
      "outputs": [
        {
          "output_type": "stream",
          "name": "stdout",
          "text": [
            "Test case 1, Grid: [[0, 0, 0], [0, 1, 0], [0, 0, 0]], Paths: 2\n",
            "Test case 2, Grid: [[0, 1], [0, 0]], Paths: 1\n",
            "Test case 3, Grid: [[1]], Paths: 0\n",
            "Test case 4, Grid: [[0, 0], [1, 1], [0, 0]], Paths: 0\n"
          ]
        }
      ],
      "source": [
        "class Solution:\n",
        "    def uniquePathsWithObstacles(self, obstacleGrid: list[list[int]]) -> int:\n",
        "        if obstacleGrid[0][0]: return 0\n",
        "        m, n = len(obstacleGrid), len(obstacleGrid[0])\n",
        "        dp = [[0] * n for _ in range(m)]\n",
        "        dp[0][0] = 1\n",
        "        for i in range(m):\n",
        "            for j in range(n):\n",
        "                if obstacleGrid[i][j] or (i == 0 and j == 0): continue\n",
        "                dp[i][j] = (dp[i-1][j] if i else 0) + (dp[i][j-1] if j else 0)\n",
        "        return dp[m-1][n-1]\n",
        "\n",
        "# Test cases\n",
        "test_cases = [\n",
        "    [[0,0,0], [0,1,0], [0,0,0]],\n",
        "    [[0,1], [0,0]],\n",
        "    [[1]],\n",
        "    [[0, 0], [1, 1], [0, 0]]\n",
        "]\n",
        "\n",
        "\n",
        "sol = Solution()\n",
        "\n",
        "# Test\n",
        "for i, test in enumerate(test_cases):\n",
        "    print(f\"Test case {i+1}, Grid: {test}, Paths: {sol.uniquePathsWithObstacles(test)}\")"
      ]
    },
    {
      "cell_type": "markdown",
      "source": [
        "70. Climbing Stairs\n",
        "O(n)"
      ],
      "metadata": {
        "id": "eoZ998N-vcEs"
      }
    },
    {
      "cell_type": "code",
      "source": [
        "class Solution:\n",
        "    def climbStairs(self, n: int) -> int:\n",
        "        if n <= 1:\n",
        "            return 1\n",
        "        dp = [0] * (n + 1)\n",
        "        dp[0], dp[1] = 1, 1\n",
        "        for i in range(2, n + 1):\n",
        "            dp[i] = dp[i - 1] + dp[i - 2]\n",
        "        return dp[n]\n",
        "\n",
        "# Test cases\n",
        "test_cases = [1, 2, 3, 4, 5, 10]\n",
        "\n",
        "\n",
        "sol = Solution()\n",
        "\n",
        "# Test\n",
        "for n in test_cases:\n",
        "    print(f\"Number of steps: {n}, Ways to climb: {sol.climbStairs(n)}\")"
      ],
      "metadata": {
        "colab": {
          "base_uri": "https://localhost:8080/"
        },
        "id": "yd600mQlvo44",
        "outputId": "6e93ea24-48f3-44f4-bcd4-778f02b9981f"
      },
      "execution_count": null,
      "outputs": [
        {
          "output_type": "stream",
          "name": "stdout",
          "text": [
            "Number of steps: 1, Ways to climb: 1\n",
            "Number of steps: 2, Ways to climb: 2\n",
            "Number of steps: 3, Ways to climb: 3\n",
            "Number of steps: 4, Ways to climb: 5\n",
            "Number of steps: 5, Ways to climb: 8\n",
            "Number of steps: 10, Ways to climb: 89\n"
          ]
        }
      ]
    },
    {
      "cell_type": "markdown",
      "source": [
        "40. Combination Sum II\n",
        "O(n)"
      ],
      "metadata": {
        "id": "b4nHxsuDwPrR"
      }
    },
    {
      "cell_type": "code",
      "source": [
        "class Solution:\n",
        "    def combinationSum2(self, candidates: list[int], target: int) -> list[list[int]]:\n",
        "        ans = []\n",
        "        candidates.sort()\n",
        "\n",
        "        def backtracking(start, total, path):\n",
        "            if total == target:\n",
        "                ans.append(path)\n",
        "                return\n",
        "\n",
        "            for i in range(start, len(candidates)):\n",
        "                if total + candidates[i] > target:\n",
        "                    return\n",
        "                elif i > start and candidates[i] == candidates[i-1]:\n",
        "                    continue\n",
        "                else:\n",
        "                    backtracking(i + 1, total + candidates[i], path + [candidates[i]])\n",
        "\n",
        "        backtracking(0, 0, [])\n",
        "        return ans\n",
        "\n",
        "# Test cases\n",
        "test_cases = [\n",
        "    ([10,1,2,7,6,1,5], 8),\n",
        "    ([2,5,2,1,2], 5),\n",
        "]\n",
        "\n",
        "\n",
        "sol = Solution()\n",
        "\n",
        "# Test\n",
        "for candidates, target in test_cases:\n",
        "    print(f\"Candidates: {candidates}, Target: {target}, Combinations: {sol.combinationSum2(candidates, target)}\")\n"
      ],
      "metadata": {
        "colab": {
          "base_uri": "https://localhost:8080/"
        },
        "id": "pxtM62OSwQFT",
        "outputId": "eaa03a31-ded4-4eeb-8ccd-a48b4cca7613"
      },
      "execution_count": null,
      "outputs": [
        {
          "output_type": "stream",
          "name": "stdout",
          "text": [
            "Candidates: [10, 1, 2, 7, 6, 1, 5], Target: 8, Combinations: [[1, 1, 6], [1, 2, 5], [1, 7], [2, 6]]\n",
            "Candidates: [2, 5, 2, 1, 2], Target: 5, Combinations: [[1, 2, 2], [5]]\n"
          ]
        }
      ]
    },
    {
      "cell_type": "markdown",
      "source": [
        "47. Permutations II\n",
        "O(n)"
      ],
      "metadata": {
        "id": "CuhRtJTIw-U_"
      }
    },
    {
      "cell_type": "code",
      "source": [
        "class Solution:\n",
        "  def permuteUnique(self, nums: list[int]) -> list[list[int]]:\n",
        "    ans = []\n",
        "    used = [False] * len(nums)\n",
        "\n",
        "    def dfs(path: list[int]) -> None:\n",
        "      if len(path) == len(nums):\n",
        "        ans.append(path.copy())\n",
        "        return\n",
        "\n",
        "      for i, num in enumerate(nums):\n",
        "        if used[i]:\n",
        "          continue\n",
        "        if i > 0 and nums[i] == nums[i - 1] and not used[i - 1]:\n",
        "          continue\n",
        "        used[i] = True\n",
        "        path.append(num)\n",
        "        dfs(path)\n",
        "        path.pop()\n",
        "        used[i] = False\n",
        "\n",
        "    nums.sort()\n",
        "    dfs([])\n",
        "    return ans\n",
        "\n",
        "# Test cases\n",
        "test_cases = [\n",
        "    [1, 1, 2],\n",
        "    [1, 2, 3],\n",
        "    [1, 2, 2],\n",
        "]\n",
        "\n",
        "\n",
        "sol = Solution()\n",
        "\n",
        "# Test\n",
        "for nums in test_cases:\n",
        "    print(f\"Nums: {nums}, Unique Permutations: {sol.permuteUnique(nums)}\")"
      ],
      "metadata": {
        "colab": {
          "base_uri": "https://localhost:8080/"
        },
        "id": "3j4NGJzQw-zJ",
        "outputId": "2c46c54f-3c29-46ef-9f14-04c6d2dd16cb"
      },
      "execution_count": null,
      "outputs": [
        {
          "output_type": "stream",
          "name": "stdout",
          "text": [
            "Nums: [1, 1, 2], Unique Permutations: [[1, 1, 2], [1, 2, 1], [2, 1, 1]]\n",
            "Nums: [1, 2, 3], Unique Permutations: [[1, 2, 3], [1, 3, 2], [2, 1, 3], [2, 3, 1], [3, 1, 2], [3, 2, 1]]\n",
            "Nums: [1, 2, 2], Unique Permutations: [[1, 2, 2], [2, 1, 2], [2, 2, 1]]\n"
          ]
        }
      ]
    }
  ]
}