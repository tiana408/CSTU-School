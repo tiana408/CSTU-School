{
  "nbformat": 4,
  "nbformat_minor": 0,
  "metadata": {
    "colab": {
      "provenance": []
    },
    "kernelspec": {
      "name": "python3",
      "display_name": "Python 3"
    },
    "language_info": {
      "name": "python"
    }
  },
  "cells": [
    {
      "cell_type": "markdown",
      "source": [
        "50. Pow(x, n)\n",
        "O(logn)"
      ],
      "metadata": {
        "id": "3yLVyNmTJQWs"
      }
    },
    {
      "cell_type": "code",
      "execution_count": 9,
      "metadata": {
        "id": "-kmNONUNHrPk",
        "colab": {
          "base_uri": "https://localhost:8080/"
        },
        "outputId": "46820b81-5102-4fef-85d5-06451b3277fd"
      },
      "outputs": [
        {
          "output_type": "stream",
          "name": "stdout",
          "text": [
            "myPow(2, 10) = 1024.0, Expected = 1024, Match\n",
            "myPow(2.1, 3) = 9.261000000000001, Expected = 9.261000000000001, Match\n",
            "myPow(2, -2) = 0.25, Expected = 0.25, Match\n",
            "myPow(10, 0) = 1.0, Expected = 1, Match\n"
          ]
        }
      ],
      "source": [
        "class Solution:\n",
        "    def myPow(self, x: float, n: int) -> float:\n",
        "\n",
        "        def function(base=x, exponent=abs(n)):\n",
        "            if exponent == 0:\n",
        "                return 1\n",
        "            elif exponent % 2 == 0:\n",
        "                return function(base * base, exponent // 2)\n",
        "            else:\n",
        "                return base * function(base * base, (exponent - 1) // 2)\n",
        "\n",
        "        f = function()\n",
        "\n",
        "        return float(f) if n >= 0 else 1/f\n",
        "\n",
        "\n",
        "\n",
        "solution = Solution()\n",
        "\n",
        "# Test cases\n",
        "test_cases = [(2, 10), (2.1, 3), (2, -2), (10, 0)]\n",
        "\n",
        "\n",
        "for x, n in test_cases:\n",
        "    result = solution.myPow(x, n)\n",
        "    expected = pow(x, n)\n",
        "    print(f\"myPow({x}, {n}) = {result}, Expected = {expected}, {'Match' if result == expected else 'Mismatch'}\")\n"
      ]
    },
    {
      "cell_type": "markdown",
      "source": [
        "326. Power of Three\n",
        "O(1)"
      ],
      "metadata": {
        "id": "JCQwUIdnJ87c"
      }
    },
    {
      "cell_type": "code",
      "source": [
        "class Solution:\n",
        "    def isPowerOfThree(self, n: int) -> bool:\n",
        "        from math import log\n",
        "        if n > 0:\n",
        "            e = log(n, 3)\n",
        "            x = round(e, 1)\n",
        "            return pow(3, x) == n\n",
        "        else:\n",
        "            return False\n",
        "\n",
        "\n",
        "solution = Solution()\n",
        "\n",
        "# Test cases\n",
        "test_cases = [1, 3, 9, 27, 81, 2, 4, 5, 0, -3]\n",
        "\n",
        "\n",
        "for n in test_cases:\n",
        "    result = solution.isPowerOfThree(n)\n",
        "    print(f\"isPowerOfThree({n}) = {result}\")\n"
      ],
      "metadata": {
        "id": "FmKK1S8xKEE6",
        "colab": {
          "base_uri": "https://localhost:8080/"
        },
        "outputId": "05eef13f-5c0d-4b46-ac51-de3826d94a5e"
      },
      "execution_count": 11,
      "outputs": [
        {
          "output_type": "stream",
          "name": "stdout",
          "text": [
            "isPowerOfThree(1) = True\n",
            "isPowerOfThree(3) = True\n",
            "isPowerOfThree(9) = True\n",
            "isPowerOfThree(27) = True\n",
            "isPowerOfThree(81) = True\n",
            "isPowerOfThree(2) = False\n",
            "isPowerOfThree(4) = False\n",
            "isPowerOfThree(5) = False\n",
            "isPowerOfThree(0) = False\n",
            "isPowerOfThree(-3) = False\n"
          ]
        }
      ]
    },
    {
      "cell_type": "markdown",
      "source": [
        "394. Decode String\n",
        "O(n)"
      ],
      "metadata": {
        "id": "7QbJOMAbKUm_"
      }
    },
    {
      "cell_type": "code",
      "source": [
        "class Solution:\n",
        "    def decodeString(self, s: str) -> str:\n",
        "        stack=[]\n",
        "        for char in s:\n",
        "            if char != ']':\n",
        "                stack.append(char)\n",
        "\n",
        "            else:\n",
        "                temp_str=\"\"\n",
        "\n",
        "                while stack[-1] != '[':\n",
        "                    stack_top=stack.pop()\n",
        "                    temp_str = stack_top + temp_str\n",
        "\n",
        "                stack.pop()\n",
        "\n",
        "\n",
        "                digital=\"\"\n",
        "                while stack and stack[-1].isdigit():\n",
        "                    stack_top=stack.pop()\n",
        "                    digital = stack_top + digital\n",
        "\n",
        "                stack.append(int(digital)*temp_str)\n",
        "\n",
        "        return \"\".join(stack)\n",
        "\n",
        "\n",
        "\n"
      ],
      "metadata": {
        "id": "yALEsZXnKy22"
      },
      "execution_count": 5,
      "outputs": []
    },
    {
      "cell_type": "markdown",
      "source": [
        "2550. Count Collisions of Monkeys on a Polygon\n",
        "\n",
        "O(1)\n",
        "\n",
        "---\n",
        "\n",
        "\n"
      ],
      "metadata": {
        "id": "GGFoxleoK7Vx"
      }
    },
    {
      "cell_type": "code",
      "source": [
        "class Solution:\n",
        "    def monkeyMove(self, n: int) -> int:\n",
        "        mod = 10 ** 9 + 7\n",
        "        return (pow(2, n, mod) + mod - 2) % mod\n",
        "\n",
        "\n",
        "solution = Solution()\n",
        "\n",
        "# Test cases\n",
        "test_cases = [1, 2, 3, 4, 5]\n",
        "\n",
        "\n",
        "for n in test_cases:\n",
        "    result = solution.monkeyMove(n)\n",
        "    print(f\"monkeyMove({n}) = {result}\")"
      ],
      "metadata": {
        "colab": {
          "base_uri": "https://localhost:8080/"
        },
        "id": "d964lfg8NByR",
        "outputId": "41f26b0d-5cb4-404d-bbe1-c882cb58b164"
      },
      "execution_count": 8,
      "outputs": [
        {
          "output_type": "stream",
          "name": "stdout",
          "text": [
            "monkeyMove(1) = 0\n",
            "monkeyMove(2) = 2\n",
            "monkeyMove(3) = 6\n",
            "monkeyMove(4) = 14\n",
            "monkeyMove(5) = 30\n"
          ]
        }
      ]
    }
  ]
}