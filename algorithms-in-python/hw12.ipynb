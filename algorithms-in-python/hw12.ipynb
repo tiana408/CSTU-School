{
  "nbformat": 4,
  "nbformat_minor": 0,
  "metadata": {
    "colab": {
      "provenance": []
    },
    "kernelspec": {
      "name": "python3",
      "display_name": "Python 3"
    },
    "language_info": {
      "name": "python"
    }
  },
  "cells": [
    {
      "cell_type": "markdown",
      "source": [
        "1971. Find if Path Exists in Graph\n",
        " O(V + E),"
      ],
      "metadata": {
        "id": "GFpdJB_EZMte"
      }
    },
    {
      "cell_type": "code",
      "execution_count": 3,
      "metadata": {
        "id": "y-MJVObCYzO9"
      },
      "outputs": [],
      "source": [
        "class Solution:\n",
        "    def validPath(self, n: int, edges: list[list[int]], source: int, destination: int) -> bool:\n",
        "        adj_list = {i:[] for i in range(n)}\n",
        "        for v1,v2 in edges:\n",
        "            adj_list[v1].append(v2)\n",
        "            adj_list[v2].append(v1)\n",
        "        q = deque()\n",
        "        q.append(source)\n",
        "        visit = [0]*n\n",
        "        while q:\n",
        "            curr = q.popleft()\n",
        "            if curr == destination:\n",
        "                return True\n",
        "            if visit[curr]:\n",
        "                continue\n",
        "            visit[curr] = True\n",
        "            for v in adj_list[curr]:\n",
        "                if v == destination:\n",
        "                    return True\n",
        "                elif not visit[v]:\n",
        "                    q.append(v)\n",
        "        return False"
      ]
    }
  ]
}