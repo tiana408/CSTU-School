{
  "nbformat": 4,
  "nbformat_minor": 0,
  "metadata": {
    "colab": {
      "provenance": []
    },
    "kernelspec": {
      "name": "python3",
      "display_name": "Python 3"
    },
    "language_info": {
      "name": "python"
    }
  },
  "cells": [
    {
      "cell_type": "markdown",
      "source": [
        "108. Convert Sorted Array to Binary Search Tree\n",
        "O(n)"
      ],
      "metadata": {
        "id": "USXuJ8Wc3e3z"
      }
    },
    {
      "cell_type": "code",
      "execution_count": null,
      "metadata": {
        "colab": {
          "base_uri": "https://localhost:8080/"
        },
        "id": "nQ8QuJi_3Pro",
        "outputId": "dd69301e-4a0f-4d89-e19b-56d97268f7d6"
      },
      "outputs": [
        {
          "output_type": "stream",
          "name": "stdout",
          "text": [
            "Sorted Array: [-10, -3, 0, 5, 9], BST: 0 (L: -3 (L: -10 (L: None, R: None), R: None), R: 9 (L: 5 (L: None, R: None), R: None))\n",
            "Sorted Array: [1, 2, 3, 4, 5, 6, 7], BST: 4 (L: 2 (L: 1 (L: None, R: None), R: 3 (L: None, R: None)), R: 6 (L: 5 (L: None, R: None), R: 7 (L: None, R: None)))\n",
            "Sorted Array: [1, 3], BST: 3 (L: 1 (L: None, R: None), R: None)\n"
          ]
        }
      ],
      "source": [
        "class TreeNode:\n",
        "    def __init__(self, val=0, left=None, right=None):\n",
        "        self.val = val\n",
        "        self.left = left\n",
        "        self.right = right\n",
        "\n",
        "class Solution:\n",
        "    def sortedArrayToBST(self, nums: list[int]) -> TreeNode:\n",
        "        def cv(node, vals) -> TreeNode:\n",
        "            if vals:\n",
        "                mid = len(vals) // 2\n",
        "                node.val, node.left, node.right = vals[mid], cv(TreeNode(), vals[:mid]), cv(TreeNode(), vals[mid+1:])\n",
        "                return node\n",
        "            else:\n",
        "                return None\n",
        "        return cv(TreeNode(), nums)\n",
        "\n",
        "def printTree(node):\n",
        "    if not node:\n",
        "        return \"None\"\n",
        "    return f'{node.val} (L: {printTree(node.left)}, R: {printTree(node.right)})'\n",
        "\n",
        "# Test cases\n",
        "test_cases = [\n",
        "    [-10, -3, 0, 5, 9],\n",
        "    [1, 2, 3, 4, 5, 6, 7],\n",
        "    [1, 3]\n",
        "]\n",
        "\n",
        "\n",
        "sol = Solution()\n",
        "\n",
        "# Test\n",
        "for nums in test_cases:\n",
        "    bst = sol.sortedArrayToBST(nums)\n",
        "    print(f\"Sorted Array: {nums}, BST: {printTree(bst)}\")\n"
      ]
    },
    {
      "cell_type": "markdown",
      "source": [
        "226. Invert Binary Tree\n",
        "O(n)"
      ],
      "metadata": {
        "id": "Ieo-Pf1-4XAw"
      }
    },
    {
      "cell_type": "code",
      "source": [
        "class Solution:\n",
        "    def invertTree(self, root: Optional[TreeNode]) -> Optional[TreeNode]:\n",
        "        if not root: return root\n",
        "        self.invertTree(root.left)\n",
        "        self.invertTree(root.right)\n",
        "        temp = root.left\n",
        "        root.left = root.right\n",
        "        root.right = temp\n",
        "        return root\n"
      ],
      "metadata": {
        "id": "14_ctVLS4hhY"
      },
      "execution_count": null,
      "outputs": []
    },
    {
      "cell_type": "markdown",
      "source": [
        "700. Search in a Binary Search Tree\n",
        "O(n)"
      ],
      "metadata": {
        "id": "vQbIDFhC5RvI"
      }
    },
    {
      "cell_type": "code",
      "source": [
        "# Definition for a binary tree node.\n",
        "# class TreeNode:\n",
        "#     def __init__(self, val=0, left=None, right=None):\n",
        "#         self.val = val\n",
        "#         self.left = left\n",
        "#         self.right = right\n",
        "class Solution:\n",
        "    def searchBST(self, root: TreeNode, val: int) -> TreeNode:\n",
        "        if not root:\n",
        "            return\n",
        "        if root.val==val:\n",
        "            return root\n",
        "        if root.val<val:\n",
        "            return self.searchBST(root.right,val)\n",
        "        else:\n",
        "            return self.searchBST(root.left,val)\n"
      ],
      "metadata": {
        "id": "llbQhtXb56pi"
      },
      "execution_count": null,
      "outputs": []
    },
    {
      "cell_type": "markdown",
      "source": [
        "897. Increasing Order Search Tree\n",
        "O(n)"
      ],
      "metadata": {
        "id": "a20pn10f6qQs"
      }
    },
    {
      "cell_type": "code",
      "source": [
        "# Definition for a binary tree node.\n",
        "# class TreeNode:\n",
        "#     def __init__(self, val=0, left=None, right=None):\n",
        "#         self.val = val\n",
        "#         self.left = left\n",
        "#         self.right = right\n",
        "class Solution:\n",
        "    def increasingBST(self, root: TreeNode) -> TreeNode:\n",
        "\n",
        "        ans = []\n",
        "        def inorder(node):\n",
        "            if node is None:\n",
        "                return\n",
        "            inorder(node.left)\n",
        "            ans.append(node)\n",
        "            inorder(node.right)\n",
        "        inorder(root)\n",
        "\n",
        "        for i in range(len(ans) - 1):\n",
        "            ans[i].left = None\n",
        "            ans[i].right = ans[i + 1]\n",
        "        ans[len(ans) - 1].left = None\n",
        "        ans[len(ans) - 1].right = None\n",
        "        return ans[0]\n"
      ],
      "metadata": {
        "id": "Yp9XRHu065Jf"
      },
      "execution_count": null,
      "outputs": []
    },
    {
      "cell_type": "markdown",
      "source": [
        "129. Sum Root to Leaf Numbers\n",
        "O(n^2)"
      ],
      "metadata": {
        "id": "oOGnarKy7Fxv"
      }
    },
    {
      "cell_type": "code",
      "source": [
        "# Definition for a binary tree node.\n",
        "# class TreeNode:\n",
        "#     def __init__(self, val=0, left=None, right=None):\n",
        "#         self.val = val\n",
        "#         self.left = left\n",
        "#         self.right = right\n",
        "class Solution:\n",
        "    def sumNumbers(self, root: Optional[TreeNode]) -> int:\n",
        "\n",
        "        final = []\n",
        "        def trav(root,path):\n",
        "            if not root:\n",
        "                return None\n",
        "\n",
        "            if not root.left and not root.right:\n",
        "                final.append(path)\n",
        "\n",
        "            if root.left:\n",
        "                trav(root.left, path + [root.left.val])\n",
        "\n",
        "            if root.right:\n",
        "                trav(root.right, path +  [root.right.val])\n",
        "\n",
        "\n",
        "        trav(root,[root.val])\n",
        "\n",
        "\n",
        "\n",
        "        total = 0\n",
        "        for path in final:\n",
        "            s = 0\n",
        "\n",
        "            for i in path:\n",
        "                s = (s*10) + i\n",
        "\n",
        "            total += s\n",
        "\n",
        "        return total\n",
        "\n",
        "\n"
      ],
      "metadata": {
        "id": "Ij3-bNkg7PQt"
      },
      "execution_count": null,
      "outputs": []
    }
  ]
}