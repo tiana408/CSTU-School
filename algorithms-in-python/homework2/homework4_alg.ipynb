{
  "nbformat": 4,
  "nbformat_minor": 0,
  "metadata": {
    "colab": {
      "provenance": []
    },
    "kernelspec": {
      "name": "python3",
      "display_name": "Python 3"
    },
    "language_info": {
      "name": "python"
    }
  },
  "cells": [
    {
      "cell_type": "markdown",
      "source": [
        "1726. Tuple with Same Product\n",
        "O(N^2)"
      ],
      "metadata": {
        "id": "I91kAmmtm7EQ"
      }
    },
    {
      "cell_type": "code",
      "execution_count": null,
      "metadata": {
        "colab": {
          "base_uri": "https://localhost:8080/"
        },
        "id": "6QD3ZdCJkpES",
        "outputId": "8fca1d67-7a32-4e6e-cae5-7c2441bad0cb"
      },
      "outputs": [
        {
          "output_type": "stream",
          "name": "stdout",
          "text": [
            "8\n",
            "16\n"
          ]
        }
      ],
      "source": [
        "class Solution:\n",
        "    def tupleSameProduct(self, nums):\n",
        "        product_count = {}\n",
        "        for i in range(len(nums)):\n",
        "            for j in range(i + 1, len(nums)):\n",
        "                product = nums[i] * nums[j]\n",
        "                product_count[product] = product_count.get(product, 0) + 1\n",
        "\n",
        "        tuples = 0\n",
        "        for count in product_count.values():\n",
        "            if count > 1:\n",
        "                tuples += 8 * (count * (count - 1) // 2)\n",
        "\n",
        "        return tuples\n",
        "\n",
        "# Testing the solution with the provided examples\n",
        "solution = Solution()\n",
        "example1 = solution.tupleSameProduct([2, 3, 4, 6])\n",
        "example2 = solution.tupleSameProduct([1, 2, 4, 5, 10])\n",
        "\n",
        "print(example1)  # Expected output: 8\n",
        "print(example2)  # Expected output: 16\n"
      ]
    },
    {
      "cell_type": "markdown",
      "source": [
        "20. Valid Parentheses\n",
        "\n",
        "O(n)\n",
        "> Indented block\n",
        "\n"
      ],
      "metadata": {
        "id": "eirpcWiBIuQn"
      }
    },
    {
      "cell_type": "code",
      "source": [
        "def isValid(s: str) -> bool:\n",
        "    stack = []\n",
        "    mapping = {\")\": \"(\", \"}\": \"{\", \"]\": \"[\"}\n",
        "\n",
        "    for char in s:\n",
        "        if char in mapping:\n",
        "            top_element = stack.pop() if stack else '#'\n",
        "            if mapping[char] != top_element:\n",
        "                return False\n",
        "        else:\n",
        "            stack.append(char)\n",
        "\n",
        "    return not stack\n"
      ],
      "metadata": {
        "id": "IrnhuhjhI9xf"
      },
      "execution_count": null,
      "outputs": []
    },
    {
      "cell_type": "markdown",
      "source": [
        "456. 132 Pattern\n",
        "O(n)"
      ],
      "metadata": {
        "id": "M82Y122Z3gBL"
      }
    },
    {
      "cell_type": "code",
      "source": [
        "class Solution:\n",
        "    def find132pattern(self, nums):\n",
        "        if len(nums) < 3:\n",
        "            return False\n",
        "\n",
        "        third = float('-inf')\n",
        "        stack = []\n",
        "\n",
        "        for i in range(len(nums) - 1, -1, -1):\n",
        "            if nums[i] < third:\n",
        "                return True\n",
        "\n",
        "            while stack and nums[i] > stack[-1]:\n",
        "                third = stack.pop()\n",
        "\n",
        "            stack.append(nums[i])\n",
        "\n",
        "        return False\n",
        "\n",
        "# Testing the solution with the provided examples\n",
        "solution = Solution()\n",
        "example1 = solution.find132pattern([1, 2, 3, 4])\n",
        "example2 = solution.find132pattern([3, 1, 4, 2])\n",
        "example3 = solution.find132pattern([-1, 3, 2, 0])\n",
        "\n",
        "print(example1)  # Expected output: False\n",
        "print(example2)  # Expected output: True\n",
        "print(example3)  # Expected output: True\n"
      ],
      "metadata": {
        "colab": {
          "base_uri": "https://localhost:8080/"
        },
        "id": "X7mDbfNK3geE",
        "outputId": "c6c6fd83-dab6-4e62-f6cd-ac2a9f820d6b"
      },
      "execution_count": null,
      "outputs": [
        {
          "output_type": "stream",
          "name": "stdout",
          "text": [
            "False\n",
            "True\n",
            "True\n"
          ]
        }
      ]
    },
    {
      "cell_type": "markdown",
      "source": [
        "844. Backspace String Compare\n",
        "O(n)\n"
      ],
      "metadata": {
        "id": "59nhZt8j5THu"
      }
    },
    {
      "cell_type": "code",
      "source": [
        "class Solution:\n",
        "    def backspaceCompare(self, s: str, t: str) -> bool:\n",
        "        def buildString(string):\n",
        "            result = []\n",
        "            for char in string:\n",
        "                if char != '#':\n",
        "                    result.append(char)\n",
        "                elif result:\n",
        "                    result.pop()\n",
        "            return ''.join(result)\n",
        "\n",
        "        return buildString(s) == buildString(t)\n"
      ],
      "metadata": {
        "id": "T0dpmqEC5Tfw"
      },
      "execution_count": null,
      "outputs": []
    },
    {
      "cell_type": "markdown",
      "source": [
        "1700. Number of Students Unable to Eat Lunch\n",
        "O(n + m)"
      ],
      "metadata": {
        "id": "VcDT7OJMAGxJ"
      }
    },
    {
      "cell_type": "code",
      "source": [
        "class Solution:\n",
        "    def countStudents(self, students, sandwiches):\n",
        "        while sandwiches:\n",
        "            if sandwiches[0] in students:\n",
        "                students.remove(sandwiches.pop(0))\n",
        "            else:\n",
        "                return len(students)\n",
        "        return 0\n",
        "\n",
        "# Testing the function with provided examples\n",
        "solution = Solution()\n",
        "example1 = solution.countStudents([1,1,0,0], [0,1,0,1])\n",
        "example2 = solution.countStudents([1,1,1,0,0,1], [1,0,0,0,1,1])\n",
        "\n",
        "print(example1)  # Expected output: 0\n",
        "print(example2)  # Expected output: 3\n"
      ],
      "metadata": {
        "id": "9aMfXzaIDTp0",
        "outputId": "44e8311c-2ea4-4ef2-caa0-f5c8c4cac17c",
        "colab": {
          "base_uri": "https://localhost:8080/"
        }
      },
      "execution_count": null,
      "outputs": [
        {
          "output_type": "stream",
          "name": "stdout",
          "text": [
            "0\n",
            "3\n"
          ]
        }
      ]
    }
  ]
}