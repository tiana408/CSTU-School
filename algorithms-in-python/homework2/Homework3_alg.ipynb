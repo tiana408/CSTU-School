{
  "nbformat": 4,
  "nbformat_minor": 0,
  "metadata": {
    "colab": {
      "provenance": []
    },
    "kernelspec": {
      "name": "python3",
      "display_name": "Python 3"
    },
    "language_info": {
      "name": "python"
    }
  },
  "cells": [
    {
      "cell_type": "markdown",
      "source": [
        "13. Roman to Integer\n",
        "O(1)"
      ],
      "metadata": {
        "id": "wwQWLEqzhbpb"
      }
    },
    {
      "cell_type": "code",
      "execution_count": 3,
      "metadata": {
        "colab": {
          "base_uri": "https://localhost:8080/"
        },
        "id": "uGW5h9cohSOS",
        "outputId": "d0f90516-d266-4144-e041-7ef7cb20e87b"
      },
      "outputs": [
        {
          "output_type": "stream",
          "name": "stdout",
          "text": [
            "3\n",
            "58\n",
            "1994\n"
          ]
        }
      ],
      "source": [
        "class Solution:\n",
        "    def romanToInt(self, s: str) -> int:\n",
        "        roman_dict = {'I': 1, 'V': 5, 'X': 10, 'L': 50, 'C': 100, 'D': 500, 'M': 1000}\n",
        "\n",
        "        result = 0\n",
        "        i = 0\n",
        "\n",
        "        while i < len(s):\n",
        "\n",
        "            if i + 1 < len(s) and roman_dict[s[i]] < roman_dict[s[i + 1]]:\n",
        "                result += roman_dict[s[i + 1]] - roman_dict[s[i]]\n",
        "                i += 2\n",
        "            else:\n",
        "                result += roman_dict[s[i]]\n",
        "                i += 1\n",
        "\n",
        "        return result\n",
        "\n",
        "\n",
        "solution = Solution()\n",
        "example1 = solution.romanToInt(\"III\")\n",
        "example2 = solution.romanToInt(\"LVIII\")\n",
        "example3 = solution.romanToInt(\"MCMXCIV\")\n",
        "\n",
        "print(example1)\n",
        "print(example2)\n",
        "print(example3)\n"
      ]
    },
    {
      "cell_type": "markdown",
      "source": [
        "1426 is locked. I don't have access. ![Screenshot 2023-11-17 5.52.55 PM.png](data:image/png;base64,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)"
      ],
      "metadata": {
        "id": "JOQtt38vIR0h"
      }
    },
    {
      "cell_type": "markdown",
      "source": [
        "49. Group Anagrams\n"
      ],
      "metadata": {
        "id": "OEbreP3_jQwn"
      }
    },
    {
      "cell_type": "code",
      "source": [
        "class Solution:\n",
        "    def groupAnagrams(self, strs):\n",
        "        anagrams = {}\n",
        "        for s in strs:\n",
        "            key = ''.join(sorted(s))\n",
        "            if key not in anagrams:\n",
        "                anagrams[key] = []\n",
        "            anagrams[key].append(s)\n",
        "        return list(anagrams.values())\n",
        "\n",
        "\n",
        "solution = Solution()\n",
        "example1 = solution.groupAnagrams([\"eat\",\"tea\",\"tan\",\"ate\",\"nat\",\"bat\"])\n",
        "example2 = solution.groupAnagrams([\"\"])\n",
        "example3 = solution.groupAnagrams([\"a\"])\n",
        "\n",
        "print(example1)\n",
        "print(example2)\n",
        "print(example3)\n"
      ],
      "metadata": {
        "colab": {
          "base_uri": "https://localhost:8080/"
        },
        "id": "Au9Nm94Wj6NU",
        "outputId": "9882727d-659f-475a-a648-539b115fc656"
      },
      "execution_count": 4,
      "outputs": [
        {
          "output_type": "stream",
          "name": "stdout",
          "text": [
            "[['eat', 'tea', 'ate'], ['tan', 'nat'], ['bat']]\n",
            "[['']]\n",
            "[['a']]\n"
          ]
        }
      ]
    },
    {
      "cell_type": "markdown",
      "source": [
        "771. Jewels and Stones\n",
        "O(N)"
      ],
      "metadata": {
        "id": "a4FWuyWrkynb"
      }
    },
    {
      "cell_type": "code",
      "source": [
        "class Solution:\n",
        "    def numJewelsInStones(self, jewels: str, stones: str) -> int:\n",
        "        jewels_set = set(jewels)\n",
        "        count = 0\n",
        "\n",
        "        for stone in stones:\n",
        "            if stone in jewels_set:\n",
        "                count += 1\n",
        "\n",
        "        return count\n",
        "\n",
        "\n",
        "solution = Solution()\n",
        "example1 = solution.numJewelsInStones(\"aA\", \"aAAbbbb\")\n",
        "example2 = solution.numJewelsInStones(\"z\", \"ZZ\")\n",
        "\n",
        "print(example1)\n",
        "print(example2)\n"
      ],
      "metadata": {
        "colab": {
          "base_uri": "https://localhost:8080/"
        },
        "id": "YsKaqVxilHVy",
        "outputId": "19be1205-09db-4619-cb26-cf71a129406d"
      },
      "execution_count": 5,
      "outputs": [
        {
          "output_type": "stream",
          "name": "stdout",
          "text": [
            "3\n",
            "0\n"
          ]
        }
      ]
    },
    {
      "cell_type": "markdown",
      "source": [
        "1832. Check if the Sentence Is Pangram\n",
        "O(n)"
      ],
      "metadata": {
        "id": "oYGR2HQ0mHsA"
      }
    },
    {
      "cell_type": "code",
      "source": [
        "class Solution:\n",
        "    def checkIfPangram(self, sentence: str) -> bool:\n",
        "        unique_letters = set(sentence)\n",
        "        return len(unique_letters) == 26\n",
        "\n",
        "\n",
        "solution = Solution()\n",
        "example1 = solution.checkIfPangram(\"thequickbrownfoxjumpsoverthelazydog\")\n",
        "example2 = solution.checkIfPangram(\"leetcode\")\n",
        "\n",
        "print(example1)\n",
        "print(example2)\n"
      ],
      "metadata": {
        "colab": {
          "base_uri": "https://localhost:8080/"
        },
        "id": "rHtb8nJCmbT9",
        "outputId": "f40edc0d-a9c9-401d-f674-edc18604ab05"
      },
      "execution_count": 6,
      "outputs": [
        {
          "output_type": "stream",
          "name": "stdout",
          "text": [
            "True\n",
            "False\n"
          ]
        }
      ]
    }
  ]
}