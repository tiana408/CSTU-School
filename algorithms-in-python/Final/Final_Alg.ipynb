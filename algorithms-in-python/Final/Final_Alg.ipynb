{
  "nbformat": 4,
  "nbformat_minor": 0,
  "metadata": {
    "colab": {
      "provenance": []
    },
    "kernelspec": {
      "name": "python3",
      "display_name": "Python 3"
    },
    "language_info": {
      "name": "python"
    }
  },
  "cells": [
    {
      "cell_type": "markdown",
      "source": [
        "876. Middle of the Linked List\n",
        "Space complexity O(1)\n",
        "Time complexity O(n)"
      ],
      "metadata": {
        "id": "NX_OUuxrnWHI"
      }
    },
    {
      "cell_type": "code",
      "execution_count": 1,
      "metadata": {
        "id": "9EyaLxlfnUMg"
      },
      "outputs": [],
      "source": [
        "from typing import Optional\n",
        "\n",
        "# Definition for singly-linked list.\n",
        "class ListNode:\n",
        "    def __init__(self, val=0, next=None):\n",
        "        self.val = val\n",
        "        self.next = next\n",
        "\n",
        "class Solution:\n",
        "    def middleNode(self, head: Optional[ListNode]) -> Optional[ListNode]:\n",
        "        slow = head\n",
        "        fast = head\n",
        "        while fast is not None and fast.next is not None:\n",
        "            slow = slow.next\n",
        "            fast = fast.next.next\n",
        "\n",
        "        return slow\n"
      ]
    },
    {
      "cell_type": "markdown",
      "source": [
        "1642. Furthest Building You Can Reach\n",
        "\n"
      ],
      "metadata": {
        "id": "BAfYWtZcpHWv"
      }
    },
    {
      "cell_type": "code",
      "source": [
        "\n",
        "from heapq import heappush, heappop, heapify\n",
        "\n",
        "class Solution:\n",
        "\tdef furthestBuilding(self, heights: list[int], bricks: int, ladders: int) -> int:\n",
        "\t\tminHeap = []\n",
        "\t\theapify(minHeap)\n",
        "\t\tfor i in range(len(heights)-1):\n",
        "\t\t\tdiff = heights[i+1]-heights[i]\n",
        "\t\t\tif diff > 0:\n",
        "\t\t\t\theappush(minHeap, diff)\n",
        "\t\t\tif len(minHeap) > ladders:\n",
        "\t\t\t\tbricks -= heappop(minHeap)\n",
        "\t\t\tif bricks < 0:\n",
        "\t\t\t\treturn i\n",
        "\t\treturn len(heights)-1"
      ],
      "metadata": {
        "id": "h77C6QRSpjub"
      },
      "execution_count": 2,
      "outputs": []
    },
    {
      "cell_type": "markdown",
      "source": [
        "1048. Longest String Chain\n",
        "Time: O(n * m^2)\n",
        "Space: O(n)"
      ],
      "metadata": {
        "id": "rkR_A9XVyoW9"
      }
    },
    {
      "cell_type": "code",
      "source": [
        "class Solution:\n",
        "    def longestStrChain(self, words: list[str]) -> int:\n",
        "        dp={}\n",
        "        for word in sorted(words,key=len):\n",
        "            temp=[0]\n",
        "            n=len(word)\n",
        "            for i in range(n):\n",
        "                if word[:i]+word[i+1:] in dp:\n",
        "                    temp.append(dp[word[:i]+word[i+1:]])\n",
        "                dp[word]=max(temp)+1\n",
        "        return max(dp.values())"
      ],
      "metadata": {
        "id": "EI_lqRrdzBcE"
      },
      "execution_count": 3,
      "outputs": []
    },
    {
      "cell_type": "markdown",
      "source": [
        "101. Symmetric Tree\n",
        "\n",
        "Time: O(n)\n",
        "Space: O(n)"
      ],
      "metadata": {
        "id": "nMGHumLf0MQG"
      }
    },
    {
      "cell_type": "code",
      "source": [
        "from typing import Optional\n",
        "\n",
        "# Definition for a binary tree node.\n",
        "class TreeNode:\n",
        "    def __init__(self, val=0, left=None, right=None):\n",
        "        self.val = val\n",
        "        self.left = left\n",
        "        self.right = right\n",
        "\n",
        "class Solution:\n",
        "    def isSymmetric(self, root: Optional[TreeNode]) -> bool:\n",
        "        def isSmallSymmetric(a, b):\n",
        "            if a is None and b is None:\n",
        "                return True\n",
        "            if a is None or b is None:\n",
        "                return False\n",
        "            if a.val == b.val:\n",
        "                return isSmallSymmetric(a.left, b.right) and isSmallSymmetric(a.right, b.left)\n",
        "            return False\n",
        "\n",
        "        return isSmallSymmetric(root.left, root.right) if root else True\n"
      ],
      "metadata": {
        "id": "_pJiTTWA0M4E"
      },
      "execution_count": 4,
      "outputs": []
    },
    {
      "cell_type": "markdown",
      "source": [
        "34. Find First and Last Position of Element in Sorted Array\n",
        "Time: O(n)\n",
        "Space: O(1)"
      ],
      "metadata": {
        "id": "CI7cFvsh3HYd"
      }
    },
    {
      "cell_type": "code",
      "source": [
        "class Solution:\n",
        "    def searchRange(self, nums: list[int], target: int) -> list[int]:\n",
        "        n=len(nums)\n",
        "        left=0\n",
        "        right=n-1\n",
        "        if target in nums:\n",
        "            for i in range(0,n):\n",
        "                if nums[left]==nums[right]:\n",
        "                    return [left,right]\n",
        "                elif nums[left]<target:\n",
        "                    left+=1\n",
        "                else:\n",
        "                    right-=1\n",
        "        else:\n",
        "            return [-1,-1]"
      ],
      "metadata": {
        "id": "JmhCsgus6aU9"
      },
      "execution_count": 5,
      "outputs": []
    }
  ]
}