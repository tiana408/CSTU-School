{
  "nbformat": 4,
  "nbformat_minor": 0,
  "metadata": {
    "colab": {
      "provenance": []
    },
    "kernelspec": {
      "name": "python3",
      "display_name": "Python 3"
    },
    "language_info": {
      "name": "python"
    }
  },
  "cells": [
    {
      "cell_type": "markdown",
      "source": [
        "1337. The K Weakest Rows in a Matrix\n",
        "\n",
        "O(n)\n",
        "\n"
      ],
      "metadata": {
        "id": "hUWVWxd1SBAn"
      }
    },
    {
      "cell_type": "code",
      "execution_count": null,
      "metadata": {
        "id": "JuV8COgKRq6c"
      },
      "outputs": [],
      "source": [
        "class Solution:\n",
        "    def kWeakestRows(self, mat: list[list[int]],\n",
        "                                   k: int) -> list[int]:\n",
        "\n",
        "            return sorted(range(len(mat)),\n",
        "                        key = lambda x: sum(mat[x]))[:k]"
      ]
    },
    {
      "cell_type": "markdown",
      "source": [
        "1696. Jump Game VI\n",
        "O(n)"
      ],
      "metadata": {
        "id": "X3rHfH2TULG6"
      }
    },
    {
      "cell_type": "code",
      "source": [
        "class Solution:\n",
        "    def maxResult(self, nums: list[int], k: int) -> int:\n",
        "        dq = collections.deque([0])\n",
        "        res = 0\n",
        "\n",
        "        for i in range(1, len(nums)):\n",
        "            while dq and dq[0] < i - k:\n",
        "                dq.popleft()\n",
        "\n",
        "            nums[i] += nums[dq[0]]\n",
        "\n",
        "            while dq and nums[i] >= nums[dq[-1]]:\n",
        "                dq.pop()\n",
        "\n",
        "            dq.append(i)\n",
        "\n",
        "        return nums[-1]"
      ],
      "metadata": {
        "id": "boScX5pSUkTs"
      },
      "execution_count": 3,
      "outputs": []
    },
    {
      "cell_type": "markdown",
      "source": [
        "791. Custom Sort String\n",
        " O(n log n)"
      ],
      "metadata": {
        "id": "iwGsdW2kU6zV"
      }
    },
    {
      "cell_type": "code",
      "source": [
        "class Solution:\n",
        "    def customSortString(self, order: str, s: str) -> str:\n",
        "        dic={}\n",
        "        dic1={}\n",
        "        rem=\"\"\n",
        "        lis=[]\n",
        "        for i in range(len(order)):\n",
        "            dic[order[i]]=i\n",
        "        for i in dic:\n",
        "            dic1[dic[i]]=i\n",
        "        for i in s:\n",
        "            if i in dic:\n",
        "                lis.append(dic[i])\n",
        "            else:\n",
        "                rem+=i\n",
        "        lis.sort()\n",
        "        for i in lis:\n",
        "            rem+=dic1[i]\n",
        "        return rem"
      ],
      "metadata": {
        "id": "3mugQ9viWMI_"
      },
      "execution_count": 4,
      "outputs": []
    },
    {
      "cell_type": "markdown",
      "source": [
        "33. Search in Rotated Sorted Array\n",
        "O(1)"
      ],
      "metadata": {
        "id": "13o5GL5aWgIQ"
      }
    },
    {
      "cell_type": "code",
      "source": [
        "class Solution:\n",
        "    def search(self, nums: list[int], target: int) -> int:\n",
        "        l, r = 0, len(nums) - 1\n",
        "\n",
        "        while l <= r:\n",
        "            m = (l + r) // 2\n",
        "\n",
        "            if nums[m] == target: return m\n",
        "            elif nums[l] <= nums[m]:\n",
        "                l, r = (l, m - 1) if nums[l] <= target < nums[m] else (m + 1, r)\n",
        "            else:\n",
        "                l, r = (m + 1, r) if nums[m] < target <= nums[r] else (l, m - 1)\n",
        "\n",
        "        return -1\n"
      ],
      "metadata": {
        "id": "ciNyIIU7WwE3"
      },
      "execution_count": 5,
      "outputs": []
    },
    {
      "cell_type": "markdown",
      "source": [
        "378. Kth Smallest Element in a Sorted Matrix\n",
        "O(n)"
      ],
      "metadata": {
        "id": "gILiI859W-Zt"
      }
    },
    {
      "cell_type": "code",
      "source": [
        "class Solution:\n",
        "    def kthSmallest(self, matrix: list[list[int]], k: int) -> int:\n",
        "        seen = []\n",
        "        for row in matrix:\n",
        "            for value in row:\n",
        "                seen.append(value)\n",
        "        seen = sorted(seen)\n",
        "        return seen[k-1]"
      ],
      "metadata": {
        "id": "sww2wh8cYDP8"
      },
      "execution_count": 7,
      "outputs": []
    }
  ]
}