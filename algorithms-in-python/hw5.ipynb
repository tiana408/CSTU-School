{
  "nbformat": 4,
  "nbformat_minor": 0,
  "metadata": {
    "colab": {
      "provenance": []
    },
    "kernelspec": {
      "name": "python3",
      "display_name": "Python 3"
    },
    "language_info": {
      "name": "python"
    }
  },
  "cells": [
    {
      "cell_type": "markdown",
      "source": [
        "303. Range Sum Query - Immutable\n",
        "O(1)"
      ],
      "metadata": {
        "id": "a6sDf7qyUqgz"
      }
    },
    {
      "cell_type": "code",
      "execution_count": 2,
      "metadata": {
        "id": "gKbNrVmPUiEi"
      },
      "outputs": [],
      "source": [
        "from typing import List\n",
        "\n",
        "\n",
        "class NumArray:\n",
        "\n",
        "    def __init__(self, nums: List[int]):\n",
        "        arr = [nums[0]]\n",
        "        for i in range(1,len(nums)):\n",
        "            arr.append(arr[-1]+nums[i])\n",
        "        self.arr = arr\n",
        "\n",
        "\n",
        "\n",
        "    def sumRange(self, left: int, right: int) -> int:\n",
        "        if left == 0:\n",
        "            return self.arr[right]\n",
        "        return self.arr[right] - self.arr[left - 1]\n",
        "\n",
        "\n",
        "\n",
        "\n",
        "\n",
        "\n"
      ]
    }
  ]
}