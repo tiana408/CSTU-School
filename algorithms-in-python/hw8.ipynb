{
  "nbformat": 4,
  "nbformat_minor": 0,
  "metadata": {
    "colab": {
      "provenance": []
    },
    "kernelspec": {
      "name": "python3",
      "display_name": "Python 3"
    },
    "language_info": {
      "name": "python"
    }
  },
  "cells": [
    {
      "cell_type": "markdown",
      "source": [
        "1763. Longest Nice Substring\n",
        "\n",
        "O(n)"
      ],
      "metadata": {
        "id": "UAp4sGcvPr_R"
      }
    },
    {
      "cell_type": "code",
      "source": [
        "class Solution:\n",
        "    def longestNiceSubstring(self, s: str) -> str:\n",
        "\n",
        "        if len(s)<2:\n",
        "            return \"\"\n",
        "        valid=True\n",
        "        for i in range(len(s)):\n",
        "            if ord(s[i])>95 and s[i].upper() in s:\n",
        "                    continue\n",
        "            elif ord(s[i])<95 and s[i].lower() in s:\n",
        "                    continue\n",
        "            else:\n",
        "                valid=False\n",
        "                break\n",
        "        if  valid:\n",
        "            return s\n",
        "        else:\n",
        "            right=self.longestNiceSubstring(s[:i])\n",
        "            left=self.longestNiceSubstring(s[i+1:])\n",
        "\n",
        "            if len(left)<=len(right):\n",
        "                return right\n",
        "            else:\n",
        "                return left\n",
        "\n",
        "solution = Solution()\n",
        "\n",
        "# Test cases\n",
        "test_cases = [\"YazaAay\", \"Bb\", \"c\", \"dDzeE\", \"aAa\", \"\"]\n",
        "\n",
        "\n",
        "for test_str in test_cases:\n",
        "    result = solution.longestNiceSubstring(test_str)\n",
        "    print(f\"longestNiceSubstring('{test_str}') = '{result}'\")"
      ],
      "metadata": {
        "colab": {
          "base_uri": "https://localhost:8080/"
        },
        "id": "6JN9TcQeQn1s",
        "outputId": "fad7d8eb-adef-4c4b-d24d-87ad78d0699b"
      },
      "execution_count": 3,
      "outputs": [
        {
          "output_type": "stream",
          "name": "stdout",
          "text": [
            "longestNiceSubstring('YazaAay') = 'aAa'\n",
            "longestNiceSubstring('Bb') = 'Bb'\n",
            "longestNiceSubstring('c') = ''\n",
            "longestNiceSubstring('dDzeE') = 'dD'\n",
            "longestNiceSubstring('aAa') = 'aAa'\n",
            "longestNiceSubstring('') = ''\n"
          ]
        }
      ]
    },
    {
      "cell_type": "markdown",
      "source": [
        "932. Beautiful Array\n",
        "O(log n)"
      ],
      "metadata": {
        "id": "VwaIXkWkRUjf"
      }
    },
    {
      "cell_type": "code",
      "source": [
        "class Solution:\n",
        "    def beautifulArray(self, n: int) -> list[int]:\n",
        "        res=[1]\n",
        "        while len(res)<n :\n",
        "            odd=[2*i-1 for i in res]\n",
        "            even=[2*i for i in res]\n",
        "            res=odd+even\n",
        "        return [i for i in res if i<=n]\n",
        "\n",
        "solution = Solution()\n",
        "\n",
        "# Test cases\n",
        "test_cases = [1, 2, 3, 4, 5, 10]\n",
        "\n",
        "\n",
        "for n in test_cases:\n",
        "    result = solution.beautifulArray(n)\n",
        "    print(f\"beautifulArray({n}) = {result}\")"
      ],
      "metadata": {
        "colab": {
          "base_uri": "https://localhost:8080/"
        },
        "id": "Azq61y66R_yK",
        "outputId": "6453f4da-3d32-4d25-dc4c-efcd1ea40820"
      },
      "execution_count": 5,
      "outputs": [
        {
          "output_type": "stream",
          "name": "stdout",
          "text": [
            "beautifulArray(1) = [1]\n",
            "beautifulArray(2) = [1, 2]\n",
            "beautifulArray(3) = [1, 3, 2]\n",
            "beautifulArray(4) = [1, 3, 2, 4]\n",
            "beautifulArray(5) = [1, 5, 3, 2, 4]\n",
            "beautifulArray(10) = [1, 9, 5, 3, 7, 2, 10, 6, 4, 8]\n"
          ]
        }
      ]
    },
    {
      "cell_type": "markdown",
      "source": [
        "2864. Maximum Odd Binary Number\n",
        "O(n)"
      ],
      "metadata": {
        "id": "VfklRAmASUWv"
      }
    },
    {
      "cell_type": "code",
      "source": [
        "class Solution:\n",
        "    def maximumOddBinaryNumber(self, s: str) -> str:\n",
        "        one=s.count(\"1\")\n",
        "        res=(\"1\"*(one-1))+(\"0\"*(len(s)-one))+\"1\"\n",
        "        return res\n",
        "\n",
        "solution = Solution()\n",
        "\n",
        "# Test cases\n",
        "test_cases = [\"1101\", \"1010\", \"1111\", \"0000\", \"1001\"]\n",
        "\n",
        "for s in test_cases:\n",
        "    result = solution.maximumOddBinaryNumber(s)\n",
        "    print(f\"maximumOddBinaryNumber('{s}') = '{result}'\")"
      ],
      "metadata": {
        "colab": {
          "base_uri": "https://localhost:8080/"
        },
        "id": "e2JdLqLhSWCE",
        "outputId": "9a8a5337-bc9e-49ec-f816-c668cb269cec"
      },
      "execution_count": 7,
      "outputs": [
        {
          "output_type": "stream",
          "name": "stdout",
          "text": [
            "maximumOddBinaryNumber('1101') = '1101'\n",
            "maximumOddBinaryNumber('1010') = '1001'\n",
            "maximumOddBinaryNumber('1111') = '1111'\n",
            "maximumOddBinaryNumber('0000') = '00001'\n",
            "maximumOddBinaryNumber('1001') = '1001'\n"
          ]
        }
      ]
    },
    {
      "cell_type": "markdown",
      "source": [
        "2591. Distribute Money to Maximum Children\n",
        "O(1)"
      ],
      "metadata": {
        "id": "9MAwOkcSTBr_"
      }
    },
    {
      "cell_type": "code",
      "source": [
        "class Solution:\n",
        "    def distMoney(self, money: int, children: int) -> int:\n",
        "        if children>money:\n",
        "            return -1\n",
        "        if money>8*children:\n",
        "            return children-1\n",
        "        money-=children\n",
        "        if children-money//7==1 and money%7==3:\n",
        "            return money//7-1\n",
        "        return money//7\n",
        "\n",
        "solution = Solution()\n",
        "\n",
        "# Test cases\n",
        "test_cases = [(10, 3), (7, 1), (20, 5), (3, 4), (30, 10)]\n",
        "\n",
        "\n",
        "for money, children in test_cases:\n",
        "    result = solution.distMoney(money, children)\n",
        "    print(f\"distMoney({money}, {children}) = {result}\")"
      ],
      "metadata": {
        "colab": {
          "base_uri": "https://localhost:8080/"
        },
        "id": "rF6xs8_kTCJ1",
        "outputId": "fb1f25b4-13d5-4c98-975e-0ef9899b22db"
      },
      "execution_count": 8,
      "outputs": [
        {
          "output_type": "stream",
          "name": "stdout",
          "text": [
            "distMoney(10, 3) = 1\n",
            "distMoney(7, 1) = 0\n",
            "distMoney(20, 5) = 2\n",
            "distMoney(3, 4) = -1\n",
            "distMoney(30, 10) = 2\n"
          ]
        }
      ]
    },
    {
      "cell_type": "markdown",
      "source": [
        "435. Non-overlapping Intervals\n",
        "O(n)"
      ],
      "metadata": {
        "id": "iTx7kzIVVk-d"
      }
    },
    {
      "cell_type": "code",
      "source": [
        "class Solution:\n",
        "    def eraseOverlapIntervals(self, intervals: list[list[int]]) -> int:\n",
        "        cnt = 0\n",
        "        inn = sorted(intervals, key=lambda x: x[0], reverse=True)\n",
        "        ans = [inn[0]]\n",
        "        for s, e in inn[1:]:\n",
        "            if ans[-1][0] >= e:\n",
        "                ans.append([s, e])\n",
        "            else:\n",
        "                cnt += 1\n",
        "        return cnt\n",
        "\n",
        "solution = Solution()\n",
        "\n",
        "# Test cases\n",
        "test_cases = [\n",
        "    [[1,2], [2,3], [3,4], [1,3]],\n",
        "    [[1,2], [1,2], [1,2]],\n",
        "    [[1,2], [2,3]],\n",
        "    [[1,3], [2,4], [3,5], [4,6]]\n",
        "]\n",
        "\n",
        "\n",
        "for intervals in test_cases:\n",
        "    result = solution.eraseOverlapIntervals(intervals)\n",
        "    print(f\"eraseOverlapIntervals({intervals}) = {result}\")"
      ],
      "metadata": {
        "colab": {
          "base_uri": "https://localhost:8080/"
        },
        "id": "JirEMqJxWU9B",
        "outputId": "63634bd4-da6f-4cf0-bf59-edbaadc04083"
      },
      "execution_count": 11,
      "outputs": [
        {
          "output_type": "stream",
          "name": "stdout",
          "text": [
            "eraseOverlapIntervals([[1, 2], [2, 3], [3, 4], [1, 3]]) = 1\n",
            "eraseOverlapIntervals([[1, 2], [1, 2], [1, 2]]) = 2\n",
            "eraseOverlapIntervals([[1, 2], [2, 3]]) = 0\n",
            "eraseOverlapIntervals([[1, 3], [2, 4], [3, 5], [4, 6]]) = 2\n"
          ]
        }
      ]
    }
  ]
}