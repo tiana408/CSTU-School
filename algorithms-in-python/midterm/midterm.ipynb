{
  "nbformat": 4,
  "nbformat_minor": 0,
  "metadata": {
    "colab": {
      "provenance": []
    },
    "kernelspec": {
      "name": "python3",
      "display_name": "Python 3"
    },
    "language_info": {
      "name": "python"
    }
  },
  "cells": [
    {
      "cell_type": "markdown",
      "source": [
        "415. Add Strings\n",
        "\n",
        "Time complexity: O(n)\n",
        "Memory complexity: O(n)\n"
      ],
      "metadata": {
        "id": "V_tTQWHDvLCV"
      }
    },
    {
      "cell_type": "code",
      "source": [
        "class Solution(object):\n",
        "    def addStrings(self, num1, num2):\n",
        "        \"\"\"\n",
        "        :type num1: str\n",
        "        :type num2: str\n",
        "        :rtype: str\n",
        "        \"\"\"\n",
        "\n",
        "        i, j = len(num1) - 1, len(num2) - 1\n",
        "        carry = 0\n",
        "        result = []\n",
        "\n",
        "\n",
        "        while i >= 0 or j >= 0 or carry:\n",
        "            total = carry\n",
        "\n",
        "            if i >= 0:\n",
        "                total += int(num1[i])\n",
        "                i -= 1\n",
        "\n",
        "            if j >= 0:\n",
        "                total += int(num2[j])\n",
        "                j -= 1\n",
        "\n",
        "\n",
        "            carry = total // 10\n",
        "\n",
        "\n",
        "            result.append(str(total % 10))\n",
        "\n",
        "\n",
        "        return ''.join(reversed(result))\n",
        "\n",
        "\n",
        "sol = Solution()\n",
        "print(sol.addStrings(\"11\", \"123\"))\n",
        "print(sol.addStrings(\"456\", \"77\"))\n",
        "print(sol.addStrings(\"0\", \"0\"))\n"
      ],
      "metadata": {
        "colab": {
          "base_uri": "https://localhost:8080/"
        },
        "id": "6cK0fzLuvJAb",
        "outputId": "13769fbf-cf1a-45c8-fda0-3439ead31e3d"
      },
      "execution_count": null,
      "outputs": [
        {
          "output_type": "stream",
          "name": "stdout",
          "text": [
            "134\n",
            "533\n",
            "0\n"
          ]
        }
      ]
    },
    {
      "cell_type": "markdown",
      "source": [
        "202. Happy Number\n",
        "\n",
        "Time complexity: O(log n)\n",
        "Memory complexity: O(log n)\n"
      ],
      "metadata": {
        "id": "Ac1ij_luvXPq"
      }
    },
    {
      "cell_type": "code",
      "source": [
        "class Solution:\n",
        "    def isHappy(self, n: int) -> bool:\n",
        "        def get_next(number):\n",
        "\n",
        "            total_sum = 0\n",
        "            while number > 0:\n",
        "                digit = number % 10\n",
        "                total_sum += digit ** 2\n",
        "                number //= 10\n",
        "            return total_sum\n",
        "\n",
        "        seen = set()\n",
        "        while n != 1 and n not in seen:\n",
        "            seen.add(n)\n",
        "            n = get_next(n)\n",
        "\n",
        "        return n == 1\n",
        "\n",
        "\n",
        "sol = Solution()\n",
        "print(sol.isHappy(19))\n",
        "print(sol.isHappy(2))\n"
      ],
      "metadata": {
        "colab": {
          "base_uri": "https://localhost:8080/"
        },
        "id": "SbVTk0UMvWIN",
        "outputId": "d33364b4-f904-4378-8d48-f72c82ec874a"
      },
      "execution_count": null,
      "outputs": [
        {
          "output_type": "stream",
          "name": "stdout",
          "text": [
            "True\n",
            "False\n"
          ]
        }
      ]
    },
    {
      "cell_type": "markdown",
      "source": [
        "128. Longest Consecutive Sequence\n",
        "\n",
        "Time complexity: O(n)\n",
        "Memory complexity: O(n)\n"
      ],
      "metadata": {
        "id": "GZpMl9vVvlHe"
      }
    },
    {
      "cell_type": "code",
      "source": [
        "class Solution:\n",
        "    def longestConsecutive(self, nums: list[int]) -> int:\n",
        "        if not nums:\n",
        "            return 0\n",
        "\n",
        "        num_set = set(nums)\n",
        "        longest_streak = 0\n",
        "\n",
        "        for num in num_set:\n",
        "\n",
        "            if num - 1 not in num_set:\n",
        "                current_num = num\n",
        "                current_streak = 1\n",
        "\n",
        "\n",
        "                while current_num + 1 in num_set:\n",
        "                    current_num += 1\n",
        "                    current_streak += 1\n",
        "\n",
        "                longest_streak = max(longest_streak, current_streak)\n",
        "\n",
        "        return longest_streak\n",
        "\n",
        "\n",
        "sol = Solution()\n",
        "print(sol.longestConsecutive([100, 4, 200, 1, 3, 2]))\n",
        "print(sol.longestConsecutive([0,3,7,2,5,8,4,6,0,1]))\n"
      ],
      "metadata": {
        "colab": {
          "base_uri": "https://localhost:8080/"
        },
        "id": "ibPFygakvipS",
        "outputId": "e66bc272-b684-4f1b-ec5d-70107dbfccb2"
      },
      "execution_count": null,
      "outputs": [
        {
          "output_type": "stream",
          "name": "stdout",
          "text": [
            "4\n",
            "9\n"
          ]
        }
      ]
    },
    {
      "cell_type": "markdown",
      "source": [
        "1047. Remove All Adjacent Duplicates In String\n",
        "\n",
        "Time complexity: O(n)\n",
        "Memory complexity: O(n)\n",
        "\n"
      ],
      "metadata": {
        "id": "hkxhozqLwEoN"
      }
    },
    {
      "cell_type": "code",
      "execution_count": null,
      "metadata": {
        "id": "ONtsTz1GwAEt",
        "colab": {
          "base_uri": "https://localhost:8080/"
        },
        "outputId": "d8b33cda-f84b-4cf0-ab29-491d6d6aa89c"
      },
      "outputs": [
        {
          "output_type": "stream",
          "name": "stdout",
          "text": [
            "ca\n",
            "ay\n"
          ]
        }
      ],
      "source": [
        "class Solution:\n",
        "    def removeDuplicates(self, s: str) -> str:\n",
        "        stack = []\n",
        "\n",
        "        for char in s:\n",
        "            if stack and stack[-1] == char:\n",
        "                stack.pop()\n",
        "            else:\n",
        "                stack.append(char)\n",
        "\n",
        "        return ''.join(stack)\n",
        "\n",
        "\n",
        "sol = Solution()\n",
        "print(sol.removeDuplicates(\"abbaca\"))\n",
        "print(sol.removeDuplicates(\"azxxzy\"))\n"
      ]
    },
    {
      "cell_type": "markdown",
      "source": [
        "2073. Time Needed to Buy Tickets\n",
        "\n",
        "Time complexity: O(n)\n",
        "Memory complexity: O(1)\n"
      ],
      "metadata": {
        "id": "xcZphG7UwD5b"
      }
    },
    {
      "cell_type": "code",
      "source": [
        "class Solution:\n",
        "    def timeRequiredToBuy(self, tickets: list[int], k: int) -> int:\n",
        "        time = 0\n",
        "        while tickets[k] > 0:\n",
        "\n",
        "            for i in range(len(tickets)):\n",
        "                if tickets[i] > 0:\n",
        "\n",
        "                    tickets[i] -= 1\n",
        "\n",
        "                    time += 1\n",
        "                if tickets[k] == 0:\n",
        "\n",
        "                    return time\n",
        "\n",
        "sol = Solution()\n",
        "print(sol.timeRequiredToBuy([2, 3, 2], 2))\n",
        "print(sol.timeRequiredToBuy([5, 1, 1, 1], 0))\n"
      ],
      "metadata": {
        "colab": {
          "base_uri": "https://localhost:8080/"
        },
        "id": "BMAgx7okwf9R",
        "outputId": "b1e02303-8574-49a5-a5cb-bd0dab592a9d"
      },
      "execution_count": null,
      "outputs": [
        {
          "output_type": "stream",
          "name": "stdout",
          "text": [
            "6\n",
            "8\n"
          ]
        }
      ]
    }
  ]
}