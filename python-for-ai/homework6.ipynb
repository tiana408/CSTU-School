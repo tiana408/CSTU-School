{
  "nbformat": 4,
  "nbformat_minor": 0,
  "metadata": {
    "colab": {
      "provenance": []
    },
    "kernelspec": {
      "name": "python3",
      "display_name": "Python 3"
    },
    "language_info": {
      "name": "python"
    }
  },
  "cells": [
    {
      "cell_type": "markdown",
      "source": [
        "1. What would be the O(...) of the following expression:\n",
        "\n",
        "5 + 0.001n^ 3 + 0.025n\n",
        "\n",
        "500n + 100n^2 + 50n * log n\n",
        "\n",
        "0.3n + 5n^1.5 + 2.5 * n\n",
        "\n",
        "1.75 n^ 2 * log n + n * (log n)\n",
        "\n",
        "100n + 0.01n^2\n",
        "\n",
        "0.01n + 100n^2\n",
        "\n",
        "2n + n^ 0.5 + 0.5n^1.25\n",
        "\n",
        "100n log n + n^ 3 + 100n\n"
      ],
      "metadata": {
        "id": "tYizcUntmRyU"
      }
    },
    {
      "cell_type": "markdown",
      "source": [
        "O(n^3)\n",
        "\n",
        "O(n^2)\n",
        "\n",
        "O(n^1.5)\n",
        "\n",
        "O(n^2*log (n))\n",
        "\n",
        "O(n^2)\n",
        "\n",
        "O(n^2)\n",
        "\n",
        "O(n^1.25)\n",
        "\n",
        "O(n^3)"
      ],
      "metadata": {
        "id": "3ocuzWKlnvPV"
      }
    },
    {
      "cell_type": "markdown",
      "source": [
        "2.\n",
        "What is the complexities of the following code:\n"
      ],
      "metadata": {
        "id": "FtyYod7IomqX"
      }
    },
    {
      "cell_type": "markdown",
      "source": [
        "# **A)**\n",
        "#Define the linear search function\n",
        "def search(lst, x):\n",
        "    \n",
        "    for i in range(len(lst)):\n",
        "\n",
        "        if lst[i] == x:\n",
        "            return i\n",
        "\n",
        "    return -1\n",
        "\n",
        "#Let's give it a try\n",
        "lst = [\"a\",\"b\",\"c\",\"find me\",\"d\"]\n",
        "\n",
        "print(search(lst, \"find me\"))\n",
        "\n",
        "(assume the problem size is n)\n"
      ],
      "metadata": {
        "id": "Snf7VWM7o0EF"
      }
    },
    {
      "cell_type": "markdown",
      "source": [
        "**ANSWER: The complexity of this code is O(n)**"
      ],
      "metadata": {
        "id": "kCf1135CqCmQ"
      }
    },
    {
      "cell_type": "markdown",
      "source": [
        "# **B)**\n",
        "def print_squares(lst):\n",
        "\n",
        "    for a in lst:\n",
        "\n",
        "        print(a)\n",
        "\n",
        "    for a in lst:\n",
        "\n",
        "        for b in lst:\n",
        "\n",
        "            print(a * b)\n",
        "\n",
        "(assume the len of the lst is n)\n"
      ],
      "metadata": {
        "id": "KbEn3DjjqXDs"
      }
    },
    {
      "cell_type": "markdown",
      "source": [
        "**ANSWER: The nested loop makes the complexity, O(n^2) **"
      ],
      "metadata": {
        "id": "GLTFL09jqanq"
      }
    },
    {
      "cell_type": "markdown",
      "source": [
        "# **C)**\n",
        "\n",
        "\n",
        "a = 0\n",
        "\n",
        "b = 0\n",
        "\n",
        "for i in range(N):\n",
        "\n",
        "a = a + random()\n",
        "\n",
        "\n",
        "for i in range(M):\n",
        "\n",
        "b= b + random()\n",
        "\n",
        "\n",
        "(assume the size of the problem is M+N)\n"
      ],
      "metadata": {
        "id": "OTVg4cBVrS0k"
      }
    },
    {
      "cell_type": "markdown",
      "source": [
        "**ANSWER: O(N) + O(M) or O(M + N). **"
      ],
      "metadata": {
        "id": "NpkEajqWrqQy"
      }
    },
    {
      "cell_type": "markdown",
      "source": [
        "The following code that reduces the size of the input data in each step by half, which is called the Binary Search. Binary Search is a searching algorithm for finding an element's position in a sorted array.\n",
        "\n",
        "\n",
        "def binary_search(arr, element):\n",
        "\n",
        "    left = 0\n",
        "    right = len(arr)-1\n",
        "    while(left <= right):\n",
        "        mid = (left + right)//2\n",
        "        if arr[mid] == element:\n",
        "            return mid\n",
        "        if arr[mid] < element:\n",
        "            left = mid +1\n",
        "        else:\n",
        "            right = mid -1\n",
        "    return -1\n",
        "\n",
        "print(binary_search([1,2,3,4,5,6,7,8,9], 8))\n"
      ],
      "metadata": {
        "id": "InPwhFU4t4s8"
      }
    },
    {
      "cell_type": "markdown",
      "source": [
        "**ANSWER: O(log n). mid = (left + right) // 2 indicates that the complexity is O(log n)**"
      ],
      "metadata": {
        "id": "JqKSlhJXt-vq"
      }
    }
  ]
}