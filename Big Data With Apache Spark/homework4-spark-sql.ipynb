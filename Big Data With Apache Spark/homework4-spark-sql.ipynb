{
 "cells": [
  {
   "cell_type": "markdown",
   "id": "761b5e5c-6bd6-473e-a739-e8bc17eb42cb",
   "metadata": {},
   "source": [
    "## Comment the purpose of below cell\n",
    "\n",
    "the findspark library is installed.\n",
    "findspark is initiated\n",
    "\n",
    "pyspark library is installed\n",
    "SparkSession class from the pyspark.sql module is installed"
   ]
  },
  {
   "cell_type": "code",
   "execution_count": 1,
   "id": "9af23790-c969-4a6c-91d3-8d045aad9174",
   "metadata": {},
   "outputs": [],
   "source": [
    "import findspark\n",
    "findspark.init()\n",
    "\n",
    "import pyspark\n",
    "from pyspark.sql import SparkSession"
   ]
  },
  {
   "cell_type": "markdown",
   "id": "3257489b-f3a5-4747-942d-83c284d99b05",
   "metadata": {},
   "source": [
    "## SparkSession for a spark application called csv2parquet is initiated"
   ]
  },
  {
   "cell_type": "code",
   "execution_count": 2,
   "id": "85e28c03-acf7-48f8-bc3e-f09aabfc1bdd",
   "metadata": {},
   "outputs": [
    {
     "name": "stderr",
     "output_type": "stream",
     "text": [
      "Setting default log level to \"WARN\".\n",
      "To adjust logging level use sc.setLogLevel(newLevel). For SparkR, use setLogLevel(newLevel).\n",
      "24/01/30 03:17:34 WARN NativeCodeLoader: Unable to load native-hadoop library for your platform... using builtin-java classes where applicable\n"
     ]
    }
   ],
   "source": [
    "#Logger.getLogger(\"org\").setLevel(Level.ERROR)\n",
    "spark = SparkSession \\\n",
    "    .builder \\\n",
    "    .appName(\"csv2parquet\") \\\n",
    "    .master(\"local[*]\") \\\n",
    "    .config(\"spark.sql.warehouse.dir\", \"file:///tmp\") \\\n",
    "    .getOrCreate()"
   ]
  },
  {
   "cell_type": "markdown",
   "id": "92cb6cb0-0290-4e08-acf1-5111c1550349",
   "metadata": {},
   "source": [
    "## configures spark to only display ERROR messages"
   ]
  },
  {
   "cell_type": "code",
   "execution_count": 3,
   "id": "1bf47383-bc52-4e3b-a417-4171a9742716",
   "metadata": {},
   "outputs": [],
   "source": [
    "sc=spark.sparkContext"
   ]
  },
  {
   "cell_type": "code",
   "execution_count": 4,
   "id": "232bd2b9-0a5c-46cb-b753-8ee0b1794bf7",
   "metadata": {},
   "outputs": [],
   "source": [
    "sc.setLogLevel(\"ERROR\")"
   ]
  },
  {
   "cell_type": "markdown",
   "id": "3c65d4cd-da1a-441f-b447-0b72ffa3b436",
   "metadata": {},
   "source": [
    "## The code reads a csv file from /notebooks/ticker_symbol.csv into a data frame, ds.\n",
    "## created a new df with colum headers to named as [\"Ticker\", \"Name\", \"Exchange\", \"CategoryName\", \"CategoryNumber\", \"_c5\""
   ]
  },
  {
   "cell_type": "code",
   "execution_count": 11,
   "id": "b61fd193-7d6b-4023-ac15-99a836014577",
   "metadata": {},
   "outputs": [],
   "source": [
    "ds = spark.read.format(\"csv\").option(\"header\", \"false\").option(\"quote\", \"\\\"\").load(\"/notebooks/ticker_symbol.csv\")"
   ]
  },
  {
   "cell_type": "code",
   "execution_count": 12,
   "id": "ed9c052f-a444-4f3d-9593-378369fcb8c3",
   "metadata": {},
   "outputs": [
    {
     "name": "stdout",
     "output_type": "stream",
     "text": [
      "+------+-------------------------------+--------+---------------------------+--------------+----+\n",
      "|_c0   |_c1                            |_c2     |_c3                        |_c4           |_c5 |\n",
      "+------+-------------------------------+--------+---------------------------+--------------+----+\n",
      "|Ticker|Name                           |Exchange|CategoryName               |CategoryNumber|NULL|\n",
      "|AUB.AX|Austbrokers Holdings Limited   |ASX     |Accident & Health Insurance|431           |NULL|\n",
      "|GLRE  |Greenlight Capital Re, Ltd.    |NMS     |Accident & Health Insurance|431           |NULL|\n",
      "|SFG   |StanCorp Financial Group Inc.  |NYQ     |Accident & Health Insurance|431           |NULL|\n",
      "|AMIC  |American Independence Corp.    |NGM     |Accident & Health Insurance|431           |NULL|\n",
      "|GTS   |Triple-S Management Corporation|NYQ     |Accident & Health Insurance|431           |NULL|\n",
      "|LRE.L |Lancashire Holdings Limited    |LSE     |Accident & Health Insurance|431           |NULL|\n",
      "|EIG   |Employers Holdings, Inc.       |NYQ     |Accident & Health Insurance|431           |NULL|\n",
      "|AIZ   |Assurant Inc.                  |NYQ     |Accident & Health Insurance|431           |NULL|\n",
      "|NHF.AX|NIB Holdings Limited           |ASX     |Accident & Health Insurance|431           |NULL|\n",
      "|PRA   |ProAssurance Corporation       |NYQ     |Accident & Health Insurance|431           |NULL|\n",
      "|TRUP  |Trupanion, Inc.                |NYQ     |Accident & Health Insurance|431           |NULL|\n",
      "|AFL   |AFLAC Inc.                     |NYQ     |Accident & Health Insurance|431           |NULL|\n",
      "|MIC.TO|Genworth MI Canada Inc.        |TOR     |Accident & Health Insurance|431           |NULL|\n",
      "|CNO   |CNO Financial Group, Inc.      |NYQ     |Accident & Health Insurance|431           |NULL|\n",
      "|UNM   |Unum Group                     |NYQ     |Accident & Health Insurance|431           |NULL|\n",
      "|FAC   |First Acceptance Corp.         |NYQ     |Accident & Health Insurance|431           |NULL|\n",
      "|SCRI  |Social Reality, Inc.           |PNK     |Advertising Agencies       |720           |NULL|\n",
      "|DCS.MU|JC DECAUX                      |MUN     |Advertising Agencies       |720           |NULL|\n",
      "|XM8.F |CLEAR MEDIA                    |FRA     |Advertising Agencies       |720           |NULL|\n",
      "+------+-------------------------------+--------+---------------------------+--------------+----+\n",
      "only showing top 20 rows\n",
      "\n"
     ]
    }
   ],
   "source": [
    "ds.show(truncate=False)"
   ]
  },
  {
   "cell_type": "code",
   "execution_count": 13,
   "id": "b44a2870-0a66-40ca-809f-08b2bee86755",
   "metadata": {},
   "outputs": [],
   "source": [
    "heading = [\"Ticker\",\"Name\",\"Exchange\",\"CategoryName\",\"CategoryNumber\",\"_c5\"]"
   ]
  },
  {
   "cell_type": "code",
   "execution_count": 14,
   "id": "fcbb2a1d-96b1-4130-b4f8-e4fdbac5a607",
   "metadata": {},
   "outputs": [],
   "source": [
    "df = ds.toDF(*heading)"
   ]
  },
  {
   "cell_type": "markdown",
   "id": "3a79c24b-9913-4d16-9adc-a6b507e3741a",
   "metadata": {},
   "source": [
    "## displays the df into a tabular format without truncating the data in the columns"
   ]
  },
  {
   "cell_type": "code",
   "execution_count": 15,
   "id": "b2666bed-0328-4e66-a0d3-b8b99680ced2",
   "metadata": {},
   "outputs": [
    {
     "name": "stdout",
     "output_type": "stream",
     "text": [
      "+------+-------------------------------+--------+---------------------------+--------------+----+\n",
      "|Ticker|Name                           |Exchange|CategoryName               |CategoryNumber|_c5 |\n",
      "+------+-------------------------------+--------+---------------------------+--------------+----+\n",
      "|Ticker|Name                           |Exchange|CategoryName               |CategoryNumber|NULL|\n",
      "|AUB.AX|Austbrokers Holdings Limited   |ASX     |Accident & Health Insurance|431           |NULL|\n",
      "|GLRE  |Greenlight Capital Re, Ltd.    |NMS     |Accident & Health Insurance|431           |NULL|\n",
      "|SFG   |StanCorp Financial Group Inc.  |NYQ     |Accident & Health Insurance|431           |NULL|\n",
      "|AMIC  |American Independence Corp.    |NGM     |Accident & Health Insurance|431           |NULL|\n",
      "|GTS   |Triple-S Management Corporation|NYQ     |Accident & Health Insurance|431           |NULL|\n",
      "|LRE.L |Lancashire Holdings Limited    |LSE     |Accident & Health Insurance|431           |NULL|\n",
      "|EIG   |Employers Holdings, Inc.       |NYQ     |Accident & Health Insurance|431           |NULL|\n",
      "|AIZ   |Assurant Inc.                  |NYQ     |Accident & Health Insurance|431           |NULL|\n",
      "|NHF.AX|NIB Holdings Limited           |ASX     |Accident & Health Insurance|431           |NULL|\n",
      "|PRA   |ProAssurance Corporation       |NYQ     |Accident & Health Insurance|431           |NULL|\n",
      "|TRUP  |Trupanion, Inc.                |NYQ     |Accident & Health Insurance|431           |NULL|\n",
      "|AFL   |AFLAC Inc.                     |NYQ     |Accident & Health Insurance|431           |NULL|\n",
      "|MIC.TO|Genworth MI Canada Inc.        |TOR     |Accident & Health Insurance|431           |NULL|\n",
      "|CNO   |CNO Financial Group, Inc.      |NYQ     |Accident & Health Insurance|431           |NULL|\n",
      "|UNM   |Unum Group                     |NYQ     |Accident & Health Insurance|431           |NULL|\n",
      "|FAC   |First Acceptance Corp.         |NYQ     |Accident & Health Insurance|431           |NULL|\n",
      "|SCRI  |Social Reality, Inc.           |PNK     |Advertising Agencies       |720           |NULL|\n",
      "|DCS.MU|JC DECAUX                      |MUN     |Advertising Agencies       |720           |NULL|\n",
      "|XM8.F |CLEAR MEDIA                    |FRA     |Advertising Agencies       |720           |NULL|\n",
      "+------+-------------------------------+--------+---------------------------+--------------+----+\n",
      "only showing top 20 rows\n",
      "\n"
     ]
    }
   ],
   "source": [
    "df.show(truncate=False)"
   ]
  },
  {
   "cell_type": "markdown",
   "id": "6d94fcf1-b339-4fb8-917d-041876164fb3",
   "metadata": {},
   "source": [
    "## A new dataframe is created called, df_with_datatype and it shows the first 3 rows"
   ]
  },
  {
   "cell_type": "code",
   "execution_count": 16,
   "id": "9dc1b2f6-5675-4b86-bef4-253a42741527",
   "metadata": {},
   "outputs": [],
   "source": [
    "df_with_datatype=df.selectExpr(\"Ticker\",\\\n",
    "                  \"Name\", \\\n",
    "                  \"Exchange\",\\\n",
    "                  \"CategoryName\",\\\n",
    "                  \"cast(CategoryNumber as int) CategoryNumber\")"
   ]
  },
  {
   "cell_type": "code",
   "execution_count": 17,
   "id": "1f0fe580-e9b1-4699-a945-0b334a83468a",
   "metadata": {},
   "outputs": [
    {
     "name": "stdout",
     "output_type": "stream",
     "text": [
      "+------+----------------------------+--------+---------------------------+--------------+\n",
      "|Ticker|Name                        |Exchange|CategoryName               |CategoryNumber|\n",
      "+------+----------------------------+--------+---------------------------+--------------+\n",
      "|Ticker|Name                        |Exchange|CategoryName               |NULL          |\n",
      "|AUB.AX|Austbrokers Holdings Limited|ASX     |Accident & Health Insurance|431           |\n",
      "|GLRE  |Greenlight Capital Re, Ltd. |NMS     |Accident & Health Insurance|431           |\n",
      "+------+----------------------------+--------+---------------------------+--------------+\n",
      "only showing top 3 rows\n",
      "\n"
     ]
    }
   ],
   "source": [
    "df_with_datatype.show(3, False)"
   ]
  },
  {
   "cell_type": "markdown",
   "id": "cc8702f0-303a-4fbe-bb7d-bab8c5dfc9ff",
   "metadata": {},
   "source": [
    "## The code saves the DataFrame df_with_datatype to a file in Parquet format at the /notebooks/ticker_symbol.parquet\n"
   ]
  },
  {
   "cell_type": "code",
   "execution_count": 18,
   "id": "0a8c4b50-088b-4c10-890e-52c1de35133d",
   "metadata": {},
   "outputs": [
    {
     "name": "stderr",
     "output_type": "stream",
     "text": [
      "                                                                                \r"
     ]
    }
   ],
   "source": [
    "#Save the DataFrame to Parquet format, overwrite if existing.\n",
    "#Parquet is Columnar, good for Analytics query.\n",
    "\n",
    "df_with_datatype.write.mode(\"Overwrite\").parquet(\"/notebooks/ticker_symbol.parquet\")\n"
   ]
  },
  {
   "cell_type": "markdown",
   "id": "103e5a5f-196e-4e3b-b05d-04b502466a58",
   "metadata": {},
   "source": [
    "## The code reads a Parquet file from /notebooks/ticker_symbol.parquet into a dataframe read_parquet_df\n",
    "## Displays the first 3 rows without truncation\n",
    "## renames the colums to (\"Ticker\",\"Name\",\"Exchange\",\"CategoryName\",\"CategoryNumber\") into a new dataframe TickerSymbol"
   ]
  },
  {
   "cell_type": "code",
   "execution_count": 19,
   "id": "870e08dc-9d62-44e2-a937-c36d443f53ec",
   "metadata": {},
   "outputs": [
    {
     "name": "stdout",
     "output_type": "stream",
     "text": [
      "+------+----------------------------+--------+---------------------------+--------------+\n",
      "|Ticker|Name                        |Exchange|CategoryName               |CategoryNumber|\n",
      "+------+----------------------------+--------+---------------------------+--------------+\n",
      "|Ticker|Name                        |Exchange|CategoryName               |NULL          |\n",
      "|AUB.AX|Austbrokers Holdings Limited|ASX     |Accident & Health Insurance|431           |\n",
      "|GLRE  |Greenlight Capital Re, Ltd. |NMS     |Accident & Health Insurance|431           |\n",
      "+------+----------------------------+--------+---------------------------+--------------+\n",
      "only showing top 3 rows\n",
      "\n"
     ]
    }
   ],
   "source": [
    "#Read the Parquet data back and run SQL query on it\n",
    "\n",
    "read_parquet_df = spark.read.parquet(\"/notebooks/ticker_symbol.parquet\")\n",
    "\n",
    "read_parquet_df.show(3, False)"
   ]
  },
  {
   "cell_type": "code",
   "execution_count": 20,
   "id": "77c0927c-df37-44d5-8e35-aa11506c0931",
   "metadata": {},
   "outputs": [
    {
     "name": "stdout",
     "output_type": "stream",
     "text": [
      "root\n",
      " |-- Ticker: string (nullable = true)\n",
      " |-- Name: string (nullable = true)\n",
      " |-- Exchange: string (nullable = true)\n",
      " |-- CategoryName: string (nullable = true)\n",
      " |-- CategoryNumber: integer (nullable = true)\n",
      "\n"
     ]
    }
   ],
   "source": [
    "TickerSymbol = read_parquet_df.toDF(\"Ticker\",\"Name\",\"Exchange\",\"CategoryName\",\"CategoryNumber\")\n",
    "TickerSymbol.printSchema()\n"
   ]
  },
  {
   "cell_type": "markdown",
   "id": "6360847a-29be-4510-9298-d91dc5e65521",
   "metadata": {},
   "source": [
    "## the code makes the TickerSymbol data available for SQL queries\n",
    "## finds and shows rows for ('IBM','MSFT','HPQ','GE') from the data. "
   ]
  },
  {
   "cell_type": "code",
   "execution_count": 21,
   "id": "d17650ca-c494-4c66-92b5-8a028652eec9",
   "metadata": {},
   "outputs": [
    {
     "name": "stdout",
     "output_type": "stream",
     "text": [
      "+------+-------------------------------------------+--------+-------------------------------+--------------+\n",
      "|Ticker|Name                                       |Exchange|CategoryName                   |CategoryNumber|\n",
      "+------+-------------------------------------------+--------+-------------------------------+--------------+\n",
      "|MSFT  |Microsoft Corporation                      |NMS     |Business Software & Services   |826           |\n",
      "|HPQ   |Hewlett-Packard Company                    |NYQ     |Diversified Computer Systems   |810           |\n",
      "|GE    |General Electric Company                   |NYQ     |Diversified Machinery          |622           |\n",
      "|IBM   |International Business Machines Corporation|NYQ     |Information Technology Services|824           |\n",
      "+------+-------------------------------------------+--------+-------------------------------+--------------+\n",
      "\n"
     ]
    }
   ],
   "source": [
    "TickerSymbol.createOrReplaceTempView(\"TickerSymbol\")\n",
    "spark.sql(\"SELECT * from TickerSymbol where Ticker in ('IBM','MSFT','HPQ','GE')\").show(20,False)\n"
   ]
  },
  {
   "cell_type": "code",
   "execution_count": null,
   "id": "57c16b35-79c4-4f21-b8bf-0a947eff1916",
   "metadata": {},
   "outputs": [],
   "source": []
  }
 ],
 "metadata": {
  "kernelspec": {
   "display_name": "Python 3 (ipykernel)",
   "language": "python",
   "name": "python3"
  },
  "language_info": {
   "codemirror_mode": {
    "name": "ipython",
    "version": 3
   },
   "file_extension": ".py",
   "mimetype": "text/x-python",
   "name": "python",
   "nbconvert_exporter": "python",
   "pygments_lexer": "ipython3",
   "version": "3.9.18"
  }
 },
 "nbformat": 4,
 "nbformat_minor": 5
}
