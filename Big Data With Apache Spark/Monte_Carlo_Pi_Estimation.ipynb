{
  "nbformat": 4,
  "nbformat_minor": 0,
  "metadata": {
    "colab": {
      "provenance": []
    },
    "kernelspec": {
      "name": "python3",
      "display_name": "Python 3"
    },
    "language_info": {
      "name": "python"
    }
  },
  "cells": [
    {
      "cell_type": "code",
      "execution_count": null,
      "metadata": {
        "colab": {
          "base_uri": "https://localhost:8080/"
        },
        "id": "ChJjpZzjeIFq",
        "outputId": "f3c6b11a-a5a5-4690-858b-307ec37e1d8a"
      },
      "outputs": [
        {
          "output_type": "stream",
          "name": "stdout",
          "text": [
            "Pi is roughly 3.143016\n"
          ]
        }
      ],
      "source": [
        "import sys\n",
        "from random import random\n",
        "from operator import add\n",
        "\n",
        "\n",
        "if __name__==\"__main__\":\n",
        "    n=1000000\n",
        "    count = 0\n",
        "    for i in range(n):\n",
        "        x = random()\n",
        "        y = random()\n",
        "        if x**2+y**2 <= 1: # if within Circle, add the count\n",
        "            count+=1\n",
        "\n",
        "    print(\"Pi is roughly %f\" % (4.0 * count / n)) # Pi=4 * nCircle/nTotal"
      ]
    }
  ]
}