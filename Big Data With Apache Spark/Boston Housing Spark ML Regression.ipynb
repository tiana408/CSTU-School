{
 "cells": [
  {
   "cell_type": "markdown",
   "metadata": {},
   "source": [
    "<font size=5>\n",
    "\n",
    "Regression with boston_data.csv. Dataset downloaded from Kaggle, to predict Boston housing price\n",
    "\n",
    "\n",
    "\n",
    "</font>"
   ]
  },
  {
   "cell_type": "markdown",
   "metadata": {},
   "source": [
    "| Code   | Description   |\n",
    "|:---|:---|\n",
    "|**CRIM** | per capita crime rate by town |\n",
    "|**ZN**  | proportion of residential land zoned for lots over 25,000 sq.ft. | \n",
    "|**INDUS**  | proportion of non-retail business acres per town | \n",
    "|**CHAS**  | Charles River dummy variable (= 1 if tract bounds river; 0 otherwise) | \n",
    "|**NOX**  | nitric oxides concentration (parts per 10 million) | \n",
    "|**RM**  | average number of rooms per dwelling | \n",
    "|**AGE**  | proportion of owner-occupied units built prior to 1940 | \n",
    "|**DIS**  | weighted distances to five Boston employment centres | \n",
    "|**RAD**  | index of accessibility to radial highways | \n",
    "|**TAX**  | full-value property-tax rate per $10,000 | \n",
    "|**PTRATIO**  | pupil-teacher ratio by town | \n",
    "|**B**  | 1000(Bk - 0.63)^2 where Bk is the proportion of blacks by town | \n",
    "|**LSTAT**  | % lower status of the population | \n",
    "|**MEDV**  | Median value of owner-occupied homes in \\$1000's | \n",
    "\n"
   ]
  },
  {
   "cell_type": "markdown",
   "metadata": {},
   "source": [
    "<font size=5>mdev is the label, all other columns are features. </font>"
   ]
  },
  {
   "cell_type": "markdown",
   "metadata": {},
   "source": [
    "<font size=5> Import PySpark libraries, create SparkContext and SQL context, then load the csv data file. </font>"
   ]
  },
  {
   "cell_type": "code",
   "execution_count": 1,
   "metadata": {},
   "outputs": [
    {
     "name": "stderr",
     "output_type": "stream",
     "text": [
      "Setting default log level to \"WARN\".\n",
      "To adjust logging level use sc.setLogLevel(newLevel). For SparkR, use setLogLevel(newLevel).\n",
      "24/02/20 23:15:28 WARN NativeCodeLoader: Unable to load native-hadoop library for your platform... using builtin-java classes where applicable\n",
      "/spark/python/pyspark/sql/context.py:113: FutureWarning: Deprecated in 3.0.0. Use SparkSession.builder.getOrCreate() instead.\n",
      "  warnings.warn(\n",
      "                                                                                \r"
     ]
    }
   ],
   "source": [
    "import findspark\n",
    "findspark.init()\n",
    "from pyspark import SparkConf, SparkContext\n",
    "from pyspark.sql import SQLContext\n",
    "\n",
    "sc= SparkContext()\n",
    "sqlContext = SQLContext(sc)\n",
    "boston_house_df = sqlContext.read.format('csv').options(header='true', inferschema='true')\\\n",
    ".load('BostonHousing.csv')"
   ]
  },
  {
   "cell_type": "markdown",
   "metadata": {},
   "source": [
    "<font size=5> Show statistics of each column, including feature columns and label column (medv)  </font>"
   ]
  },
  {
   "cell_type": "code",
   "execution_count": 2,
   "metadata": {},
   "outputs": [
    {
     "name": "stderr",
     "output_type": "stream",
     "text": [
      "24/02/20 23:15:40 WARN SparkStringUtils: Truncated the string representation of a plan since it was too large. This behavior can be adjusted by setting 'spark.sql.debug.maxToStringFields'.\n",
      "                                                                                \r"
     ]
    },
    {
     "data": {
      "text/html": [
       "<div>\n",
       "<style scoped>\n",
       "    .dataframe tbody tr th:only-of-type {\n",
       "        vertical-align: middle;\n",
       "    }\n",
       "\n",
       "    .dataframe tbody tr th {\n",
       "        vertical-align: top;\n",
       "    }\n",
       "\n",
       "    .dataframe thead th {\n",
       "        text-align: right;\n",
       "    }\n",
       "</style>\n",
       "<table border=\"1\" class=\"dataframe\">\n",
       "  <thead>\n",
       "    <tr style=\"text-align: right;\">\n",
       "      <th></th>\n",
       "      <th>0</th>\n",
       "      <th>1</th>\n",
       "      <th>2</th>\n",
       "      <th>3</th>\n",
       "      <th>4</th>\n",
       "    </tr>\n",
       "  </thead>\n",
       "  <tbody>\n",
       "    <tr>\n",
       "      <th>summary</th>\n",
       "      <td>count</td>\n",
       "      <td>mean</td>\n",
       "      <td>stddev</td>\n",
       "      <td>min</td>\n",
       "      <td>max</td>\n",
       "    </tr>\n",
       "    <tr>\n",
       "      <th>crim</th>\n",
       "      <td>506</td>\n",
       "      <td>3.6135235573122535</td>\n",
       "      <td>8.601545105332491</td>\n",
       "      <td>0.00632</td>\n",
       "      <td>88.9762</td>\n",
       "    </tr>\n",
       "    <tr>\n",
       "      <th>zn</th>\n",
       "      <td>506</td>\n",
       "      <td>11.363636363636363</td>\n",
       "      <td>23.32245299451514</td>\n",
       "      <td>0.0</td>\n",
       "      <td>100.0</td>\n",
       "    </tr>\n",
       "    <tr>\n",
       "      <th>indus</th>\n",
       "      <td>506</td>\n",
       "      <td>11.136778656126504</td>\n",
       "      <td>6.860352940897589</td>\n",
       "      <td>0.46</td>\n",
       "      <td>27.74</td>\n",
       "    </tr>\n",
       "    <tr>\n",
       "      <th>chas</th>\n",
       "      <td>506</td>\n",
       "      <td>0.0691699604743083</td>\n",
       "      <td>0.2539940413404101</td>\n",
       "      <td>0</td>\n",
       "      <td>1</td>\n",
       "    </tr>\n",
       "    <tr>\n",
       "      <th>nox</th>\n",
       "      <td>506</td>\n",
       "      <td>0.5546950592885372</td>\n",
       "      <td>0.11587767566755584</td>\n",
       "      <td>0.385</td>\n",
       "      <td>0.871</td>\n",
       "    </tr>\n",
       "    <tr>\n",
       "      <th>rm</th>\n",
       "      <td>506</td>\n",
       "      <td>6.284634387351787</td>\n",
       "      <td>0.7026171434153232</td>\n",
       "      <td>3.561</td>\n",
       "      <td>8.78</td>\n",
       "    </tr>\n",
       "    <tr>\n",
       "      <th>age</th>\n",
       "      <td>506</td>\n",
       "      <td>68.57490118577078</td>\n",
       "      <td>28.148861406903595</td>\n",
       "      <td>2.9</td>\n",
       "      <td>100.0</td>\n",
       "    </tr>\n",
       "    <tr>\n",
       "      <th>dis</th>\n",
       "      <td>506</td>\n",
       "      <td>3.795042687747034</td>\n",
       "      <td>2.10571012662761</td>\n",
       "      <td>1.1296</td>\n",
       "      <td>12.1265</td>\n",
       "    </tr>\n",
       "    <tr>\n",
       "      <th>rad</th>\n",
       "      <td>506</td>\n",
       "      <td>9.549407114624506</td>\n",
       "      <td>8.707259384239366</td>\n",
       "      <td>1</td>\n",
       "      <td>24</td>\n",
       "    </tr>\n",
       "    <tr>\n",
       "      <th>tax</th>\n",
       "      <td>506</td>\n",
       "      <td>408.2371541501976</td>\n",
       "      <td>168.53711605495903</td>\n",
       "      <td>187</td>\n",
       "      <td>711</td>\n",
       "    </tr>\n",
       "    <tr>\n",
       "      <th>ptratio</th>\n",
       "      <td>506</td>\n",
       "      <td>18.455533596837967</td>\n",
       "      <td>2.1649455237144455</td>\n",
       "      <td>12.6</td>\n",
       "      <td>22.0</td>\n",
       "    </tr>\n",
       "    <tr>\n",
       "      <th>b</th>\n",
       "      <td>506</td>\n",
       "      <td>356.67403162055257</td>\n",
       "      <td>91.29486438415782</td>\n",
       "      <td>0.32</td>\n",
       "      <td>396.9</td>\n",
       "    </tr>\n",
       "    <tr>\n",
       "      <th>lstat</th>\n",
       "      <td>506</td>\n",
       "      <td>12.653063241106723</td>\n",
       "      <td>7.141061511348571</td>\n",
       "      <td>1.73</td>\n",
       "      <td>37.97</td>\n",
       "    </tr>\n",
       "    <tr>\n",
       "      <th>medv</th>\n",
       "      <td>506</td>\n",
       "      <td>22.532806324110698</td>\n",
       "      <td>9.197104087379815</td>\n",
       "      <td>5.0</td>\n",
       "      <td>50.0</td>\n",
       "    </tr>\n",
       "  </tbody>\n",
       "</table>\n",
       "</div>"
      ],
      "text/plain": [
       "             0                   1                    2        3        4\n",
       "summary  count                mean               stddev      min      max\n",
       "crim       506  3.6135235573122535    8.601545105332491  0.00632  88.9762\n",
       "zn         506  11.363636363636363    23.32245299451514      0.0    100.0\n",
       "indus      506  11.136778656126504    6.860352940897589     0.46    27.74\n",
       "chas       506  0.0691699604743083   0.2539940413404101        0        1\n",
       "nox        506  0.5546950592885372  0.11587767566755584    0.385    0.871\n",
       "rm         506   6.284634387351787   0.7026171434153232    3.561     8.78\n",
       "age        506   68.57490118577078   28.148861406903595      2.9    100.0\n",
       "dis        506   3.795042687747034     2.10571012662761   1.1296  12.1265\n",
       "rad        506   9.549407114624506    8.707259384239366        1       24\n",
       "tax        506   408.2371541501976   168.53711605495903      187      711\n",
       "ptratio    506  18.455533596837967   2.1649455237144455     12.6     22.0\n",
       "b          506  356.67403162055257    91.29486438415782     0.32    396.9\n",
       "lstat      506  12.653063241106723    7.141061511348571     1.73    37.97\n",
       "medv       506  22.532806324110698    9.197104087379815      5.0     50.0"
      ]
     },
     "execution_count": 2,
     "metadata": {},
     "output_type": "execute_result"
    }
   ],
   "source": [
    "boston_house_df.describe().toPandas().transpose()"
   ]
  },
  {
   "cell_type": "markdown",
   "metadata": {},
   "source": [
    "<font size=5>\n",
    "\n",
    "We need to find out corelationship beween each feature column with label medv.  The corelationship is between 0 to |1|, the more close to -1, or 1, that means that feature column is more negatively or positively corelated to medv, the more close to 0, that means less or little corelationship between the feature column and label medv.\n",
    "\n",
    "   \n",
    "    \n",
    "</font>"
   ]
  },
  {
   "cell_type": "code",
   "execution_count": 4,
   "metadata": {},
   "outputs": [
    {
     "name": "stdout",
     "output_type": "stream",
     "text": [
      "Defaulting to user installation because normal site-packages is not writeable\n",
      "Collecting matplotlib\n",
      "  Downloading matplotlib-3.8.3-cp39-cp39-manylinux_2_17_x86_64.manylinux2014_x86_64.whl (11.6 MB)\n",
      "\u001b[K     |████████████████████████████████| 11.6 MB 441 kB/s eta 0:00:01\n",
      "\u001b[?25hCollecting contourpy>=1.0.1\n",
      "  Downloading contourpy-1.2.0-cp39-cp39-manylinux_2_17_x86_64.manylinux2014_x86_64.whl (310 kB)\n",
      "\u001b[K     |████████████████████████████████| 310 kB 2.0 MB/s eta 0:00:01\n",
      "\u001b[?25hCollecting cycler>=0.10\n",
      "  Downloading cycler-0.12.1-py3-none-any.whl (8.3 kB)\n",
      "Collecting pyparsing>=2.3.1\n",
      "  Downloading pyparsing-3.1.1-py3-none-any.whl (103 kB)\n",
      "\u001b[K     |████████████████████████████████| 103 kB 5.8 MB/s eta 0:00:01\n",
      "\u001b[?25hRequirement already satisfied: numpy<2,>=1.21 in /home/hadoop/.local/lib/python3.9/site-packages (from matplotlib) (1.26.3)\n",
      "Collecting kiwisolver>=1.3.1\n",
      "  Downloading kiwisolver-1.4.5-cp39-cp39-manylinux_2_12_x86_64.manylinux2010_x86_64.whl (1.6 MB)\n",
      "\u001b[K     |████████████████████████████████| 1.6 MB 1.5 MB/s eta 0:00:01\n",
      "\u001b[?25hCollecting pillow>=8\n",
      "  Downloading pillow-10.2.0-cp39-cp39-manylinux_2_28_x86_64.whl (4.5 MB)\n",
      "\u001b[K     |████████████████████████████████| 4.5 MB 2.9 MB/s eta 0:00:01\n",
      "\u001b[?25hCollecting fonttools>=4.22.0\n",
      "  Downloading fonttools-4.49.0-cp39-cp39-manylinux_2_17_x86_64.manylinux2014_x86_64.whl (4.6 MB)\n",
      "\u001b[K     |████████████████████████████████| 4.6 MB 2.7 MB/s eta 0:00:01\n",
      "\u001b[?25hRequirement already satisfied: python-dateutil>=2.7 in /home/hadoop/.local/lib/python3.9/site-packages (from matplotlib) (2.8.2)\n",
      "Collecting importlib-resources>=3.2.0\n",
      "  Downloading importlib_resources-6.1.1-py3-none-any.whl (33 kB)\n",
      "Requirement already satisfied: packaging>=20.0 in /home/hadoop/.local/lib/python3.9/site-packages (from matplotlib) (23.2)\n",
      "Requirement already satisfied: zipp>=3.1.0 in /home/hadoop/.local/lib/python3.9/site-packages (from importlib-resources>=3.2.0->matplotlib) (3.17.0)\n",
      "Requirement already satisfied: six>=1.5 in /usr/lib/python3.9/site-packages (from python-dateutil>=2.7->matplotlib) (1.15.0)\n",
      "Installing collected packages: pyparsing, pillow, kiwisolver, importlib-resources, fonttools, cycler, contourpy, matplotlib\n",
      "\u001b[33m  WARNING: Value for scheme.platlib does not match. Please report this to <https://github.com/pypa/pip/issues/10151>\n",
      "  distutils: /home/hadoop/.local/lib/python3.9/site-packages\n",
      "  sysconfig: /home/hadoop/.local/lib64/python3.9/site-packages\u001b[0m\n",
      "\u001b[33m  WARNING: Additional context:\n",
      "  user = True\n",
      "  home = None\n",
      "  root = None\n",
      "  prefix = None\u001b[0m\n",
      "Successfully installed contourpy-1.2.0 cycler-0.12.1 fonttools-4.49.0 importlib-resources-6.1.1 kiwisolver-1.4.5 matplotlib-3.8.3 pillow-10.2.0 pyparsing-3.1.1\n"
     ]
    }
   ],
   "source": [
    "!pip install matplotlib\n",
    "\n",
    "import pandas as pd\n",
    "import matplotlib.pyplot as plt \n",
    "%matplotlib inline"
   ]
  },
  {
   "cell_type": "code",
   "execution_count": 5,
   "metadata": {},
   "outputs": [
    {
     "name": "stdout",
     "output_type": "stream",
     "text": [
      "Correlation to medv for  crim -0.38830460858681154\n",
      "Correlation to medv for  zn 0.3604453424505433\n",
      "Correlation to medv for  indus -0.4837251600283728\n",
      "Correlation to medv for  chas 0.1752601771902987\n",
      "Correlation to medv for  nox -0.4273207723732821\n",
      "Correlation to medv for  rm 0.6953599470715401\n",
      "Correlation to medv for  age -0.3769545650045961\n",
      "Correlation to medv for  dis 0.249928734085904\n",
      "Correlation to medv for  rad -0.38162623063977735\n",
      "Correlation to medv for  tax -0.46853593356776674\n",
      "Correlation to medv for  ptratio -0.5077866855375622\n",
      "Correlation to medv for  b 0.3334608196570661\n",
      "Correlation to medv for  lstat -0.7376627261740145\n",
      "Correlation to medv for  medv 1.0\n"
     ]
    }
   ],
   "source": [
    "import six\n",
    "for i in boston_house_df.columns:\n",
    "    if not( isinstance(boston_house_df.select(i).take(1)[0][0], six.string_types)):\n",
    "        print( \"Correlation to medv for \", i, boston_house_df.stat.corr('medv',i))"
   ]
  },
  {
   "cell_type": "markdown",
   "metadata": {},
   "source": [
    "<font size=5>\n",
    "\n",
    "Spark ML requires features of the dataset are vectorized before the dataset can be fit into ML model, \n",
    "VectorAssembler is to convert a Spark Dataframe into Spark Vectorized Dataframe\n",
    "\n",
    "</font>"
   ]
  },
  {
   "cell_type": "code",
   "execution_count": 6,
   "metadata": {},
   "outputs": [
    {
     "name": "stdout",
     "output_type": "stream",
     "text": [
      "+--------------------+----+\n",
      "|            features|medv|\n",
      "+--------------------+----+\n",
      "|[0.00632,18.0,2.3...|24.0|\n",
      "|[0.02731,0.0,7.07...|21.6|\n",
      "+--------------------+----+\n",
      "only showing top 2 rows\n",
      "\n"
     ]
    }
   ],
   "source": [
    "from pyspark.ml.feature import VectorAssembler\n",
    "vectorAssembler = VectorAssembler(inputCols = ['crim', 'zn', 'indus', 'chas', 'nox', 'rm', 'age', 'dis', 'rad', 'tax', 'ptratio', 'b', 'lstat'], outputCol = 'features')\n",
    "#vectorAssembler = VectorAssembler(inputCols = ['rm'], outputCol = 'features')\n",
    "vector_house_df = vectorAssembler.transform(boston_house_df)\n",
    "vector_house_df = vector_house_df.select(['features', 'medv'])\n",
    "vector_house_df.show(2)"
   ]
  },
  {
   "cell_type": "markdown",
   "metadata": {},
   "source": [
    "<font size=5>  \n",
    "\n",
    "Now randomly split Spark Vectorized DataFrame (dataset) into training data (70%) and testing data (30%)\n",
    "    \n",
    "    \n",
    "</font>"
   ]
  },
  {
   "cell_type": "code",
   "execution_count": 7,
   "metadata": {},
   "outputs": [
    {
     "name": "stdout",
     "output_type": "stream",
     "text": [
      "165\n"
     ]
    }
   ],
   "source": [
    "splits = vector_house_df.randomSplit([0.7, 0.3])\n",
    "train_df = splits[0]\n",
    "test_df = splits[1]\n",
    "print(test_df.count())"
   ]
  },
  {
   "cell_type": "code",
   "execution_count": 8,
   "metadata": {},
   "outputs": [
    {
     "name": "stdout",
     "output_type": "stream",
     "text": [
      "+--------------------+----+\n",
      "|            features|medv|\n",
      "+--------------------+----+\n",
      "|[0.00906,90.0,2.9...|32.2|\n",
      "|[0.01096,55.0,2.2...|22.0|\n",
      "+--------------------+----+\n",
      "only showing top 2 rows\n",
      "\n"
     ]
    }
   ],
   "source": [
    "train_df.show(2)"
   ]
  },
  {
   "cell_type": "markdown",
   "metadata": {},
   "source": [
    "<font size=5>\n",
    "\n",
    "Let's do Linear Regression first, fit the Linear Regression model with train_df\n",
    "    \n",
    "</font>"
   ]
  },
  {
   "cell_type": "code",
   "execution_count": 9,
   "metadata": {},
   "outputs": [
    {
     "name": "stderr",
     "output_type": "stream",
     "text": [
      "24/02/20 23:17:55 WARN InstanceBuilder: Failed to load implementation from:dev.ludovic.netlib.blas.JNIBLAS\n"
     ]
    },
    {
     "name": "stdout",
     "output_type": "stream",
     "text": [
      "Coefficients: [0.0,0.009427524950167965,-0.0022258321413950273,1.9659202130436537,-8.894033462775255,4.466720468019413,0.0,-0.7418278967344886,0.0,-0.0011827394930907188,-0.777257990411827,0.00894098372282634,-0.5326790627828858]\n",
      "Intercept: 20.27208952119553\n"
     ]
    }
   ],
   "source": [
    "from pyspark.ml.regression import LinearRegression\n",
    "lr = LinearRegression(featuresCol = 'features', labelCol='medv', maxIter=10, regParam=0.3, elasticNetParam=0.8)\n",
    "lr_model = lr.fit(train_df)\n",
    "print(\"Coefficients: \" + str(lr_model.coefficients))\n",
    "print(\"Intercept: \" + str(lr_model.intercept))"
   ]
  },
  {
   "cell_type": "markdown",
   "metadata": {},
   "source": [
    "<font size=5>\n",
    "Linear Regression produced slope coefficients and intercept\n",
    "\n",
    "y=a1 X x1 + a2 X x2 +...+ an X xn + b\n",
    "\n",
    "a1,a2,...an are coefficients for the xn in their space\n",
    "b is intercept\n",
    "\n",
    "x1, x2, ... xn are independent variables\n",
    "\n",
    "</font>"
   ]
  },
  {
   "cell_type": "code",
   "execution_count": 10,
   "metadata": {},
   "outputs": [
    {
     "name": "stdout",
     "output_type": "stream",
     "text": [
      "RMSE: 4.774136\n",
      "r2: 0.727668\n"
     ]
    }
   ],
   "source": [
    "trainingSummary = lr_model.summary\n",
    "print(\"RMSE: %f\" % trainingSummary.rootMeanSquaredError)\n",
    "print(\"r2: %f\" % trainingSummary.r2)"
   ]
  },
  {
   "cell_type": "code",
   "execution_count": 11,
   "metadata": {},
   "outputs": [
    {
     "name": "stdout",
     "output_type": "stream",
     "text": [
      "+-------+------------------+\n",
      "|summary|              medv|\n",
      "+-------+------------------+\n",
      "|  count|               341|\n",
      "|   mean|22.625513196480945|\n",
      "| stddev|  9.16185635492107|\n",
      "|    min|               5.6|\n",
      "|    max|              50.0|\n",
      "+-------+------------------+\n",
      "\n"
     ]
    }
   ],
   "source": [
    "train_df.describe().show()"
   ]
  },
  {
   "cell_type": "markdown",
   "metadata": {},
   "source": [
    "<font size=5>\n",
    "\n",
    "Test the model with test_df, testing produces metrics that evaluates the performance of the regressor with RMSE and R2 score.\n",
    "\n",
    "  \n",
    "    \n",
    "</font>"
   ]
  },
  {
   "cell_type": "code",
   "execution_count": 12,
   "metadata": {},
   "outputs": [
    {
     "name": "stdout",
     "output_type": "stream",
     "text": [
      "+------------------+----+--------------------+\n",
      "|        prediction|medv|            features|\n",
      "+------------------+----+--------------------+\n",
      "|30.640060838337625|24.0|[0.00632,18.0,2.3...|\n",
      "|30.745344753034924|29.1|[0.01439,60.0,2.9...|\n",
      "| 27.35987906871954|24.5|[0.01501,80.0,2.0...|\n",
      "| 26.13167288247681|30.1|[0.01709,90.0,2.0...|\n",
      "|31.149432949240776|32.9|[0.01778,95.0,1.4...|\n",
      "+------------------+----+--------------------+\n",
      "only showing top 5 rows\n",
      "\n",
      "R Squared (R2) on test data = 0.698078\n"
     ]
    }
   ],
   "source": [
    "lr_predictions = lr_model.transform(test_df)\n",
    "lr_predictions.select(\"prediction\",\"medv\",\"features\").show(5)\n",
    "from pyspark.ml.evaluation import RegressionEvaluator\n",
    "lr_evaluator = RegressionEvaluator(predictionCol=\"prediction\", \\\n",
    "                 labelCol=\"medv\",metricName=\"r2\")\n",
    "print(\"R Squared (R2) on test data = %g\" % lr_evaluator.evaluate(lr_predictions))"
   ]
  },
  {
   "cell_type": "code",
   "execution_count": 13,
   "metadata": {},
   "outputs": [
    {
     "name": "stdout",
     "output_type": "stream",
     "text": [
      "Root Mean Squared Error (RMSE) on test data = 5.09163\n"
     ]
    }
   ],
   "source": [
    "test_result = lr_model.evaluate(test_df)\n",
    "print(\"Root Mean Squared Error (RMSE) on test data = %g\" % test_result.rootMeanSquaredError)"
   ]
  },
  {
   "cell_type": "code",
   "execution_count": 14,
   "metadata": {},
   "outputs": [
    {
     "name": "stdout",
     "output_type": "stream",
     "text": [
      "numIterations: 10\n",
      "objectiveHistory: [0.49999999999999956, 0.4314949120493033, 0.23473980547247938, 0.21191207840803963, 0.18162256736074042, 0.17839841909088772, 0.17740732906544376, 0.17641092742974027, 0.17475058692648102, 0.17416984301717134, 0.17405392110913726]\n",
      "+------------------+\n",
      "|         residuals|\n",
      "+------------------+\n",
      "|1.2857752089491719|\n",
      "|-5.627171751581095|\n",
      "+------------------+\n",
      "only showing top 2 rows\n",
      "\n"
     ]
    }
   ],
   "source": [
    "print(\"numIterations: %d\" % trainingSummary.totalIterations)\n",
    "print(\"objectiveHistory: %s\" % str(trainingSummary.objectiveHistory))\n",
    "trainingSummary.residuals.show(2)"
   ]
  },
  {
   "cell_type": "code",
   "execution_count": 15,
   "metadata": {},
   "outputs": [
    {
     "name": "stdout",
     "output_type": "stream",
     "text": [
      "+------------------+----+--------------------+\n",
      "|        prediction|medv|            features|\n",
      "+------------------+----+--------------------+\n",
      "|30.640060838337625|24.0|[0.00632,18.0,2.3...|\n",
      "|30.745344753034924|29.1|[0.01439,60.0,2.9...|\n",
      "| 27.35987906871954|24.5|[0.01501,80.0,2.0...|\n",
      "| 26.13167288247681|30.1|[0.01709,90.0,2.0...|\n",
      "|31.149432949240776|32.9|[0.01778,95.0,1.4...|\n",
      "+------------------+----+--------------------+\n",
      "only showing top 5 rows\n",
      "\n"
     ]
    }
   ],
   "source": [
    "predictions = lr_model.transform(test_df)\n",
    "predictions.select(\"prediction\",\"medv\",\"features\").show(5)"
   ]
  },
  {
   "cell_type": "markdown",
   "metadata": {},
   "source": [
    "<font size=5>\n",
    "    \n",
    "Now try Gradient Boost Tree Regressor with the same train_df and test_df \n",
    "    \n",
    "    \n",
    "</font>"
   ]
  },
  {
   "cell_type": "code",
   "execution_count": 16,
   "metadata": {},
   "outputs": [],
   "source": [
    "from pyspark.ml import Pipeline\n",
    "from pyspark.ml.regression import GBTRegressor\n",
    "from pyspark.ml.feature import VectorIndexer\n",
    "from pyspark.ml.evaluation import RegressionEvaluator\n"
   ]
  },
  {
   "cell_type": "code",
   "execution_count": 17,
   "metadata": {},
   "outputs": [],
   "source": [
    "gbt = GBTRegressor(featuresCol=\"features\",labelCol='medv', maxIter=10)\n",
    "gbt_model = gbt.fit(train_df)\n"
   ]
  },
  {
   "cell_type": "code",
   "execution_count": 18,
   "metadata": {},
   "outputs": [
    {
     "name": "stdout",
     "output_type": "stream",
     "text": [
      "+------------------+----+--------------------+\n",
      "|        prediction|medv|            features|\n",
      "+------------------+----+--------------------+\n",
      "| 19.90443776764149|24.0|[0.00632,18.0,2.3...|\n",
      "|29.744096476599704|29.1|[0.01439,60.0,2.9...|\n",
      "| 28.34085483804861|24.5|[0.01501,80.0,2.0...|\n",
      "| 30.84232164628737|30.1|[0.01709,90.0,2.0...|\n",
      "| 33.50761840332213|32.9|[0.01778,95.0,1.4...|\n",
      "+------------------+----+--------------------+\n",
      "only showing top 5 rows\n",
      "\n"
     ]
    }
   ],
   "source": [
    "gbt_predictions = gbt_model.transform(test_df)\n",
    "gbt_predictions.select(\"prediction\",\"medv\",\"features\").show(5)"
   ]
  },
  {
   "cell_type": "markdown",
   "metadata": {},
   "source": [
    "<font size=5>\n",
    "\n",
    "Test the model with test_df, testing produces metrics that evaluates the performance of the regressor with RMSE and R2 score.\n",
    "\n",
    "Looks like the metrics of Gradient Boost Tree are better that those of Linear Regressor\n",
    "    \n",
    "    \n",
    "</font>"
   ]
  },
  {
   "cell_type": "code",
   "execution_count": 19,
   "metadata": {},
   "outputs": [
    {
     "name": "stdout",
     "output_type": "stream",
     "text": [
      "R Squared (R2) on test data = 0.84279\n"
     ]
    }
   ],
   "source": [
    "from pyspark.ml.evaluation import RegressionEvaluator\n",
    "gbt_evaluator = RegressionEvaluator(predictionCol=\"prediction\", \\\n",
    "                 labelCol=\"medv\",metricName=\"r2\")\n",
    "print(\"R Squared (R2) on test data = %g\" % gbt_evaluator.evaluate(gbt_predictions))"
   ]
  },
  {
   "cell_type": "code",
   "execution_count": 20,
   "metadata": {},
   "outputs": [],
   "source": [
    "gbt_evaluator = RegressionEvaluator(predictionCol=\"prediction\", \\\n",
    "                 labelCol=\"medv\",metricName=\"rmse\")"
   ]
  },
  {
   "cell_type": "code",
   "execution_count": 21,
   "metadata": {},
   "outputs": [
    {
     "name": "stdout",
     "output_type": "stream",
     "text": [
      "RMSE on test data = 3.67409\n"
     ]
    }
   ],
   "source": [
    "print(\"RMSE on test data = %g\" % gbt_evaluator.evaluate(gbt_predictions))"
   ]
  },
  {
   "cell_type": "markdown",
   "metadata": {},
   "source": [
    "<font size=5>\n",
    "\n",
    "Now try Random Forest Regressor with the same train_df and test_df\n",
    "    \n",
    "</font>"
   ]
  },
  {
   "cell_type": "code",
   "execution_count": 22,
   "metadata": {},
   "outputs": [],
   "source": [
    "from pyspark.ml import Pipeline\n",
    "from pyspark.ml.regression import RandomForestRegressor\n",
    "from pyspark.ml.feature import VectorIndexer\n",
    "from pyspark.ml.evaluation import RegressionEvaluator\n"
   ]
  },
  {
   "cell_type": "code",
   "execution_count": 23,
   "metadata": {},
   "outputs": [],
   "source": [
    "\n",
    "rf = RandomForestRegressor(featuresCol=\"features\",labelCol='medv', maxDepth=3)\n",
    "rf_model = rf.fit(train_df)"
   ]
  },
  {
   "cell_type": "code",
   "execution_count": 24,
   "metadata": {},
   "outputs": [
    {
     "name": "stdout",
     "output_type": "stream",
     "text": [
      "+------------------+----+--------------------+\n",
      "|        prediction|medv|            features|\n",
      "+------------------+----+--------------------+\n",
      "| 25.67269168097973|24.0|[0.00632,18.0,2.3...|\n",
      "| 27.13433297860046|29.1|[0.01439,60.0,2.9...|\n",
      "|25.535747261295093|24.5|[0.01501,80.0,2.0...|\n",
      "|30.456809311689433|30.1|[0.01709,90.0,2.0...|\n",
      "|33.463759352761414|32.9|[0.01778,95.0,1.4...|\n",
      "+------------------+----+--------------------+\n",
      "only showing top 5 rows\n",
      "\n"
     ]
    }
   ],
   "source": [
    "rf_predictions = rf_model.transform(test_df)\n",
    "rf_predictions.select(\"prediction\",\"medv\",\"features\").show(5)"
   ]
  },
  {
   "cell_type": "markdown",
   "metadata": {},
   "source": [
    "<font size=5>\n",
    "    \n",
    "Test the model with test_df, testing produces metrics that evaluates the performance of the regressor with RMSE and R2 score.\n",
    "\n",
    "Looks like the metrics of Random Forest are better that those of Linear Regressor, but similar to those of Gradient Boost Tree\n",
    "    \n",
    "</font>"
   ]
  },
  {
   "cell_type": "code",
   "execution_count": 25,
   "metadata": {},
   "outputs": [
    {
     "name": "stdout",
     "output_type": "stream",
     "text": [
      "R Squared (R2) on test data = 0.786508\n"
     ]
    }
   ],
   "source": [
    "from pyspark.ml.evaluation import RegressionEvaluator\n",
    "rf_evaluator = RegressionEvaluator(predictionCol=\"prediction\", \\\n",
    "                 labelCol=\"medv\",metricName=\"r2\")\n",
    "print(\"R Squared (R2) on test data = %g\" % rf_evaluator.evaluate(rf_predictions))"
   ]
  },
  {
   "cell_type": "code",
   "execution_count": 26,
   "metadata": {},
   "outputs": [],
   "source": [
    "rf_evaluator = RegressionEvaluator(predictionCol=\"prediction\", \\\n",
    "                 labelCol=\"medv\",metricName=\"rmse\")"
   ]
  },
  {
   "cell_type": "code",
   "execution_count": 27,
   "metadata": {},
   "outputs": [
    {
     "name": "stdout",
     "output_type": "stream",
     "text": [
      "RMSE on test data = 3.67409\n"
     ]
    }
   ],
   "source": [
    "print(\"RMSE on test data = %g\" % gbt_evaluator.evaluate(gbt_predictions))"
   ]
  },
  {
   "cell_type": "markdown",
   "metadata": {},
   "source": [
    "<font size=5>\n",
    "\n",
    "Finally, try Decision Tree regressor with the same train_df and test_df\n",
    "    \n",
    "    \n",
    "</font>"
   ]
  },
  {
   "cell_type": "code",
   "execution_count": 28,
   "metadata": {},
   "outputs": [],
   "source": [
    "from pyspark.ml import Pipeline\n",
    "from pyspark.ml.regression import DecisionTreeRegressor\n",
    "from pyspark.ml.feature import VectorIndexer\n",
    "from pyspark.ml.evaluation import RegressionEvaluator\n"
   ]
  },
  {
   "cell_type": "code",
   "execution_count": 29,
   "metadata": {},
   "outputs": [],
   "source": [
    "dt = DecisionTreeRegressor(featuresCol=\"features\",labelCol='medv', maxDepth=3)\n",
    "dt_model = dt.fit(train_df)"
   ]
  },
  {
   "cell_type": "code",
   "execution_count": 30,
   "metadata": {},
   "outputs": [
    {
     "name": "stdout",
     "output_type": "stream",
     "text": [
      "+------------------+----+--------------------+\n",
      "|        prediction|medv|            features|\n",
      "+------------------+----+--------------------+\n",
      "|24.857142857142858|24.0|[0.00632,18.0,2.3...|\n",
      "|24.857142857142858|29.1|[0.01439,60.0,2.9...|\n",
      "|24.857142857142858|24.5|[0.01501,80.0,2.0...|\n",
      "|24.857142857142858|30.1|[0.01709,90.0,2.0...|\n",
      "|33.781481481481485|32.9|[0.01778,95.0,1.4...|\n",
      "+------------------+----+--------------------+\n",
      "only showing top 5 rows\n",
      "\n"
     ]
    }
   ],
   "source": [
    "dt_predictions = dt_model.transform(test_df)\n",
    "dt_predictions.select(\"prediction\",\"medv\",\"features\").show(5)"
   ]
  },
  {
   "cell_type": "markdown",
   "metadata": {},
   "source": [
    "<font size=5>\n",
    "    \n",
    "Test the model with test_df, testing produces metrics that evaluates the performance of the regressor with RMSE and R2 score.\n",
    "\n",
    "Looks like the metrics of Decision Tree Regressor are slightly better than that those of Linear Regressor, but not as good as Gradient Boost Tree and Random Forest\n",
    "\n",
    "</font>"
   ]
  },
  {
   "cell_type": "code",
   "execution_count": 31,
   "metadata": {},
   "outputs": [
    {
     "name": "stdout",
     "output_type": "stream",
     "text": [
      "R Squared (R2) on test data = 0.798582\n"
     ]
    }
   ],
   "source": [
    "from pyspark.ml.evaluation import RegressionEvaluator\n",
    "dt_evaluator = RegressionEvaluator(predictionCol=\"prediction\", \\\n",
    "                 labelCol=\"medv\",metricName=\"r2\")\n",
    "print(\"R Squared (R2) on test data = %g\" % dt_evaluator.evaluate(dt_predictions))"
   ]
  },
  {
   "cell_type": "code",
   "execution_count": 32,
   "metadata": {},
   "outputs": [],
   "source": [
    "dt_evaluator = RegressionEvaluator(predictionCol=\"prediction\", \\\n",
    "                 labelCol=\"medv\",metricName=\"rmse\")"
   ]
  },
  {
   "cell_type": "code",
   "execution_count": 33,
   "metadata": {},
   "outputs": [
    {
     "name": "stdout",
     "output_type": "stream",
     "text": [
      "RMSE on test data = 4.15871\n"
     ]
    }
   ],
   "source": [
    "print(\"RMSE on test data = %g\" % dt_evaluator.evaluate(dt_predictions))"
   ]
  },
  {
   "cell_type": "markdown",
   "metadata": {},
   "source": [
    "<font size=5>\n",
    "\n",
    "This concludes the testing of Spark ML regressors\n",
    "\n",
    "</font>"
   ]
  },
  {
   "cell_type": "code",
   "execution_count": null,
   "metadata": {},
   "outputs": [],
   "source": []
  }
 ],
 "metadata": {
  "kernelspec": {
   "display_name": "Python 3 (ipykernel)",
   "language": "python",
   "name": "python3"
  },
  "language_info": {
   "codemirror_mode": {
    "name": "ipython",
    "version": 3
   },
   "file_extension": ".py",
   "mimetype": "text/x-python",
   "name": "python",
   "nbconvert_exporter": "python",
   "pygments_lexer": "ipython3",
   "version": "3.9.18"
  }
 },
 "nbformat": 4,
 "nbformat_minor": 4
}
