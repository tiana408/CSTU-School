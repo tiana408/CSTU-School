{
 "cells": [
  {
   "cell_type": "code",
   "execution_count": 1,
   "id": "a520a5d0-7798-40ac-bce3-c1fa6641c3e5",
   "metadata": {},
   "outputs": [],
   "source": [
    "import findspark\n",
    "findspark.init()"
   ]
  },
  {
   "cell_type": "code",
   "execution_count": 2,
   "id": "d56a3dc9-9703-4c80-827b-4138ca639ef3",
   "metadata": {},
   "outputs": [],
   "source": [
    "from functools import reduce\n",
    "from pyspark.sql.functions import col, lit, when\n",
    "from graphframes import *\n"
   ]
  },
  {
   "cell_type": "markdown",
   "id": "288ae767-d25b-46ec-8f75-46ccfa2835b4",
   "metadata": {},
   "source": [
    "## Creating GraphFrames\n",
    "Users can create GraphFrames from vertex and edge DataFrames.\n",
    "\n",
    "Vertex DataFrame: A vertex DataFrame should contain a special column named \"id\" which specifies unique IDs for each vertex in the graph.\n",
    "Edge DataFrame: An edge DataFrame should contain two special columns: \"src\" (source vertex ID of edge) and \"dst\" (destination vertex ID of edge).\n",
    "Both DataFrames can have arbitrary other columns. Those columns can represent vertex and edge attributes."
   ]
  },
  {
   "cell_type": "markdown",
   "id": "2e004db4-be11-4dd1-b9a2-787da1e90f1e",
   "metadata": {},
   "source": [
    "Create the vertices first:"
   ]
  },
  {
   "cell_type": "code",
   "execution_count": 3,
   "id": "a48d1c7b-dbe4-4524-9c48-d6db0f5f373c",
   "metadata": {},
   "outputs": [
    {
     "name": "stderr",
     "output_type": "stream",
     "text": [
      "Setting default log level to \"WARN\".\n",
      "To adjust logging level use sc.setLogLevel(newLevel). For SparkR, use setLogLevel(newLevel).\n",
      "24/03/05 03:34:50 WARN NativeCodeLoader: Unable to load native-hadoop library for your platform... using builtin-java classes where applicable\n",
      "24/03/05 03:34:51 WARN Utils: Service 'SparkUI' could not bind on port 4040. Attempting port 4041.\n"
     ]
    }
   ],
   "source": [
    "from pyspark.sql import SparkSession\n",
    "\n",
    "spark = SparkSession \\\n",
    "    .builder \\\n",
    "    .appName(\"Python Spark Graphframes example\") \\\n",
    "    .config(\"spark.some.config.option\", \"some-value\") \\\n",
    "    .getOrCreate()"
   ]
  },
  {
   "cell_type": "code",
   "execution_count": 4,
   "id": "0127e93a-02c1-40f3-9339-ebd68b5b8e14",
   "metadata": {},
   "outputs": [],
   "source": [
    "vertices = spark.createDataFrame([\n",
    "  (\"a\", \"Alice\", 34),\n",
    "  (\"b\", \"Bob\", 36),\n",
    "  (\"c\", \"Charlie\", 30),\n",
    "  (\"d\", \"David\", 29),\n",
    "  (\"e\", \"Esther\", 32),\n",
    "  (\"f\", \"Fanny\", 36),\n",
    "  (\"g\", \"Gabby\", 60)], [\"id\", \"name\", \"age\"])"
   ]
  },
  {
   "cell_type": "code",
   "execution_count": 5,
   "id": "551a6c57-5559-4e72-a69d-559832b3fb91",
   "metadata": {},
   "outputs": [
    {
     "name": "stderr",
     "output_type": "stream",
     "text": [
      "                                                                                \r"
     ]
    },
    {
     "name": "stdout",
     "output_type": "stream",
     "text": [
      "+---+-------+---+\n",
      "|id |name   |age|\n",
      "+---+-------+---+\n",
      "|a  |Alice  |34 |\n",
      "|b  |Bob    |36 |\n",
      "|c  |Charlie|30 |\n",
      "+---+-------+---+\n",
      "only showing top 3 rows\n",
      "\n"
     ]
    }
   ],
   "source": [
    "vertices.show(3, False)"
   ]
  },
  {
   "cell_type": "markdown",
   "id": "1368a48c-cbce-4f3c-8bfd-cc5ac9b8d027",
   "metadata": {},
   "source": [
    "And then some edges:"
   ]
  },
  {
   "cell_type": "code",
   "execution_count": 6,
   "id": "6219126c-d8cb-4607-9bb2-fd8ca37cb3d3",
   "metadata": {},
   "outputs": [],
   "source": [
    "edges = spark.createDataFrame([\n",
    "  (\"a\", \"b\", \"friend\"),\n",
    "  (\"b\", \"c\", \"follow\"),\n",
    "  (\"c\", \"b\", \"follow\"),\n",
    "  (\"f\", \"c\", \"follow\"),\n",
    "  (\"e\", \"f\", \"follow\"),\n",
    "  (\"e\", \"d\", \"friend\"),\n",
    "  (\"d\", \"a\", \"friend\"),\n",
    "  (\"a\", \"e\", \"friend\")\n",
    "], [\"src\", \"dst\", \"relationship\"])"
   ]
  },
  {
   "cell_type": "code",
   "execution_count": 7,
   "id": "5f442bb1-c421-4f30-8190-195c2a30cd7b",
   "metadata": {},
   "outputs": [
    {
     "name": "stdout",
     "output_type": "stream",
     "text": [
      "+---+---+------------+\n",
      "|src|dst|relationship|\n",
      "+---+---+------------+\n",
      "|a  |b  |friend      |\n",
      "|b  |c  |follow      |\n",
      "|c  |b  |follow      |\n",
      "+---+---+------------+\n",
      "only showing top 3 rows\n",
      "\n"
     ]
    }
   ],
   "source": [
    "edges.show(3, False)"
   ]
  },
  {
   "cell_type": "markdown",
   "id": "335e96fe-49de-4eb7-91a6-e1c60a7072b3",
   "metadata": {},
   "source": [
    "Let's create a graph from these vertices and these edges:"
   ]
  },
  {
   "cell_type": "code",
   "execution_count": 8,
   "id": "91ca181d-ef63-4b79-9202-9c3419d091eb",
   "metadata": {},
   "outputs": [
    {
     "name": "stdout",
     "output_type": "stream",
     "text": [
      "GraphFrame(v:[id: string, name: string ... 1 more field], e:[src: string, dst: string ... 1 more field])\n"
     ]
    },
    {
     "name": "stderr",
     "output_type": "stream",
     "text": [
      "/spark/python/pyspark/sql/dataframe.py:168: UserWarning: DataFrame.sql_ctx is an internal property, and will be removed in future releases. Use DataFrame.sparkSession instead.\n",
      "  warnings.warn(\n"
     ]
    }
   ],
   "source": [
    "g = GraphFrame(vertices, edges)\n",
    "print(g)"
   ]
  },
  {
   "cell_type": "markdown",
   "id": "f654057e-c306-491c-bb9d-5d46b0c70a56",
   "metadata": {},
   "source": [
    "## Basic graph and DataFrame queries\n",
    "GraphFrames provide several simple graph queries, such as node degree.\n",
    "\n",
    "Also, since GraphFrames represent graphs as pairs of vertex and edge DataFrames, it is easy to make powerful queries directly on the vertex and edge DataFrames. Those DataFrames are made available as vertices and edges fields in the GraphFrame.\n",
    "\n"
   ]
  },
  {
   "cell_type": "code",
   "execution_count": 9,
   "id": "af0795ec-ebf0-4083-a931-a0057370eab1",
   "metadata": {},
   "outputs": [
    {
     "data": {
      "text/plain": [
       "DataFrame[id: string, name: string, age: bigint]"
      ]
     },
     "metadata": {},
     "output_type": "display_data"
    }
   ],
   "source": [
    "display(g.vertices)"
   ]
  },
  {
   "cell_type": "code",
   "execution_count": 10,
   "id": "1d57f033-587b-4080-9489-05ac31c92451",
   "metadata": {},
   "outputs": [
    {
     "name": "stdout",
     "output_type": "stream",
     "text": [
      "+---+-------+---+\n",
      "| id|   name|age|\n",
      "+---+-------+---+\n",
      "|  a|  Alice| 34|\n",
      "|  b|    Bob| 36|\n",
      "|  c|Charlie| 30|\n",
      "|  d|  David| 29|\n",
      "|  e| Esther| 32|\n",
      "|  f|  Fanny| 36|\n",
      "|  g|  Gabby| 60|\n",
      "+---+-------+---+\n",
      "\n"
     ]
    }
   ],
   "source": [
    "g.vertices.show()"
   ]
  },
  {
   "cell_type": "code",
   "execution_count": 11,
   "id": "80c5a203-18a6-46d3-ba6e-7f64351ae4da",
   "metadata": {},
   "outputs": [
    {
     "name": "stdout",
     "output_type": "stream",
     "text": [
      "+---+---+------------+\n",
      "|src|dst|relationship|\n",
      "+---+---+------------+\n",
      "|  a|  b|      friend|\n",
      "|  b|  c|      follow|\n",
      "|  c|  b|      follow|\n",
      "|  f|  c|      follow|\n",
      "|  e|  f|      follow|\n",
      "|  e|  d|      friend|\n",
      "|  d|  a|      friend|\n",
      "|  a|  e|      friend|\n",
      "+---+---+------------+\n",
      "\n"
     ]
    }
   ],
   "source": [
    "g.edges.show()"
   ]
  },
  {
   "cell_type": "markdown",
   "id": "ef62b580-8227-4c64-a9c0-8e8d9673a001",
   "metadata": {},
   "source": [
    "The incoming degree of the vertices:"
   ]
  },
  {
   "cell_type": "code",
   "execution_count": 12,
   "id": "19533c85-8b9b-4a93-98b0-0d555574def9",
   "metadata": {},
   "outputs": [
    {
     "name": "stderr",
     "output_type": "stream",
     "text": [
      "/spark/python/pyspark/sql/dataframe.py:147: UserWarning: DataFrame constructor is internal. Do not directly use it.\n",
      "  warnings.warn(\"DataFrame constructor is internal. Do not directly use it.\")\n"
     ]
    },
    {
     "name": "stdout",
     "output_type": "stream",
     "text": [
      "+---+--------+\n",
      "| id|inDegree|\n",
      "+---+--------+\n",
      "|  b|       2|\n",
      "|  c|       2|\n",
      "|  f|       1|\n",
      "|  d|       1|\n",
      "|  a|       1|\n",
      "|  e|       1|\n",
      "+---+--------+\n",
      "\n"
     ]
    }
   ],
   "source": [
    "g.inDegrees.show()"
   ]
  },
  {
   "cell_type": "markdown",
   "id": "c9d4af90-ecf3-4737-b314-09c8a431065c",
   "metadata": {},
   "source": [
    "The outgoing degree of the vertices:"
   ]
  },
  {
   "cell_type": "code",
   "execution_count": 13,
   "id": "8c21ad72-dd22-4103-a5f5-2353815aa674",
   "metadata": {},
   "outputs": [
    {
     "name": "stdout",
     "output_type": "stream",
     "text": [
      "+---+---------+\n",
      "| id|outDegree|\n",
      "+---+---------+\n",
      "|  a|        2|\n",
      "|  b|        1|\n",
      "|  c|        1|\n",
      "|  f|        1|\n",
      "|  e|        2|\n",
      "|  d|        1|\n",
      "+---+---------+\n",
      "\n"
     ]
    }
   ],
   "source": [
    "g.outDegrees.show()"
   ]
  },
  {
   "cell_type": "markdown",
   "id": "55f75f8b-d4b0-4d79-ac5f-cdba32402edc",
   "metadata": {},
   "source": [
    "The degree of the vertices:"
   ]
  },
  {
   "cell_type": "code",
   "execution_count": 14,
   "id": "348d6c49-8b87-49fe-8d7b-c3fd271fb216",
   "metadata": {},
   "outputs": [
    {
     "name": "stdout",
     "output_type": "stream",
     "text": [
      "+---+------+\n",
      "| id|degree|\n",
      "+---+------+\n",
      "|  b|     3|\n",
      "|  a|     3|\n",
      "|  c|     3|\n",
      "|  f|     2|\n",
      "|  e|     3|\n",
      "|  d|     2|\n",
      "+---+------+\n",
      "\n"
     ]
    }
   ],
   "source": [
    "g.degrees.show()"
   ]
  },
  {
   "cell_type": "markdown",
   "id": "f6508eaf-7f2b-40ab-b6a9-61be69cb8bc9",
   "metadata": {},
   "source": [
    "You can run queries directly on the vertices DataFrame. For example, we can find the age of the youngest person in the graph:"
   ]
  },
  {
   "cell_type": "code",
   "execution_count": 15,
   "id": "b9922ddf-b1c2-4940-9d4f-89fa38ce2683",
   "metadata": {},
   "outputs": [
    {
     "name": "stdout",
     "output_type": "stream",
     "text": [
      "+--------+\n",
      "|min(age)|\n",
      "+--------+\n",
      "|      29|\n",
      "+--------+\n",
      "\n"
     ]
    }
   ],
   "source": [
    "youngest = g.vertices.groupBy().min(\"age\")\n",
    "youngest.show()"
   ]
  },
  {
   "cell_type": "markdown",
   "id": "f6695802-e785-4e57-bc21-71680f969344",
   "metadata": {},
   "source": [
    "Likewise, you can run queries on the edges DataFrame. For example, let's count the number of 'follow' relationships in the graph:"
   ]
  },
  {
   "cell_type": "code",
   "execution_count": 16,
   "id": "80e5a3d0-0377-4046-8af9-fd305b8e5f33",
   "metadata": {},
   "outputs": [
    {
     "name": "stdout",
     "output_type": "stream",
     "text": [
      "The number of follow edges is 4\n"
     ]
    }
   ],
   "source": [
    "numFollows = g.edges.filter(\"relationship = 'follow'\").count()\n",
    "print(\"The number of follow edges is\", numFollows)"
   ]
  },
  {
   "cell_type": "markdown",
   "id": "7f61d97c-cfdc-43a3-b66f-ab182b20934d",
   "metadata": {},
   "source": [
    "## Motif finding\n",
    "Using motifs you can build more complex relationships involving edges and vertices. The following cell finds the pairs of vertices with edges in both directions between them. The result is a DataFrame, in which the column names are given by the motif keys.\n",
    "\n",
    "Check out the GraphFrame User Guide for more details on the API."
   ]
  },
  {
   "cell_type": "code",
   "execution_count": 17,
   "id": "798db0db-574b-4e1d-9256-c62c119543b5",
   "metadata": {},
   "outputs": [
    {
     "name": "stdout",
     "output_type": "stream",
     "text": [
      "+----------------+--------------+----------------+--------------+\n",
      "|               a|             e|               b|            e2|\n",
      "+----------------+--------------+----------------+--------------+\n",
      "|{c, Charlie, 30}|{c, b, follow}|    {b, Bob, 36}|{b, c, follow}|\n",
      "|    {b, Bob, 36}|{b, c, follow}|{c, Charlie, 30}|{c, b, follow}|\n",
      "+----------------+--------------+----------------+--------------+\n",
      "\n"
     ]
    }
   ],
   "source": [
    "# Search for pairs of vertices with edges in both directions between them.\n",
    "motifs = g.find(\"(a)-[e]->(b); (b)-[e2]->(a)\")\n",
    "motifs.show()"
   ]
  },
  {
   "cell_type": "markdown",
   "id": "0e9afbfa-a113-42f6-a980-f38293f741cf",
   "metadata": {},
   "source": [
    "Since the result is a DataFrame, more complex queries can be built on top of the motif. Let us find all the reciprocal relationships in which one person is older than 30:"
   ]
  },
  {
   "cell_type": "code",
   "execution_count": 18,
   "id": "099c9d4e-2877-4be8-9b5d-89718af1a8c0",
   "metadata": {},
   "outputs": [
    {
     "name": "stdout",
     "output_type": "stream",
     "text": [
      "+----------------+--------------+----------------+--------------+\n",
      "|               a|             e|               b|            e2|\n",
      "+----------------+--------------+----------------+--------------+\n",
      "|{c, Charlie, 30}|{c, b, follow}|    {b, Bob, 36}|{b, c, follow}|\n",
      "|    {b, Bob, 36}|{b, c, follow}|{c, Charlie, 30}|{c, b, follow}|\n",
      "+----------------+--------------+----------------+--------------+\n",
      "\n"
     ]
    }
   ],
   "source": [
    "filtered = motifs.filter(\"b.age > 30 or a.age > 30\")\n",
    "filtered.show()"
   ]
  },
  {
   "cell_type": "markdown",
   "id": "cdc83b33-0e98-4285-9160-dcebca75b1c2",
   "metadata": {},
   "source": [
    "## Stateful queries\n",
    "Most motif queries are stateless and simple to express, as in the examples above. The next example demonstrates a more complex query that carries state along a path in the motif. Such queries can be expressed by combining GraphFrame motif finding with filters on the result where the filters use sequence operations to operate over DataFrame columns.\n",
    "\n",
    "For example, suppose you want to identify a chain of 4 vertices with some property defined by a sequence of functions. That is, among chains of 4 vertices a->b->c->d, identify the subset of chains matching this complex filter:\n",
    "\n",
    "Initialize state on path.\n",
    "Update state based on vertex a.\n",
    "Update state based on vertex b.\n",
    "Etc. for c and d.\n",
    "If final state matches some condition, then the filter accepts the chain. The below code snippets demonstrate this process, where we identify chains of 4 vertices such that at least 2 of the 3 edges are “friend” relationships. In this example, the state is the current count of “friend” edges; in general, it could be any DataFrame Column."
   ]
  },
  {
   "cell_type": "code",
   "execution_count": 19,
   "id": "470db4e3-b98d-4318-b68a-0b066e887ae9",
   "metadata": {},
   "outputs": [
    {
     "name": "stdout",
     "output_type": "stream",
     "text": [
      "+---------------+--------------+---------------+--------------+---------------+--------------+----------------+-----------+\n",
      "|              a|            ab|              b|            bc|              c|            cd|               d|num_friends|\n",
      "+---------------+--------------+---------------+--------------+---------------+--------------+----------------+-----------+\n",
      "| {a, Alice, 34}|{a, e, friend}|{e, Esther, 32}|{e, d, friend}| {d, David, 29}|{d, a, friend}|  {a, Alice, 34}|          3|\n",
      "|{e, Esther, 32}|{e, d, friend}| {d, David, 29}|{d, a, friend}| {a, Alice, 34}|{a, b, friend}|    {b, Bob, 36}|          3|\n",
      "| {d, David, 29}|{d, a, friend}| {a, Alice, 34}|{a, b, friend}|   {b, Bob, 36}|{b, c, follow}|{c, Charlie, 30}|          2|\n",
      "| {d, David, 29}|{d, a, friend}| {a, Alice, 34}|{a, e, friend}|{e, Esther, 32}|{e, d, friend}|  {d, David, 29}|          3|\n",
      "|{e, Esther, 32}|{e, d, friend}| {d, David, 29}|{d, a, friend}| {a, Alice, 34}|{a, e, friend}| {e, Esther, 32}|          3|\n",
      "| {d, David, 29}|{d, a, friend}| {a, Alice, 34}|{a, e, friend}|{e, Esther, 32}|{e, f, follow}|  {f, Fanny, 36}|          2|\n",
      "+---------------+--------------+---------------+--------------+---------------+--------------+----------------+-----------+\n",
      "\n"
     ]
    }
   ],
   "source": [
    "# Find chains of 4 vertices.\n",
    "chain4 = g.find(\"(a)-[ab]->(b); (b)-[bc]->(c); (c)-[cd]->(d)\")\n",
    " \n",
    "# Query on sequence, with state (cnt)\n",
    "#  (a) Define method for updating state given the next element of the motif.\n",
    "def cumFriends(cnt, edge):\n",
    "  relationship = col(edge)[\"relationship\"]\n",
    "  return when(relationship == \"friend\", cnt + 1).otherwise(cnt)\n",
    " \n",
    "#  (b) Use sequence operation to apply method to sequence of elements in motif.\n",
    "#   In this case, the elements are the 3 edges.\n",
    "edges = [\"ab\", \"bc\", \"cd\"]\n",
    "numFriends = reduce(cumFriends, edges, lit(0))\n",
    "    \n",
    "chainWith2Friends2 = chain4.withColumn(\"num_friends\", numFriends).where(numFriends >= 2)\n",
    "chainWith2Friends2.show()"
   ]
  },
  {
   "cell_type": "markdown",
   "id": "1d194335-0b34-4aa9-8415-67b0efaa0bb2",
   "metadata": {},
   "source": [
    "## Subgraphs\n",
    "GraphFrames provides APIs for building subgraphs by filtering on edges and vertices. These filters can be composed together, for example the following subgraph only includes people who are more than 30 years old and have friends who are more than 30 years old."
   ]
  },
  {
   "cell_type": "code",
   "execution_count": 20,
   "id": "a62e1945-22aa-47de-bff8-04fce062cfd0",
   "metadata": {},
   "outputs": [],
   "source": [
    "g2 = g.filterEdges(\"relationship = 'friend'\").filterVertices(\"age > 30\").dropIsolatedVertices()"
   ]
  },
  {
   "cell_type": "code",
   "execution_count": 21,
   "id": "93df2c8e-54ca-48c8-8f4b-71443179ef6e",
   "metadata": {},
   "outputs": [
    {
     "name": "stdout",
     "output_type": "stream",
     "text": [
      "+---+------+---+\n",
      "| id|  name|age|\n",
      "+---+------+---+\n",
      "|  a| Alice| 34|\n",
      "|  b|   Bob| 36|\n",
      "|  e|Esther| 32|\n",
      "+---+------+---+\n",
      "\n"
     ]
    }
   ],
   "source": [
    "g2.vertices.show()"
   ]
  },
  {
   "cell_type": "code",
   "execution_count": 22,
   "id": "1810e66c-3ebc-45ca-9d01-043130468783",
   "metadata": {},
   "outputs": [
    {
     "name": "stdout",
     "output_type": "stream",
     "text": [
      "+---+---+------------+\n",
      "|src|dst|relationship|\n",
      "+---+---+------------+\n",
      "|  a|  b|      friend|\n",
      "|  a|  e|      friend|\n",
      "+---+---+------------+\n",
      "\n"
     ]
    }
   ],
   "source": [
    "g2.edges.show()"
   ]
  },
  {
   "cell_type": "markdown",
   "id": "73573c31-1bd9-4c41-9926-f38c207b8d94",
   "metadata": {},
   "source": [
    "## Standard graph algorithms\n",
    "GraphFrames comes with a number of standard graph algorithms built in:\n",
    "\n",
    "Breadth-first search (BFS)\n",
    "Connected components\n",
    "Strongly connected components\n",
    "Label Propagation Algorithm (LPA)\n",
    "PageRank (regular and personalized)\n",
    "Shortest paths\n",
    "Triangle count"
   ]
  },
  {
   "cell_type": "markdown",
   "id": "0bab5d4d-1681-4e39-b7c8-22bec9fab9be",
   "metadata": {},
   "source": [
    "Breadth-first search (BFS)\n",
    "Search from \"Esther\" for users of age < 32."
   ]
  },
  {
   "cell_type": "code",
   "execution_count": 23,
   "id": "7b28ecdd-23d5-4a1b-a43f-10547808d940",
   "metadata": {},
   "outputs": [
    {
     "name": "stdout",
     "output_type": "stream",
     "text": [
      "+---------------+--------------+--------------+\n",
      "|           from|            e0|            to|\n",
      "+---------------+--------------+--------------+\n",
      "|{e, Esther, 32}|{e, d, friend}|{d, David, 29}|\n",
      "+---------------+--------------+--------------+\n",
      "\n"
     ]
    }
   ],
   "source": [
    "paths = g.bfs(\"name = 'Esther'\", \"age < 32\")\n",
    "paths.show()"
   ]
  },
  {
   "cell_type": "markdown",
   "id": "a127bf7d-ad8c-47d1-acfa-e81abfff571a",
   "metadata": {},
   "source": [
    "The search may also be limited by edge filters and maximum path lengths."
   ]
  },
  {
   "cell_type": "code",
   "execution_count": 24,
   "id": "3e449ef0-9341-40d6-a5c4-6cb26b3d9726",
   "metadata": {},
   "outputs": [
    {
     "name": "stdout",
     "output_type": "stream",
     "text": [
      "+---------------+--------------+--------------+--------------+----------------+\n",
      "|           from|            e0|            v1|            e1|              to|\n",
      "+---------------+--------------+--------------+--------------+----------------+\n",
      "|{e, Esther, 32}|{e, f, follow}|{f, Fanny, 36}|{f, c, follow}|{c, Charlie, 30}|\n",
      "+---------------+--------------+--------------+--------------+----------------+\n",
      "\n"
     ]
    }
   ],
   "source": [
    "filteredPaths = g.bfs(\n",
    "  fromExpr = \"name = 'Esther'\",\n",
    "  toExpr = \"age < 32\",\n",
    "  edgeFilter = \"relationship != 'friend'\",\n",
    "  maxPathLength = 3)\n",
    "filteredPaths.show()"
   ]
  },
  {
   "cell_type": "markdown",
   "id": "3400ffe0-01b9-4503-8329-138b1a85acb7",
   "metadata": {},
   "source": [
    "## Connected components\n",
    "Compute the connected component membership of each vertex and return a DataFrame with each vertex assigned a component ID. The GraphFrames connected components implementation can take advantage of checkpointing to improve performance."
   ]
  },
  {
   "cell_type": "code",
   "execution_count": 25,
   "id": "de1db2ce-f256-49a5-a07b-3c86a1951807",
   "metadata": {},
   "outputs": [
    {
     "name": "stderr",
     "output_type": "stream",
     "text": [
      "24/03/05 03:35:20 WARN BlockManager: Block rdd_299_0 already exists on this machine; not re-adding it\n",
      "                                                                                \r"
     ]
    },
    {
     "name": "stdout",
     "output_type": "stream",
     "text": [
      "+---+-------+---+---------+\n",
      "| id|   name|age|component|\n",
      "+---+-------+---+---------+\n",
      "|  a|  Alice| 34|        0|\n",
      "|  b|    Bob| 36|        0|\n",
      "|  c|Charlie| 30|        0|\n",
      "|  d|  David| 29|        0|\n",
      "|  e| Esther| 32|        0|\n",
      "|  f|  Fanny| 36|        0|\n",
      "|  g|  Gabby| 60|        6|\n",
      "+---+-------+---+---------+\n",
      "\n"
     ]
    }
   ],
   "source": [
    "spark.sparkContext.setCheckpointDir(\"/tmp/graphframes-example-connected-components\")\n",
    "result = g.connectedComponents()\n",
    "result.show()"
   ]
  },
  {
   "cell_type": "markdown",
   "id": "46276506-648e-44ba-ae5c-f5589a47c050",
   "metadata": {},
   "source": [
    "## Strongly connected components\n",
    "Compute the strongly connected component (SCC) of each vertex and return a DataFrame with each vertex assigned to the SCC containing that vertex."
   ]
  },
  {
   "cell_type": "code",
   "execution_count": 26,
   "id": "7e3414bc-9d7a-465e-8b7b-3a8d23036877",
   "metadata": {},
   "outputs": [
    {
     "name": "stderr",
     "output_type": "stream",
     "text": [
      "24/03/05 03:35:33 WARN BlockManager: Block rdd_552_0 already exists on this machine; not re-adding it\n"
     ]
    },
    {
     "name": "stdout",
     "output_type": "stream",
     "text": [
      "+---+---------+\n",
      "| id|component|\n",
      "+---+---------+\n",
      "|  a|        0|\n",
      "|  b|        1|\n",
      "|  c|        1|\n",
      "|  d|        0|\n",
      "|  e|        0|\n",
      "|  f|        5|\n",
      "|  g|        6|\n",
      "+---+---------+\n",
      "\n"
     ]
    }
   ],
   "source": [
    "result = g.stronglyConnectedComponents(maxIter=10)\n",
    "result.select(\"id\", \"component\").show()"
   ]
  },
  {
   "cell_type": "markdown",
   "id": "be3d8dfe-5370-44f6-8e2d-6a6d59028064",
   "metadata": {},
   "source": [
    "## Label Propagation\n",
    "Run static Label Propagation Algorithm for detecting communities in networks.\n",
    "\n",
    "Each node in the network is initially assigned to its own community. At every superstep, nodes send their community affiliation to all neighbors and update their state to the most frequent community affiliation of incoming messages.\n",
    "\n",
    "LPA is a standard community detection algorithm for graphs. It is very inexpensive computationally, although (1) convergence is not guaranteed and (2) one can end up with trivial solutions (all nodes are identified into a single community)."
   ]
  },
  {
   "cell_type": "code",
   "execution_count": 27,
   "id": "789759f7-b64c-46e5-83ff-4701d61414cf",
   "metadata": {},
   "outputs": [
    {
     "name": "stdout",
     "output_type": "stream",
     "text": [
      "+---+-------+---+-----+\n",
      "| id|   name|age|label|\n",
      "+---+-------+---+-----+\n",
      "|  a|  Alice| 34|    2|\n",
      "|  b|    Bob| 36|    2|\n",
      "|  c|Charlie| 30|    1|\n",
      "|  d|  David| 29|    2|\n",
      "|  e| Esther| 32|    5|\n",
      "|  f|  Fanny| 36|    2|\n",
      "|  g|  Gabby| 60|    6|\n",
      "+---+-------+---+-----+\n",
      "\n"
     ]
    }
   ],
   "source": [
    "result = g.labelPropagation(maxIter=5)\n",
    "result.show()"
   ]
  },
  {
   "cell_type": "markdown",
   "id": "bf5526d9-c339-4614-b889-99328f7493cd",
   "metadata": {},
   "source": [
    "## PageRank\n",
    "Identify important vertices in a graph based on connections."
   ]
  },
  {
   "cell_type": "code",
   "execution_count": 28,
   "id": "f713e3ce-9810-4365-a260-70991e0ceb13",
   "metadata": {},
   "outputs": [
    {
     "name": "stdout",
     "output_type": "stream",
     "text": [
      "+---+-------+---+-------------------+\n",
      "| id|   name|age|           pagerank|\n",
      "+---+-------+---+-------------------+\n",
      "|  a|  Alice| 34|0.44910633706538744|\n",
      "|  b|    Bob| 36|  2.655507832863289|\n",
      "|  c|Charlie| 30| 2.6878300011606218|\n",
      "|  d|  David| 29| 0.3283606792049851|\n",
      "|  e| Esther| 32|0.37085233187676075|\n",
      "|  f|  Fanny| 36| 0.3283606792049851|\n",
      "|  g|  Gabby| 60| 0.1799821386239711|\n",
      "+---+-------+---+-------------------+\n",
      "\n"
     ]
    }
   ],
   "source": [
    "results = g.pageRank(resetProbability=0.15, tol=0.01)\n",
    "results.vertices.show()\n"
   ]
  },
  {
   "cell_type": "code",
   "execution_count": 29,
   "id": "50aba0c7-4092-4e57-ba24-0e17b17d78ef",
   "metadata": {},
   "outputs": [
    {
     "name": "stdout",
     "output_type": "stream",
     "text": [
      "+---+---+------------+------+\n",
      "|src|dst|relationship|weight|\n",
      "+---+---+------------+------+\n",
      "|  a|  b|      friend|   0.5|\n",
      "|  a|  e|      friend|   0.5|\n",
      "|  b|  c|      follow|   1.0|\n",
      "|  c|  b|      follow|   1.0|\n",
      "|  d|  a|      friend|   1.0|\n",
      "|  e|  d|      friend|   0.5|\n",
      "|  e|  f|      follow|   0.5|\n",
      "|  f|  c|      follow|   1.0|\n",
      "+---+---+------------+------+\n",
      "\n"
     ]
    }
   ],
   "source": [
    "results.edges.show()"
   ]
  },
  {
   "cell_type": "code",
   "execution_count": 30,
   "id": "15c40fa1-f01a-489b-967f-d3586cba30e7",
   "metadata": {},
   "outputs": [
    {
     "data": {
      "text/plain": [
       "GraphFrame(v:[id: string, name: string ... 2 more fields], e:[src: string, dst: string ... 2 more fields])"
      ]
     },
     "execution_count": 30,
     "metadata": {},
     "output_type": "execute_result"
    }
   ],
   "source": [
    "# Run PageRank for a fixed number of iterations.\n",
    "g.pageRank(resetProbability=0.15, maxIter=10)"
   ]
  },
  {
   "cell_type": "code",
   "execution_count": 31,
   "id": "e808ad85-5a93-4213-b91f-52b66f321378",
   "metadata": {},
   "outputs": [
    {
     "data": {
      "text/plain": [
       "GraphFrame(v:[id: string, name: string ... 2 more fields], e:[src: string, dst: string ... 2 more fields])"
      ]
     },
     "execution_count": 31,
     "metadata": {},
     "output_type": "execute_result"
    }
   ],
   "source": [
    "# Run PageRank personalized for vertex \"a\"\n",
    "g.pageRank(resetProbability=0.15, maxIter=10, sourceId=\"a\")"
   ]
  },
  {
   "cell_type": "markdown",
   "id": "c1f9fad1-57e6-4bc8-81ac-1f067cc59ca2",
   "metadata": {},
   "source": [
    "## Shortest paths\n",
    "Computes shortest paths to the given set of landmark vertices, where landmarks are specified by vertex ID."
   ]
  },
  {
   "cell_type": "code",
   "execution_count": 32,
   "id": "ace25f3b-4bac-4e72-a395-b3278f5d3121",
   "metadata": {},
   "outputs": [
    {
     "name": "stdout",
     "output_type": "stream",
     "text": [
      "+---+-------+---+----------------+\n",
      "| id|   name|age|       distances|\n",
      "+---+-------+---+----------------+\n",
      "|  a|  Alice| 34|{d -> 2, a -> 0}|\n",
      "|  b|    Bob| 36|              {}|\n",
      "|  c|Charlie| 30|              {}|\n",
      "|  d|  David| 29|{d -> 0, a -> 1}|\n",
      "|  e| Esther| 32|{d -> 1, a -> 2}|\n",
      "|  f|  Fanny| 36|              {}|\n",
      "|  g|  Gabby| 60|              {}|\n",
      "+---+-------+---+----------------+\n",
      "\n"
     ]
    }
   ],
   "source": [
    "results = g.shortestPaths(landmarks=[\"a\", \"d\"])\n",
    "results.show()"
   ]
  },
  {
   "cell_type": "markdown",
   "id": "088fe85b-129f-4498-90e2-b6fb872d49a2",
   "metadata": {},
   "source": [
    "## Triangle count\n",
    "Computes the number of triangles passing through each vertex."
   ]
  },
  {
   "cell_type": "code",
   "execution_count": 33,
   "id": "d22666e0-d360-4fe9-8571-d2c6a8ab499c",
   "metadata": {},
   "outputs": [
    {
     "name": "stdout",
     "output_type": "stream",
     "text": [
      "+-----+---+-------+---+\n",
      "|count| id|   name|age|\n",
      "+-----+---+-------+---+\n",
      "|    1|  a|  Alice| 34|\n",
      "|    0|  b|    Bob| 36|\n",
      "|    0|  c|Charlie| 30|\n",
      "|    1|  d|  David| 29|\n",
      "|    1|  e| Esther| 32|\n",
      "|    0|  f|  Fanny| 36|\n",
      "|    0|  g|  Gabby| 60|\n",
      "+-----+---+-------+---+\n",
      "\n"
     ]
    }
   ],
   "source": [
    "results = g.triangleCount()\n",
    "results.show()"
   ]
  },
  {
   "cell_type": "code",
   "execution_count": null,
   "id": "0b53284e-f906-4959-b542-fc16e9f5ab13",
   "metadata": {},
   "outputs": [],
   "source": []
  }
 ],
 "metadata": {
  "kernelspec": {
   "display_name": "Python 3 (ipykernel)",
   "language": "python",
   "name": "python3"
  },
  "language_info": {
   "codemirror_mode": {
    "name": "ipython",
    "version": 3
   },
   "file_extension": ".py",
   "mimetype": "text/x-python",
   "name": "python",
   "nbconvert_exporter": "python",
   "pygments_lexer": "ipython3",
   "version": "3.9.18"
  }
 },
 "nbformat": 4,
 "nbformat_minor": 5
}
