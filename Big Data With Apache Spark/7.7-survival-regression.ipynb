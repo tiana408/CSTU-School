{
 "cells": [
  {
   "cell_type": "code",
   "execution_count": null,
   "id": "bc5a6cde",
   "metadata": {},
   "outputs": [],
   "source": [
    "import findspark\n",
    "findspark.init()\n",
    "from pyspark.sql import SparkSession\n",
    "from pyspark.ml.linalg import Vectors\n",
    "from pyspark.ml.regression import AFTSurvivalRegression"
   ]
  },
  {
   "cell_type": "code",
   "execution_count": null,
   "id": "c0d8c2d5",
   "metadata": {},
   "outputs": [],
   "source": [
    "spark = SparkSession \\\n",
    "    .builder \\\n",
    "    .appName(\"Survival Regression\") \\\n",
    "    .getOrCreate()"
   ]
  },
  {
   "cell_type": "markdown",
   "id": "dd628a6d",
   "metadata": {},
   "source": [
    "### Logged Time To Failure Data\n",
    "\n",
    "label = unit of time, say months, equipment fails\n",
    "censor = 1 means occured, say time (by the label) to failure, uncensored\n",
    "censor = 0 means censored, failure not occured, say time (by the label) to maintenance\n",
    "features contains feature columns, such as machine age and temperature, more example such as \n",
    "\n",
    "Haeat Attack Study:\n",
    "https://web.archive.org/web/20170517071528/http://www.umass.edu/statdata/statdata/data/whas500.txt\n"
   ]
  },
  {
   "cell_type": "code",
   "execution_count": null,
   "id": "3fc27941",
   "metadata": {},
   "outputs": [],
   "source": [
    "training = spark.createDataFrame((\n",
    "(1.218, 1.0, Vectors.dense(1.560, -0.605)), \n",
    "(2.949, 0.0, Vectors.dense(0.346, 2.158)),\n",
    "(3.627, 0.0, Vectors.dense(1.380, 0.231)), \n",
    "(0.273, 1.0, Vectors.dense(0.520, 1.151)), \n",
    "(4.199, 0.0, Vectors.dense(0.795, -0.226))\n",
    ")).toDF(\"label\", \"censor\", \"features\")"
   ]
  },
  {
   "cell_type": "code",
   "execution_count": null,
   "id": "051f2ca5",
   "metadata": {},
   "outputs": [],
   "source": [
    "training.show()"
   ]
  },
  {
   "cell_type": "markdown",
   "id": "f1b01e80",
   "metadata": {},
   "source": [
    "### Predict 2 quantile time to failure at 30% chance and at 60% chance "
   ]
  },
  {
   "cell_type": "code",
   "execution_count": null,
   "id": "af8a7e33",
   "metadata": {},
   "outputs": [],
   "source": [
    "quantileProbabilities = (0.3, 0.9)"
   ]
  },
  {
   "cell_type": "markdown",
   "id": "809b2abc",
   "metadata": {},
   "source": [
    "### train the model with training data above with AFTSurvivalRegression"
   ]
  },
  {
   "cell_type": "code",
   "execution_count": null,
   "id": "3b4619b9",
   "metadata": {},
   "outputs": [],
   "source": [
    "aft = AFTSurvivalRegression(quantileProbabilities=quantileProbabilities,quantilesCol=\"quantiles\",\\\n",
    "                            censorCol=\"censor\",featuresCol=\"features\",labelCol=\"label\") \n",
    "model = aft.fit(training)"
   ]
  },
  {
   "cell_type": "markdown",
   "id": "596ee9c9",
   "metadata": {},
   "source": [
    "### # Print the coefficients, intercept and scale parameter for AFT survival regression"
   ]
  },
  {
   "cell_type": "code",
   "execution_count": null,
   "id": "51660bd0",
   "metadata": {},
   "outputs": [],
   "source": [
    "print(\"Coefficients: {}\".format(model.coefficients))\n",
    "print(\"Intercept: {}\".format(model.intercept))\n",
    "print(\"Scale: {}\".format(model.scale)) \n"
   ]
  },
  {
   "cell_type": "markdown",
   "id": "d90f31cb",
   "metadata": {},
   "source": [
    "### transform the data based on model\n",
    "\n",
    "prediction = time unit to fail when censor = 1 uncensored\n",
    "prediction = time unit to other event such as maintenance when censor = 0 (Censored)\n",
    "1st element of quantiles = time unit at 30% chance\n",
    "2nd element of quantiles = time unit at 60% chance"
   ]
  },
  {
   "cell_type": "code",
   "execution_count": null,
   "id": "bd911400",
   "metadata": {},
   "outputs": [],
   "source": [
    "model.transform(training).show(truncate=False)"
   ]
  },
  {
   "cell_type": "code",
   "execution_count": null,
   "id": "4a7f802e",
   "metadata": {},
   "outputs": [],
   "source": []
  }
 ],
 "metadata": {
  "kernelspec": {
   "display_name": "Python 3 (ipykernel)",
   "language": "python",
   "name": "python3"
  },
  "language_info": {
   "codemirror_mode": {
    "name": "ipython",
    "version": 3
   },
   "file_extension": ".py",
   "mimetype": "text/x-python",
   "name": "python",
   "nbconvert_exporter": "python",
   "pygments_lexer": "ipython3",
   "version": "3.9.18"
  }
 },
 "nbformat": 4,
 "nbformat_minor": 5
}
