{
 "cells": [
  {
   "cell_type": "code",
   "execution_count": 1,
   "id": "c2f12a65",
   "metadata": {},
   "outputs": [],
   "source": [
    "pip install -U pandas==1.5.3 # because current version of pandas has problem converting to Spark SQL DF"
   ]
  },
  {
   "cell_type": "code",
   "execution_count": 2,
   "id": "6015cc22",
   "metadata": {},
   "outputs": [],
   "source": [
    "import findspark\n",
    "findspark.init()\n",
    "\n",
    "import numpy as np\n",
    "import pandas as pd\n",
    "import matplotlib.pyplot as plt\n",
    "%matplotlib inline"
   ]
  },
  {
   "cell_type": "code",
   "execution_count": 3,
   "id": "bc5a6cde",
   "metadata": {},
   "outputs": [],
   "source": [
    "from pyspark.sql import SparkSession\n",
    "from pyspark.mllib.stat import Statistics\n",
    "from pyspark.mllib.util import MLUtils"
   ]
  },
  {
   "cell_type": "code",
   "execution_count": 4,
   "id": "e5ba64ad",
   "metadata": {},
   "outputs": [],
   "source": [
    "generate_random = np.random.RandomState(0)\n",
    "x = 10 * generate_random.rand(100)"
   ]
  },
  {
   "cell_type": "code",
   "execution_count": 5,
   "id": "9fa4af8e",
   "metadata": {},
   "outputs": [],
   "source": [
    "y = 3 * x + np.random.randn(100)"
   ]
  },
  {
   "cell_type": "code",
   "execution_count": 6,
   "id": "ca5b6276",
   "metadata": {},
   "outputs": [
    {
     "data": {
      "text/plain": [
       "array([5.48813504, 7.15189366, 6.02763376, 5.44883183, 4.23654799,\n",
       "       6.45894113, 4.37587211, 8.91773001, 9.63662761, 3.83441519,\n",
       "       7.91725038, 5.2889492 , 5.68044561, 9.25596638, 0.71036058,\n",
       "       0.871293  , 0.20218397, 8.32619846, 7.78156751, 8.70012148,\n",
       "       9.78618342, 7.99158564, 4.61479362, 7.80529176, 1.18274426,\n",
       "       6.39921021, 1.43353287, 9.44668917, 5.21848322, 4.1466194 ,\n",
       "       2.64555612, 7.74233689, 4.56150332, 5.68433949, 0.187898  ,\n",
       "       6.17635497, 6.12095723, 6.16933997, 9.43748079, 6.81820299,\n",
       "       3.59507901, 4.37031954, 6.97631196, 0.60225472, 6.66766715,\n",
       "       6.7063787 , 2.10382561, 1.28926298, 3.15428351, 3.63710771,\n",
       "       5.7019677 , 4.38601513, 9.88373838, 1.02044811, 2.08876756,\n",
       "       1.61309518, 6.53108325, 2.53291603, 4.66310773, 2.44425592,\n",
       "       1.58969584, 1.10375141, 6.56329589, 1.38182951, 1.96582362,\n",
       "       3.68725171, 8.2099323 , 0.97101276, 8.37944907, 0.96098408,\n",
       "       9.76459465, 4.68651202, 9.76761088, 6.0484552 , 7.39263579,\n",
       "       0.39187792, 2.82806963, 1.20196561, 2.96140198, 1.18727719,\n",
       "       3.17983179, 4.14262995, 0.64147496, 6.92472119, 5.66601454,\n",
       "       2.65389491, 5.23248053, 0.93940511, 5.75946496, 9.29296198,\n",
       "       3.18568952, 6.6741038 , 1.31797862, 7.16327204, 2.89406093,\n",
       "       1.83191362, 5.86512935, 0.20107546, 8.28940029, 0.04695476])"
      ]
     },
     "execution_count": 6,
     "metadata": {},
     "output_type": "execute_result"
    }
   ],
   "source": [
    "x"
   ]
  },
  {
   "cell_type": "code",
   "execution_count": 7,
   "id": "700b0542",
   "metadata": {},
   "outputs": [
    {
     "data": {
      "image/png": "[encoded data removed]",
      "text/plain": [
       "<Figure size 1000x800 with 1 Axes>"
      ]
     },
     "metadata": {},
     "output_type": "display_data"
    }
   ],
   "source": [
    "plt.figure(figsize = (10, 8))\n",
    "plt.scatter(x, y);"
   ]
  },
  {
   "cell_type": "code",
   "execution_count": 8,
   "id": "1c7a8a69",
   "metadata": {},
   "outputs": [],
   "source": [
    "frame={'x':list(x),'label':list(y)}\n",
    "df=pd.DataFrame(frame)"
   ]
  },
  {
   "cell_type": "code",
   "execution_count": 9,
   "id": "92391ddf-3665-4c3c-a08e-9d5042ec502b",
   "metadata": {},
   "outputs": [
    {
     "data": {
      "text/html": [
       "<div>\n",
       "<style scoped>\n",
       "    .dataframe tbody tr th:only-of-type {\n",
       "        vertical-align: middle;\n",
       "    }\n",
       "\n",
       "    .dataframe tbody tr th {\n",
       "        vertical-align: top;\n",
       "    }\n",
       "\n",
       "    .dataframe thead th {\n",
       "        text-align: right;\n",
       "    }\n",
       "</style>\n",
       "<table border=\"1\" class=\"dataframe\">\n",
       "  <thead>\n",
       "    <tr style=\"text-align: right;\">\n",
       "      <th></th>\n",
       "      <th>x</th>\n",
       "      <th>label</th>\n",
       "    </tr>\n",
       "  </thead>\n",
       "  <tbody>\n",
       "    <tr>\n",
       "      <th>0</th>\n",
       "      <td>5.488135</td>\n",
       "      <td>16.552132</td>\n",
       "    </tr>\n",
       "    <tr>\n",
       "      <th>1</th>\n",
       "      <td>7.151894</td>\n",
       "      <td>22.986816</td>\n",
       "    </tr>\n",
       "    <tr>\n",
       "      <th>2</th>\n",
       "      <td>6.027634</td>\n",
       "      <td>16.967792</td>\n",
       "    </tr>\n",
       "    <tr>\n",
       "      <th>3</th>\n",
       "      <td>5.448832</td>\n",
       "      <td>17.909167</td>\n",
       "    </tr>\n",
       "    <tr>\n",
       "      <th>4</th>\n",
       "      <td>4.236548</td>\n",
       "      <td>11.332776</td>\n",
       "    </tr>\n",
       "    <tr>\n",
       "      <th>...</th>\n",
       "      <td>...</td>\n",
       "      <td>...</td>\n",
       "    </tr>\n",
       "    <tr>\n",
       "      <th>95</th>\n",
       "      <td>1.831914</td>\n",
       "      <td>5.124720</td>\n",
       "    </tr>\n",
       "    <tr>\n",
       "      <th>96</th>\n",
       "      <td>5.865129</td>\n",
       "      <td>19.424731</td>\n",
       "    </tr>\n",
       "    <tr>\n",
       "      <th>97</th>\n",
       "      <td>0.201075</td>\n",
       "      <td>-1.381224</td>\n",
       "    </tr>\n",
       "    <tr>\n",
       "      <th>98</th>\n",
       "      <td>8.289400</td>\n",
       "      <td>24.076966</td>\n",
       "    </tr>\n",
       "    <tr>\n",
       "      <th>99</th>\n",
       "      <td>0.046955</td>\n",
       "      <td>-0.179753</td>\n",
       "    </tr>\n",
       "  </tbody>\n",
       "</table>\n",
       "<p>100 rows × 2 columns</p>\n",
       "</div>"
      ],
      "text/plain": [
       "           x      label\n",
       "0   5.488135  16.552132\n",
       "1   7.151894  22.986816\n",
       "2   6.027634  16.967792\n",
       "3   5.448832  17.909167\n",
       "4   4.236548  11.332776\n",
       "..       ...        ...\n",
       "95  1.831914   5.124720\n",
       "96  5.865129  19.424731\n",
       "97  0.201075  -1.381224\n",
       "98  8.289400  24.076966\n",
       "99  0.046955  -0.179753\n",
       "\n",
       "[100 rows x 2 columns]"
      ]
     },
     "execution_count": 9,
     "metadata": {},
     "output_type": "execute_result"
    }
   ],
   "source": [
    "df"
   ]
  },
  {
   "cell_type": "code",
   "execution_count": 10,
   "id": "c0d8c2d5",
   "metadata": {},
   "outputs": [
    {
     "name": "stderr",
     "output_type": "stream",
     "text": [
      "Setting default log level to \"WARN\".\n",
      "To adjust logging level use sc.setLogLevel(newLevel). For SparkR, use setLogLevel(newLevel).\n"
     ]
    },
    {
     "name": "stdout",
     "output_type": "stream",
     "text": [
      "23/10/18 22:11:21 WARN NativeCodeLoader: Unable to load native-hadoop library for your platform... using builtin-java classes where applicable\n"
     ]
    }
   ],
   "source": [
    "spark = SparkSession \\\n",
    "    .builder \\\n",
    "    .appName(\"LinearRegression\") \\\n",
    "    .getOrCreate()"
   ]
  },
  {
   "cell_type": "code",
   "execution_count": 12,
   "id": "b52d45ca",
   "metadata": {},
   "outputs": [],
   "source": [
    "spdf = spark.createDataFrame(df)"
   ]
  },
  {
   "cell_type": "code",
   "execution_count": 11,
   "id": "a47aa1ae",
   "metadata": {},
   "outputs": [
    {
     "name": "stderr",
     "output_type": "stream",
     "text": [
      "\r",
      "[Stage 0:>                                                          (0 + 1) / 1]\r"
     ]
    },
    {
     "name": "stdout",
     "output_type": "stream",
     "text": [
      "+------------------+------------------+\n",
      "|                 x|             label|\n",
      "+------------------+------------------+\n",
      "|5.4881350392732475|16.176446488326572|\n",
      "| 7.151893663724195| 21.70214852962271|\n",
      "| 6.027633760716439|20.243921366526738|\n",
      "| 5.448831829968968|15.452696544509626|\n",
      "| 4.236547993389047|14.226649457807298|\n",
      "| 6.458941130666561|19.576016200673177|\n",
      "| 4.375872112626925| 13.25625546854751|\n",
      "| 8.917730007820797|  27.3600300266367|\n",
      "| 9.636627605010293|29.258489112766696|\n",
      "|3.8344151882577773|11.958546511801288|\n",
      "| 7.917250380826646|23.965791269271584|\n",
      "| 5.288949197529044| 14.88779605606117|\n",
      "| 5.680445610939323|16.845527891068947|\n",
      "|  9.25596638292661| 28.32515020622706|\n",
      "|0.7103605819788694|1.2285510606489907|\n",
      "|0.8712929970154071|1.0047517408436815|\n",
      "|0.2021839744032572|0.4253823396123487|\n",
      "|  8.32619845547938|26.412956700568735|\n",
      "| 7.781567509498505|21.596548723252717|\n",
      "| 8.700121482468191|26.550275472541603|\n",
      "+------------------+------------------+\n",
      "only showing top 20 rows\n",
      "\n"
     ]
    },
    {
     "name": "stderr",
     "output_type": "stream",
     "text": [
      "\r",
      "                                                                                \r"
     ]
    }
   ],
   "source": [
    "spdf.show()"
   ]
  },
  {
   "cell_type": "code",
   "execution_count": 12,
   "id": "90ee7e32",
   "metadata": {},
   "outputs": [
    {
     "name": "stdout",
     "output_type": "stream",
     "text": [
      "+--------------------+------------------+\n",
      "|            features|             label|\n",
      "+--------------------+------------------+\n",
      "|[5.4881350392732475]|16.176446488326572|\n",
      "| [7.151893663724195]| 21.70214852962271|\n",
      "| [6.027633760716439]|20.243921366526738|\n",
      "+--------------------+------------------+\n",
      "only showing top 3 rows\n",
      "\n"
     ]
    }
   ],
   "source": [
    "from pyspark.ml.feature import VectorAssembler\n",
    "vectorAssembler = VectorAssembler(inputCols = ['x'], outputCol = 'features')\n",
    "#vectorAssembler = VectorAssembler(inputCols = ['rm'], outputCol = 'features')\n",
    "vector_df = vectorAssembler.transform(spdf)\n",
    "vector_df = vector_df.select(['features', 'label'])\n",
    "vector_df.show(3)"
   ]
  },
  {
   "cell_type": "code",
   "execution_count": 13,
   "id": "db8ff00c",
   "metadata": {},
   "outputs": [
    {
     "name": "stdout",
     "output_type": "stream",
     "text": [
      "33\n"
     ]
    }
   ],
   "source": [
    "splits = vector_df.randomSplit([0.7, 0.3])\n",
    "train_df = splits[0]\n",
    "test_df = splits[1]\n",
    "print(test_df.count())"
   ]
  },
  {
   "cell_type": "code",
   "execution_count": 14,
   "id": "4af4fc32",
   "metadata": {},
   "outputs": [
    {
     "name": "stdout",
     "output_type": "stream",
     "text": [
      "23/05/03 09:43:58 WARN InstanceBuilder$NativeBLAS: Failed to load implementation from:dev.ludovic.netlib.blas.JNIBLAS\n",
      "23/05/03 09:43:58 WARN InstanceBuilder$NativeBLAS: Failed to load implementation from:dev.ludovic.netlib.blas.ForeignLinkerBLAS\n",
      "Coefficients: 2.9072364806442743\n",
      "Intercept: 0.5185205196954595\n"
     ]
    }
   ],
   "source": [
    "from pyspark.ml.regression import LinearRegression\n",
    "lr = LinearRegression(featuresCol = 'features', labelCol='label', maxIter=10, regParam=0.3, elasticNetParam=0.8)\n",
    "lr_model = lr.fit(train_df)\n",
    "print(\"Coefficients: \" + str(lr_model.coefficients[0]))\n",
    "print(\"Intercept: \" + str(lr_model.intercept))"
   ]
  },
  {
   "cell_type": "code",
   "execution_count": 15,
   "id": "ecb2006a",
   "metadata": {},
   "outputs": [
    {
     "name": "stdout",
     "output_type": "stream",
     "text": [
      "RMSE: 1.033658\n",
      "r2: 0.986361\n"
     ]
    }
   ],
   "source": [
    "trainingSummary = lr_model.summary\n",
    "print(\"RMSE: %f\" % trainingSummary.rootMeanSquaredError)\n",
    "print(\"r2: %f\" % trainingSummary.r2)"
   ]
  },
  {
   "cell_type": "code",
   "execution_count": 16,
   "id": "a31ad32a",
   "metadata": {},
   "outputs": [
    {
     "name": "stdout",
     "output_type": "stream",
     "text": [
      "+-------+-------------------+\n",
      "|summary|              label|\n",
      "+-------+-------------------+\n",
      "|  count|                 67|\n",
      "|   mean| 13.540884771771744|\n",
      "| stddev|  8.917596852018582|\n",
      "|    min|-0.5851544942838182|\n",
      "|    max|   30.6879211406989|\n",
      "+-------+-------------------+\n",
      "\n"
     ]
    }
   ],
   "source": [
    "train_df.describe().show()"
   ]
  },
  {
   "cell_type": "code",
   "execution_count": 17,
   "id": "d70ea9ad",
   "metadata": {},
   "outputs": [
    {
     "name": "stdout",
     "output_type": "stream",
     "text": [
      "+------------------+------------------+--------------------+\n",
      "|        prediction|             label|            features|\n",
      "+------------------+------------------+--------------------+\n",
      "| 16.47382691657274|16.176446488326572|[5.4881350392732475]|\n",
      "|19.296189801103065|19.576016200673177| [6.458941130666561]|\n",
      "|21.310766684563074| 21.70214852962271| [7.151893663724195]|\n",
      "| 26.44447052296823|  27.3600300266367| [8.917730007820797]|\n",
      "|17.032919226133913|16.845527891068947| [5.680445610939323]|\n",
      "+------------------+------------------+--------------------+\n",
      "only showing top 5 rows\n",
      "\n",
      "R Squared (R2) on test data = 0.989165\n"
     ]
    }
   ],
   "source": [
    "lr_predictions = lr_model.transform(test_df)\n",
    "lr_predictions.select(\"prediction\",\"label\",\"features\").show(5)\n",
    "from pyspark.ml.evaluation import RegressionEvaluator\n",
    "lr_evaluator = RegressionEvaluator(predictionCol=\"prediction\", \\\n",
    "                 labelCol=\"label\",metricName=\"r2\")\n",
    "print(\"R Squared (R2) on test data = %g\" % lr_evaluator.evaluate(lr_predictions))"
   ]
  },
  {
   "cell_type": "code",
   "execution_count": 18,
   "id": "ae11523c",
   "metadata": {},
   "outputs": [],
   "source": [
    "y_pred=lr_model.coefficients[0]*x+lr_model.intercept"
   ]
  },
  {
   "cell_type": "code",
   "execution_count": 19,
   "id": "6eede450",
   "metadata": {},
   "outputs": [
    {
     "data": {
      "image/png": "[encoded data removed]",
      "text/plain": [
       "<Figure size 1000x800 with 1 Axes>"
      ]
     },
     "metadata": {},
     "output_type": "display_data"
    }
   ],
   "source": [
    "plt.figure(figsize = (10, 8))\n",
    "plt.scatter(x, y);\n",
    "plt.plot(x, y_pred,'r-');\n"
   ]
  },
  {
   "cell_type": "code",
   "execution_count": 33,
   "id": "48c5e991",
   "metadata": {},
   "outputs": [
    {
     "name": "stdout",
     "output_type": "stream",
     "text": [
      "+--------------------+------------------+------------------+\n",
      "|            features|             label|        prediction|\n",
      "+--------------------+------------------+------------------+\n",
      "|[5.4881350392732475]|16.176446488326572| 16.47382691657274|\n",
      "| [6.458941130666561]|19.576016200673177|19.296189801103065|\n",
      "+--------------------+------------------+------------------+\n",
      "only showing top 2 rows\n",
      "\n"
     ]
    }
   ],
   "source": [
    "lr_predictions.select(\"features\",\"label\",\"prediction\").show(2)"
   ]
  },
  {
   "cell_type": "code",
   "execution_count": 40,
   "id": "68d8252b",
   "metadata": {},
   "outputs": [],
   "source": [
    "X=[]\n",
    "for i in lr_predictions.select(\"features\",\"label\",\"prediction\").rdd.map(lambda x: [x[0][0]]).collect():\n",
    "    X.append(i[0])\n",
    "L=[]\n",
    "for i in lr_predictions.select(\"features\",\"label\",\"prediction\").rdd.map(lambda x: [x[1]]).collect():\n",
    "#    print(i[0])\n",
    "    L.append(i[0])\n",
    "P=[]\n",
    "for i in lr_predictions.select(\"features\",\"label\",\"prediction\").rdd.map(lambda x: [x[2]]).collect():\n",
    "#    print(i[0])\n",
    "    P.append(i[0])"
   ]
  },
  {
   "cell_type": "code",
   "execution_count": 41,
   "id": "d1b51bf3",
   "metadata": {},
   "outputs": [
    {
     "data": {
      "image/png": "[encoded data removed]",
      "text/plain": [
       "<Figure size 1000x800 with 1 Axes>"
      ]
     },
     "metadata": {},
     "output_type": "display_data"
    }
   ],
   "source": [
    "plt.figure(figsize = (10, 8))\n",
    "plt.scatter(X, L);\n",
    "plt.plot(X, P,'r-');"
   ]
  }
 ],
 "metadata": {
  "kernelspec": {
   "display_name": "Python 3 (ipykernel)",
   "language": "python",
   "name": "python3"
  },
  "language_info": {
   "codemirror_mode": {
    "name": "ipython",
    "version": 3
   },
   "file_extension": ".py",
   "mimetype": "text/x-python",
   "name": "python",
   "nbconvert_exporter": "python",
   "pygments_lexer": "ipython3",
   "version": "3.10.12"
  }
 },
 "nbformat": 4,
 "nbformat_minor": 5
}
