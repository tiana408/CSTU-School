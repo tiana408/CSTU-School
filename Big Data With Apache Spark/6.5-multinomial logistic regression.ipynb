{
 "cells": [
  {
   "cell_type": "code",
   "execution_count": null,
   "id": "455f3405",
   "metadata": {},
   "outputs": [],
   "source": [
    "import findspark\n",
    "findspark.init()\n",
    "from pyspark import SparkContext, SparkConf\n",
    "from pyspark.sql import SparkSession\n",
    "from pyspark.ml.classification import LogisticRegression"
   ]
  },
  {
   "cell_type": "code",
   "execution_count": null,
   "id": "a96c734f",
   "metadata": {},
   "outputs": [],
   "source": [
    "sc = SparkContext(conf=SparkConf())\n",
    "spark = SparkSession(sparkContext=sc)"
   ]
  },
  {
   "cell_type": "code",
   "execution_count": null,
   "id": "a3888648",
   "metadata": {},
   "outputs": [],
   "source": [
    "#Load training data\n",
    "data = spark.read.format(\"libsvm\").load(\"data/SparkData/sample_multiclass_classification_data.txt\")"
   ]
  },
  {
   "cell_type": "code",
   "execution_count": null,
   "id": "304daa93",
   "metadata": {},
   "outputs": [],
   "source": [
    "data.select('label').distinct().show()"
   ]
  },
  {
   "cell_type": "code",
   "execution_count": null,
   "id": "645666b4",
   "metadata": {},
   "outputs": [],
   "source": [
    "data.show()"
   ]
  },
  {
   "cell_type": "code",
   "execution_count": null,
   "id": "855d3c71",
   "metadata": {},
   "outputs": [],
   "source": [
    "trainingData, testData = data.randomSplit([0.8,0.2])"
   ]
  },
  {
   "cell_type": "code",
   "execution_count": null,
   "id": "39fa4913",
   "metadata": {},
   "outputs": [],
   "source": [
    "lr = LogisticRegression(maxIter=10,regParam=0.3,elasticNetParam=0.8, \\\n",
    "                        featuresCol='features', labelCol='label')"
   ]
  },
  {
   "cell_type": "code",
   "execution_count": null,
   "id": "2503579c",
   "metadata": {},
   "outputs": [],
   "source": [
    "#Fit the model\n",
    "model=lr.fit(trainingData)"
   ]
  },
  {
   "cell_type": "code",
   "execution_count": null,
   "id": "c92a37c3",
   "metadata": {},
   "outputs": [],
   "source": [
    "# Make predictions.\n",
    "predictions = model.transform(testData)\n",
    "# Select example rows to display. \n",
    "predictions.show(5)\n",
    "#predictions.show(5, False)"
   ]
  },
  {
   "cell_type": "code",
   "execution_count": null,
   "id": "66bed129",
   "metadata": {},
   "outputs": [],
   "source": [
    "predictions.select('label', 'rawPrediction', 'probability', 'prediction').filter('label = 2.0').show(5, False)"
   ]
  },
  {
   "cell_type": "code",
   "execution_count": null,
   "id": "67c382af",
   "metadata": {},
   "outputs": [],
   "source": [
    "# Print the coefficients and intercept for multinomial logistic regression \n",
    "print(\"Coefficients: {}\".format(model.coefficientMatrix)) \n",
    "print(\"Intercepts: {}\".format(model.interceptVector))"
   ]
  },
  {
   "cell_type": "code",
   "execution_count": null,
   "id": "bc0f9d67",
   "metadata": {},
   "outputs": [],
   "source": [
    "trainingSummary = model.summary"
   ]
  },
  {
   "cell_type": "code",
   "execution_count": null,
   "id": "18eae761",
   "metadata": {},
   "outputs": [],
   "source": [
    "# for multiclass, we can inspect metrics on a per-label basis \n",
    "print(\"False positive rate by label:\")\n",
    "for i in range(len(trainingSummary.falsePositiveRateByLabel)):\n",
    "    print(\"label {}:{}\".format(i,trainingSummary.falsePositiveRateByLabel[i]))"
   ]
  },
  {
   "cell_type": "code",
   "execution_count": null,
   "id": "f575918d",
   "metadata": {},
   "outputs": [],
   "source": [
    "print(\"True positive rate by label:\")\n",
    "for i in range(len(trainingSummary.truePositiveRateByLabel)):\n",
    "    print(\"label {}:{}\".format(i,trainingSummary.truePositiveRateByLabel[i]))\n"
   ]
  },
  {
   "cell_type": "code",
   "execution_count": null,
   "id": "1a8334a2",
   "metadata": {},
   "outputs": [],
   "source": [
    "print(\"Precision by label:\")\n",
    "for i in range(len(trainingSummary.precisionByLabel)):\n",
    "    print(\"label {}:{}\".format(i,trainingSummary.precisionByLabel[i]))\n"
   ]
  },
  {
   "cell_type": "code",
   "execution_count": null,
   "id": "47d1c1cd",
   "metadata": {},
   "outputs": [],
   "source": [
    "print(\"Recall by label:\")\n",
    "for i in range(len(trainingSummary.recallByLabel)):\n",
    "    print(\"label {}:{}\".format(i,trainingSummary.recallByLabel[i]))\n"
   ]
  },
  {
   "cell_type": "code",
   "execution_count": null,
   "id": "cf6d10d9",
   "metadata": {},
   "outputs": [],
   "source": [
    "print(\"F-measure by label:\")\n",
    "for i in range(len(trainingSummary.fMeasureByLabel())):\n",
    "    print(\"label {}:{}\".format(i,trainingSummary.fMeasureByLabel()[i])) "
   ]
  },
  {
   "cell_type": "code",
   "execution_count": null,
   "id": "87071ced",
   "metadata": {},
   "outputs": [],
   "source": [
    "accuracy = trainingSummary.accuracy"
   ]
  },
  {
   "cell_type": "code",
   "execution_count": null,
   "id": "854308cc",
   "metadata": {},
   "outputs": [],
   "source": [
    "falsePositiveRate = trainingSummary.weightedFalsePositiveRate \n",
    "truePositiveRate = trainingSummary.weightedTruePositiveRate \n",
    "fMeasure = trainingSummary.weightedFMeasure()\n",
    "precision = trainingSummary.weightedPrecision\n",
    "recall = trainingSummary.weightedRecall\n",
    "print(\"Accuracy: {0}\\nFPR: {1}\\nTPR: {2}\\nF-measure: {3}\\nPrecision: {4}\\nRec all: {5}\".format(accuracy,falsePositiveRate,truePositiveRate,fMeasure,precision,recall))\n"
   ]
  },
  {
   "cell_type": "code",
   "execution_count": null,
   "id": "033f3d98",
   "metadata": {},
   "outputs": [],
   "source": [
    "from pyspark.ml.evaluation import MulticlassClassificationEvaluator\n",
    "# Select (prediction, true label) and compute test error\n",
    "evaluator = MulticlassClassificationEvaluator(\n",
    "    labelCol=\"label\", predictionCol=\"prediction\", metricName=\"accuracy\")\n",
    "accuracy = evaluator.evaluate(predictions)\n",
    "print(\"Test Error = %g\" % (1.0 - accuracy))\n"
   ]
  },
  {
   "cell_type": "markdown",
   "id": "c5c8f0c8",
   "metadata": {},
   "source": [
    "### There are 3 lines determines 3 classes (3 predictive values), hence, 3 slopes and 3 intercepts. "
   ]
  },
  {
   "cell_type": "code",
   "execution_count": null,
   "id": "7c08d9e6",
   "metadata": {},
   "outputs": [],
   "source": [
    "model.coefficientMatrix.toDense()"
   ]
  },
  {
   "cell_type": "code",
   "execution_count": null,
   "id": "cc59a604",
   "metadata": {},
   "outputs": [],
   "source": [
    "model.interceptVector"
   ]
  },
  {
   "cell_type": "code",
   "execution_count": null,
   "id": "d97a9abf",
   "metadata": {},
   "outputs": [],
   "source": []
  }
 ],
 "metadata": {
  "kernelspec": {
   "display_name": "Python 3 (ipykernel)",
   "language": "python",
   "name": "python3"
  },
  "language_info": {
   "codemirror_mode": {
    "name": "ipython",
    "version": 3
   },
   "file_extension": ".py",
   "mimetype": "text/x-python",
   "name": "python",
   "nbconvert_exporter": "python",
   "pygments_lexer": "ipython3",
   "version": "3.9.18"
  }
 },
 "nbformat": 4,
 "nbformat_minor": 5
}
