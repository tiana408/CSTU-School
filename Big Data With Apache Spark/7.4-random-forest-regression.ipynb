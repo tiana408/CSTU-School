{
 "cells": [
  {
   "cell_type": "markdown",
   "id": "83b664e1",
   "metadata": {},
   "source": [
    "### Set up spark context and SparkSession"
   ]
  },
  {
   "cell_type": "code",
   "execution_count": 1,
   "id": "16f96d81",
   "metadata": {},
   "outputs": [
    {
     "name": "stderr",
     "output_type": "stream",
     "text": [
      "Setting default log level to \"WARN\".\n",
      "To adjust logging level use sc.setLogLevel(newLevel). For SparkR, use setLogLevel(newLevel).\n"
     ]
    },
    {
     "name": "stdout",
     "output_type": "stream",
     "text": [
      "23/10/25 20:35:40 WARN NativeCodeLoader: Unable to load native-hadoop library for your platform... using builtin-java classes where applicable\n",
      "23/10/25 20:35:41 WARN Utils: Service 'SparkUI' could not bind on port 4040. Attempting port 4041.\n"
     ]
    }
   ],
   "source": [
    "import findspark\n",
    "findspark.init()\n",
    "from pyspark.sql import SparkSession\n",
    "\n",
    "spark = SparkSession \\\n",
    "    .builder \\\n",
    "    .appName(\"Python Spark RandomForest Regression example\") \\\n",
    "    .config(\"spark.some.config.option\", \"some-value\") \\\n",
    "    .getOrCreate()\n"
   ]
  },
  {
   "cell_type": "code",
   "execution_count": 2,
   "id": "e2abc457",
   "metadata": {},
   "outputs": [
    {
     "name": "stdout",
     "output_type": "stream",
     "text": [
      "+-----+-----+---------+-----+\n",
      "|   TV|Radio|Newspaper|Sales|\n",
      "+-----+-----+---------+-----+\n",
      "|230.1| 37.8|     69.2| 22.1|\n",
      "| 44.5| 39.3|     45.1| 10.4|\n",
      "| 17.2| 45.9|     69.3|  9.3|\n",
      "|151.5| 41.3|     58.5| 18.5|\n",
      "|180.8| 10.8|     58.4| 12.9|\n",
      "+-----+-----+---------+-----+\n",
      "only showing top 5 rows\n",
      "\n",
      "root\n",
      " |-- TV: double (nullable = true)\n",
      " |-- Radio: double (nullable = true)\n",
      " |-- Newspaper: double (nullable = true)\n",
      " |-- Sales: double (nullable = true)\n",
      "\n"
     ]
    }
   ],
   "source": [
    "df = spark.read.format('csv').\\\n",
    "                               options(header='true', \\\n",
    "                               inferschema='true').\\\n",
    "                               load(\"data/Advertising.csv\",header=True);\n",
    "\n",
    "df.show(5,True)\n",
    "df.printSchema()"
   ]
  },
  {
   "cell_type": "code",
   "execution_count": 3,
   "id": "5af67256",
   "metadata": {},
   "outputs": [
    {
     "name": "stdout",
     "output_type": "stream",
     "text": [
      "+-------+-----------------+------------------+------------------+------------------+\n",
      "|summary|               TV|             Radio|         Newspaper|             Sales|\n",
      "+-------+-----------------+------------------+------------------+------------------+\n",
      "|  count|              200|               200|               200|               200|\n",
      "|   mean|         147.0425|23.264000000000024|30.553999999999995|14.022500000000003|\n",
      "| stddev|85.85423631490805|14.846809176168728| 21.77862083852283| 5.217456565710477|\n",
      "|    min|              0.7|               0.0|               0.3|               1.6|\n",
      "|    max|            296.4|              49.6|             114.0|              27.0|\n",
      "+-------+-----------------+------------------+------------------+------------------+\n",
      "\n"
     ]
    }
   ],
   "source": [
    "df.describe().show()"
   ]
  },
  {
   "cell_type": "markdown",
   "id": "750c8445",
   "metadata": {},
   "source": [
    "### Convert the data to dense vector (features and label)"
   ]
  },
  {
   "cell_type": "code",
   "execution_count": 5,
   "id": "cdc94cc1",
   "metadata": {},
   "outputs": [
    {
     "name": "stderr",
     "output_type": "stream",
     "text": [
      "                                                                                \r"
     ]
    },
    {
     "name": "stdout",
     "output_type": "stream",
     "text": [
      "+-----------------+-----+\n",
      "|         features|label|\n",
      "+-----------------+-----+\n",
      "|[230.1,37.8,69.2]| 22.1|\n",
      "| [44.5,39.3,45.1]| 10.4|\n",
      "| [17.2,45.9,69.3]|  9.3|\n",
      "|[151.5,41.3,58.5]| 18.5|\n",
      "|[180.8,10.8,58.4]| 12.9|\n",
      "+-----------------+-----+\n",
      "only showing top 5 rows\n",
      "\n"
     ]
    }
   ],
   "source": [
    "from pyspark.sql import Row\n",
    "from pyspark.ml.linalg import Vectors\n",
    "transformed=df.rdd.map(lambda r: [Vectors.dense(r[:-1]),r[-1]]).toDF(['features','label'])\n",
    "transformed.show(5)"
   ]
  },
  {
   "cell_type": "markdown",
   "id": "f35ac276",
   "metadata": {},
   "source": [
    "### Deal with the Categorical variables, even they are numeric, if a feature columns has no more than 4 distinct values, it will be considered categorical and will be indexed to improve training model."
   ]
  },
  {
   "cell_type": "code",
   "execution_count": 6,
   "id": "0028c558",
   "metadata": {},
   "outputs": [
    {
     "name": "stderr",
     "output_type": "stream",
     "text": [
      "                                                                                \r"
     ]
    },
    {
     "name": "stdout",
     "output_type": "stream",
     "text": [
      "+-----------------+-----+-----------------+\n",
      "|         features|label|  indexedFeatures|\n",
      "+-----------------+-----+-----------------+\n",
      "|[230.1,37.8,69.2]| 22.1|[230.1,37.8,69.2]|\n",
      "| [44.5,39.3,45.1]| 10.4| [44.5,39.3,45.1]|\n",
      "| [17.2,45.9,69.3]|  9.3| [17.2,45.9,69.3]|\n",
      "|[151.5,41.3,58.5]| 18.5|[151.5,41.3,58.5]|\n",
      "|[180.8,10.8,58.4]| 12.9|[180.8,10.8,58.4]|\n",
      "+-----------------+-----+-----------------+\n",
      "only showing top 5 rows\n",
      "\n"
     ]
    }
   ],
   "source": [
    "from pyspark.ml import Pipeline\n",
    "from pyspark.ml.regression import LinearRegression\n",
    "from pyspark.ml.feature import VectorIndexer\n",
    "from pyspark.ml.evaluation import RegressionEvaluator\n",
    "\n",
    "featureIndexer = VectorIndexer(inputCol=\"features\", \\\n",
    "                               outputCol=\"indexedFeatures\",\\\n",
    "                               maxCategories=4).fit(transformed)\n",
    "\n",
    "data = featureIndexer.transform(transformed)\n",
    "data.show(5,True)"
   ]
  },
  {
   "cell_type": "code",
   "execution_count": 8,
   "id": "58d0e73b",
   "metadata": {},
   "outputs": [],
   "source": [
    "# Import LinearRegression class\n",
    "from pyspark.ml.regression import RandomForestRegressor\n",
    "\n",
    "# Define LinearRegression algorithm\n",
    "rf = RandomForestRegressor(featuresCol=\"indexedFeatures\") # featuresCol=\"indexedFeatures\",numTrees=2, maxDepth=2, seed=42\n"
   ]
  },
  {
   "cell_type": "markdown",
   "id": "b4765163",
   "metadata": {},
   "source": [
    "### Split the data into training and test sets (40% held out for testing)"
   ]
  },
  {
   "cell_type": "code",
   "execution_count": 9,
   "id": "ed31d0a8",
   "metadata": {},
   "outputs": [
    {
     "name": "stderr",
     "output_type": "stream",
     "text": [
      "[Stage 13:>                                                         (0 + 1) / 1]\r"
     ]
    },
    {
     "name": "stdout",
     "output_type": "stream",
     "text": [
      "+----------------+-----+----------------+\n",
      "|        features|label| indexedFeatures|\n",
      "+----------------+-----+----------------+\n",
      "|  [4.1,11.6,5.7]|  3.2|  [4.1,11.6,5.7]|\n",
      "|  [5.4,29.9,9.4]|  5.3|  [5.4,29.9,9.4]|\n",
      "| [7.3,28.1,41.4]|  5.5| [7.3,28.1,41.4]|\n",
      "|   [8.6,2.1,1.0]|  4.8|   [8.6,2.1,1.0]|\n",
      "|[11.7,36.9,45.2]|  7.3|[11.7,36.9,45.2]|\n",
      "+----------------+-----+----------------+\n",
      "only showing top 5 rows\n",
      "\n",
      "+---------------+-----+---------------+\n",
      "|       features|label|indexedFeatures|\n",
      "+---------------+-----+---------------+\n",
      "| [0.7,39.6,8.7]|  1.6| [0.7,39.6,8.7]|\n",
      "|[7.8,38.9,50.6]|  6.6|[7.8,38.9,50.6]|\n",
      "| [8.4,27.2,2.1]|  5.7| [8.4,27.2,2.1]|\n",
      "|[8.7,48.9,75.0]|  7.2|[8.7,48.9,75.0]|\n",
      "|[13.1,0.4,25.6]|  5.3|[13.1,0.4,25.6]|\n",
      "+---------------+-----+---------------+\n",
      "only showing top 5 rows\n",
      "\n"
     ]
    },
    {
     "name": "stderr",
     "output_type": "stream",
     "text": [
      "                                                                                \r"
     ]
    }
   ],
   "source": [
    "(trainingData, testData) = data.randomSplit([0.6, 0.4])\n",
    "\n",
    "trainingData.show(5)\n",
    "testData.show(5)"
   ]
  },
  {
   "cell_type": "markdown",
   "id": "a8124e37",
   "metadata": {},
   "source": [
    "### Fit RandomForest Regression Model\n",
    "\n",
    "If you decide to use the indexedFeatures features, you need to add the parameter featuresCol=\"indexedFeatures\".\n",
    "\n",
    "Pipeline Architecture"
   ]
  },
  {
   "cell_type": "code",
   "execution_count": 10,
   "id": "b8e8a9b8",
   "metadata": {},
   "outputs": [
    {
     "name": "stderr",
     "output_type": "stream",
     "text": [
      "                                                                                \r"
     ]
    }
   ],
   "source": [
    "pipeline = Pipeline(stages=[rf])\n",
    "model = pipeline.fit(trainingData)"
   ]
  },
  {
   "cell_type": "markdown",
   "id": "9f881865",
   "metadata": {},
   "source": [
    "### Make test predictions with testdata"
   ]
  },
  {
   "cell_type": "code",
   "execution_count": 12,
   "id": "58dfafe8",
   "metadata": {},
   "outputs": [
    {
     "name": "stdout",
     "output_type": "stream",
     "text": [
      "+---------------+-----+------------------+\n",
      "|indexedFeatures|label|        prediction|\n",
      "+---------------+-----+------------------+\n",
      "| [0.7,39.6,8.7]|  1.6| 9.517884615384617|\n",
      "|[7.8,38.9,50.6]|  6.6|10.795416415284063|\n",
      "| [8.4,27.2,2.1]|  5.7|  8.13717948717949|\n",
      "|[8.7,48.9,75.0]|  7.2|12.157750000000002|\n",
      "|[13.1,0.4,25.6]|  5.3|6.7906031746031745|\n",
      "+---------------+-----+------------------+\n",
      "only showing top 5 rows\n",
      "\n"
     ]
    }
   ],
   "source": [
    "predictions = model.transform(testData)\n",
    "\n",
    "# Select example rows to display.\n",
    "predictions.select(\"indexedFeatures\",\"label\", \"prediction\").show(5)"
   ]
  },
  {
   "cell_type": "markdown",
   "id": "a8b71a5c",
   "metadata": {},
   "source": [
    "### Evaluation"
   ]
  },
  {
   "cell_type": "code",
   "execution_count": 13,
   "id": "35528c59",
   "metadata": {},
   "outputs": [
    {
     "name": "stdout",
     "output_type": "stream",
     "text": [
      "Root Mean Squared Error (RMSE) on test data = 1.95272\n"
     ]
    }
   ],
   "source": [
    "# Select (prediction, true label) and compute test error\n",
    "evaluator = RegressionEvaluator(\n",
    "    labelCol=\"label\", predictionCol=\"prediction\", metricName=\"rmse\")\n",
    "rmse = evaluator.evaluate(predictions)\n",
    "print(\"Root Mean Squared Error (RMSE) on test data = %g\" % rmse)\n"
   ]
  },
  {
   "cell_type": "code",
   "execution_count": 15,
   "id": "178c3b90",
   "metadata": {},
   "outputs": [
    {
     "name": "stdout",
     "output_type": "stream",
     "text": [
      "R Squared (R2) on test data = 0.852397\n"
     ]
    }
   ],
   "source": [
    "evaluator = RegressionEvaluator(predictionCol=\"prediction\", \\\n",
    "                 labelCol=\"label\",metricName=\"r2\")\n",
    "print(\"R Squared (R2) on test data = %g\" % evaluator.evaluate(predictions))"
   ]
  },
  {
   "cell_type": "code",
   "execution_count": 16,
   "id": "4500e1de-88e6-4af9-8b70-c613eb82b298",
   "metadata": {},
   "outputs": [
    {
     "data": {
      "text/plain": [
       "pyspark.ml.regression.RandomForestRegressionModel"
      ]
     },
     "execution_count": 16,
     "metadata": {},
     "output_type": "execute_result"
    }
   ],
   "source": [
    "type(model.stages[-1])"
   ]
  },
  {
   "cell_type": "code",
   "execution_count": 18,
   "id": "d9794859",
   "metadata": {},
   "outputs": [
    {
     "data": {
      "text/plain": [
       "SparseVector(3, {0: 0.5301, 1: 0.3361, 2: 0.1338})"
      ]
     },
     "execution_count": 18,
     "metadata": {},
     "output_type": "execute_result"
    }
   ],
   "source": [
    "model.stages[-1].featureImportances"
   ]
  },
  {
   "cell_type": "markdown",
   "id": "f1128110",
   "metadata": {},
   "source": [
    "### Feature importances, there are 3 features, index 0 is the root had highest feature importance value, 0.4736, .... This means, advertising on TV is most important feature"
   ]
  },
  {
   "cell_type": "markdown",
   "id": "dc54a4c6",
   "metadata": {},
   "source": [
    "### Show all decision trees in the random forest"
   ]
  },
  {
   "cell_type": "code",
   "execution_count": 19,
   "id": "6031469e",
   "metadata": {},
   "outputs": [
    {
     "data": {
      "text/plain": [
       "[DecisionTreeRegressionModel: uid=dtr_1656e6241479, depth=5, numNodes=39, numFeatures=3,\n",
       " DecisionTreeRegressionModel: uid=dtr_06aa52795b27, depth=5, numNodes=53, numFeatures=3,\n",
       " DecisionTreeRegressionModel: uid=dtr_69455921b9e5, depth=5, numNodes=49, numFeatures=3,\n",
       " DecisionTreeRegressionModel: uid=dtr_9253e47e697f, depth=5, numNodes=47, numFeatures=3,\n",
       " DecisionTreeRegressionModel: uid=dtr_a514fba35635, depth=5, numNodes=45, numFeatures=3,\n",
       " DecisionTreeRegressionModel: uid=dtr_dd8e737a09ef, depth=5, numNodes=45, numFeatures=3,\n",
       " DecisionTreeRegressionModel: uid=dtr_47564fe881a6, depth=5, numNodes=47, numFeatures=3,\n",
       " DecisionTreeRegressionModel: uid=dtr_6c6f14fcd965, depth=5, numNodes=49, numFeatures=3,\n",
       " DecisionTreeRegressionModel: uid=dtr_64ca61f7fbfe, depth=5, numNodes=43, numFeatures=3,\n",
       " DecisionTreeRegressionModel: uid=dtr_a60e12dd6f5b, depth=5, numNodes=41, numFeatures=3,\n",
       " DecisionTreeRegressionModel: uid=dtr_4e7b948bb38d, depth=5, numNodes=55, numFeatures=3,\n",
       " DecisionTreeRegressionModel: uid=dtr_4fabf8165ff6, depth=5, numNodes=47, numFeatures=3,\n",
       " DecisionTreeRegressionModel: uid=dtr_3862a9ba2c64, depth=5, numNodes=45, numFeatures=3,\n",
       " DecisionTreeRegressionModel: uid=dtr_ade5a941e795, depth=5, numNodes=45, numFeatures=3,\n",
       " DecisionTreeRegressionModel: uid=dtr_96c551002793, depth=5, numNodes=45, numFeatures=3,\n",
       " DecisionTreeRegressionModel: uid=dtr_3683109e2380, depth=5, numNodes=45, numFeatures=3,\n",
       " DecisionTreeRegressionModel: uid=dtr_c113518f2d01, depth=5, numNodes=55, numFeatures=3,\n",
       " DecisionTreeRegressionModel: uid=dtr_f68625d902d9, depth=5, numNodes=45, numFeatures=3,\n",
       " DecisionTreeRegressionModel: uid=dtr_1748ffd81b24, depth=5, numNodes=43, numFeatures=3,\n",
       " DecisionTreeRegressionModel: uid=dtr_b5437b827fe5, depth=5, numNodes=49, numFeatures=3]"
      ]
     },
     "execution_count": 19,
     "metadata": {},
     "output_type": "execute_result"
    }
   ],
   "source": [
    "model.stages[-1].trees"
   ]
  },
  {
   "cell_type": "code",
   "execution_count": 20,
   "id": "d56f1dc5",
   "metadata": {},
   "outputs": [
    {
     "name": "stdout",
     "output_type": "stream",
     "text": [
      "R Squared (R2) on test data = 0.852397\n"
     ]
    },
    {
     "name": "stderr",
     "output_type": "stream",
     "text": [
      "                                                                                \r"
     ]
    }
   ],
   "source": [
    "rf_evaluator = RegressionEvaluator(predictionCol=\"prediction\", \\\n",
    "                 labelCol=\"label\",metricName=\"r2\")\n",
    "print(\"R Squared (R2) on test data = %g\" % rf_evaluator.evaluate(predictions))"
   ]
  },
  {
   "cell_type": "code",
   "execution_count": 21,
   "id": "c7292d46",
   "metadata": {},
   "outputs": [
    {
     "name": "stdout",
     "output_type": "stream",
     "text": [
      "(RMSE) on test data = 1.95272\n"
     ]
    }
   ],
   "source": [
    "rf_evaluator = RegressionEvaluator(predictionCol=\"prediction\", \\\n",
    "                 labelCol=\"label\",metricName=\"rmse\")\n",
    "print(\"(RMSE) on test data = %g\" % rf_evaluator.evaluate(predictions))"
   ]
  },
  {
   "cell_type": "code",
   "execution_count": null,
   "id": "3b31312b",
   "metadata": {},
   "outputs": [],
   "source": []
  }
 ],
 "metadata": {
  "kernelspec": {
   "display_name": "Python 3 (ipykernel)",
   "language": "python",
   "name": "python3"
  },
  "language_info": {
   "codemirror_mode": {
    "name": "ipython",
    "version": 3
   },
   "file_extension": ".py",
   "mimetype": "text/x-python",
   "name": "python",
   "nbconvert_exporter": "python",
   "pygments_lexer": "ipython3",
   "version": "3.9.18"
  }
 },
 "nbformat": 4,
 "nbformat_minor": 5
}
