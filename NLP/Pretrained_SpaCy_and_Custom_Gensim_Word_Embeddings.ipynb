{
  "cells": [
    {
      "cell_type": "markdown",
      "id": "8de6bf75",
      "metadata": {
        "id": "8de6bf75"
      },
      "source": [
        "### Pretrained ( spacy ) and Custom trained ( gensim ) Word Embeddings"
      ]
    },
    {
      "cell_type": "markdown",
      "id": "8c6840ed",
      "metadata": {
        "id": "8c6840ed"
      },
      "source": [
        "### Pre-trained models in Spacy"
      ]
    },
    {
      "cell_type": "code",
      "source": [
        "!pip install -U spacy\n",
        "!python -m spacy download en_core_web_md\n"
      ],
      "metadata": {
        "id": "hxkrcQ-OHLWm",
        "outputId": "a222d360-1497-4d71-e3b7-b77c965ecd30",
        "colab": {
          "base_uri": "https://localhost:8080/"
        }
      },
      "id": "hxkrcQ-OHLWm",
      "execution_count": null,
      "outputs": [
        {
          "output_type": "stream",
          "name": "stdout",
          "text": [
            "Requirement already satisfied: spacy in /usr/local/lib/python3.10/dist-packages (3.7.4)\n",
            "Requirement already satisfied: spacy-legacy<3.1.0,>=3.0.11 in /usr/local/lib/python3.10/dist-packages (from spacy) (3.0.12)\n",
            "Requirement already satisfied: spacy-loggers<2.0.0,>=1.0.0 in /usr/local/lib/python3.10/dist-packages (from spacy) (1.0.5)\n",
            "Requirement already satisfied: murmurhash<1.1.0,>=0.28.0 in /usr/local/lib/python3.10/dist-packages (from spacy) (1.0.10)\n",
            "Requirement already satisfied: cymem<2.1.0,>=2.0.2 in /usr/local/lib/python3.10/dist-packages (from spacy) (2.0.8)\n",
            "Requirement already satisfied: preshed<3.1.0,>=3.0.2 in /usr/local/lib/python3.10/dist-packages (from spacy) (3.0.9)\n",
            "Requirement already satisfied: thinc<8.3.0,>=8.2.2 in /usr/local/lib/python3.10/dist-packages (from spacy) (8.2.3)\n",
            "Requirement already satisfied: wasabi<1.2.0,>=0.9.1 in /usr/local/lib/python3.10/dist-packages (from spacy) (1.1.2)\n",
            "Requirement already satisfied: srsly<3.0.0,>=2.4.3 in /usr/local/lib/python3.10/dist-packages (from spacy) (2.4.8)\n",
            "Requirement already satisfied: catalogue<2.1.0,>=2.0.6 in /usr/local/lib/python3.10/dist-packages (from spacy) (2.0.10)\n",
            "Requirement already satisfied: weasel<0.4.0,>=0.1.0 in /usr/local/lib/python3.10/dist-packages (from spacy) (0.3.4)\n",
            "Requirement already satisfied: typer<0.10.0,>=0.3.0 in /usr/local/lib/python3.10/dist-packages (from spacy) (0.9.4)\n",
            "Requirement already satisfied: smart-open<7.0.0,>=5.2.1 in /usr/local/lib/python3.10/dist-packages (from spacy) (6.4.0)\n",
            "Requirement already satisfied: tqdm<5.0.0,>=4.38.0 in /usr/local/lib/python3.10/dist-packages (from spacy) (4.66.2)\n",
            "Requirement already satisfied: requests<3.0.0,>=2.13.0 in /usr/local/lib/python3.10/dist-packages (from spacy) (2.31.0)\n",
            "Requirement already satisfied: pydantic!=1.8,!=1.8.1,<3.0.0,>=1.7.4 in /usr/local/lib/python3.10/dist-packages (from spacy) (2.6.4)\n",
            "Requirement already satisfied: jinja2 in /usr/local/lib/python3.10/dist-packages (from spacy) (3.1.3)\n",
            "Requirement already satisfied: setuptools in /usr/local/lib/python3.10/dist-packages (from spacy) (67.7.2)\n",
            "Requirement already satisfied: packaging>=20.0 in /usr/local/lib/python3.10/dist-packages (from spacy) (24.0)\n",
            "Requirement already satisfied: langcodes<4.0.0,>=3.2.0 in /usr/local/lib/python3.10/dist-packages (from spacy) (3.3.0)\n",
            "Requirement already satisfied: numpy>=1.19.0 in /usr/local/lib/python3.10/dist-packages (from spacy) (1.25.2)\n",
            "Requirement already satisfied: annotated-types>=0.4.0 in /usr/local/lib/python3.10/dist-packages (from pydantic!=1.8,!=1.8.1,<3.0.0,>=1.7.4->spacy) (0.6.0)\n",
            "Requirement already satisfied: pydantic-core==2.16.3 in /usr/local/lib/python3.10/dist-packages (from pydantic!=1.8,!=1.8.1,<3.0.0,>=1.7.4->spacy) (2.16.3)\n",
            "Requirement already satisfied: typing-extensions>=4.6.1 in /usr/local/lib/python3.10/dist-packages (from pydantic!=1.8,!=1.8.1,<3.0.0,>=1.7.4->spacy) (4.11.0)\n",
            "Requirement already satisfied: charset-normalizer<4,>=2 in /usr/local/lib/python3.10/dist-packages (from requests<3.0.0,>=2.13.0->spacy) (3.3.2)\n",
            "Requirement already satisfied: idna<4,>=2.5 in /usr/local/lib/python3.10/dist-packages (from requests<3.0.0,>=2.13.0->spacy) (3.6)\n",
            "Requirement already satisfied: urllib3<3,>=1.21.1 in /usr/local/lib/python3.10/dist-packages (from requests<3.0.0,>=2.13.0->spacy) (2.0.7)\n",
            "Requirement already satisfied: certifi>=2017.4.17 in /usr/local/lib/python3.10/dist-packages (from requests<3.0.0,>=2.13.0->spacy) (2024.2.2)\n",
            "Requirement already satisfied: blis<0.8.0,>=0.7.8 in /usr/local/lib/python3.10/dist-packages (from thinc<8.3.0,>=8.2.2->spacy) (0.7.11)\n",
            "Requirement already satisfied: confection<1.0.0,>=0.0.1 in /usr/local/lib/python3.10/dist-packages (from thinc<8.3.0,>=8.2.2->spacy) (0.1.4)\n",
            "Requirement already satisfied: click<9.0.0,>=7.1.1 in /usr/local/lib/python3.10/dist-packages (from typer<0.10.0,>=0.3.0->spacy) (8.1.7)\n",
            "Requirement already satisfied: cloudpathlib<0.17.0,>=0.7.0 in /usr/local/lib/python3.10/dist-packages (from weasel<0.4.0,>=0.1.0->spacy) (0.16.0)\n",
            "Requirement already satisfied: MarkupSafe>=2.0 in /usr/local/lib/python3.10/dist-packages (from jinja2->spacy) (2.1.5)\n",
            "Collecting en-core-web-md==3.7.1\n",
            "  Downloading https://github.com/explosion/spacy-models/releases/download/en_core_web_md-3.7.1/en_core_web_md-3.7.1-py3-none-any.whl (42.8 MB)\n",
            "\u001b[2K     \u001b[90m━━━━━━━━━━━━━━━━━━━━━━━━━━━━━━━━━━━━━━━━\u001b[0m \u001b[32m42.8/42.8 MB\u001b[0m \u001b[31m12.1 MB/s\u001b[0m eta \u001b[36m0:00:00\u001b[0m\n",
            "\u001b[?25hRequirement already satisfied: spacy<3.8.0,>=3.7.2 in /usr/local/lib/python3.10/dist-packages (from en-core-web-md==3.7.1) (3.7.4)\n",
            "Requirement already satisfied: spacy-legacy<3.1.0,>=3.0.11 in /usr/local/lib/python3.10/dist-packages (from spacy<3.8.0,>=3.7.2->en-core-web-md==3.7.1) (3.0.12)\n",
            "Requirement already satisfied: spacy-loggers<2.0.0,>=1.0.0 in /usr/local/lib/python3.10/dist-packages (from spacy<3.8.0,>=3.7.2->en-core-web-md==3.7.1) (1.0.5)\n",
            "Requirement already satisfied: murmurhash<1.1.0,>=0.28.0 in /usr/local/lib/python3.10/dist-packages (from spacy<3.8.0,>=3.7.2->en-core-web-md==3.7.1) (1.0.10)\n",
            "Requirement already satisfied: cymem<2.1.0,>=2.0.2 in /usr/local/lib/python3.10/dist-packages (from spacy<3.8.0,>=3.7.2->en-core-web-md==3.7.1) (2.0.8)\n",
            "Requirement already satisfied: preshed<3.1.0,>=3.0.2 in /usr/local/lib/python3.10/dist-packages (from spacy<3.8.0,>=3.7.2->en-core-web-md==3.7.1) (3.0.9)\n",
            "Requirement already satisfied: thinc<8.3.0,>=8.2.2 in /usr/local/lib/python3.10/dist-packages (from spacy<3.8.0,>=3.7.2->en-core-web-md==3.7.1) (8.2.3)\n",
            "Requirement already satisfied: wasabi<1.2.0,>=0.9.1 in /usr/local/lib/python3.10/dist-packages (from spacy<3.8.0,>=3.7.2->en-core-web-md==3.7.1) (1.1.2)\n",
            "Requirement already satisfied: srsly<3.0.0,>=2.4.3 in /usr/local/lib/python3.10/dist-packages (from spacy<3.8.0,>=3.7.2->en-core-web-md==3.7.1) (2.4.8)\n",
            "Requirement already satisfied: catalogue<2.1.0,>=2.0.6 in /usr/local/lib/python3.10/dist-packages (from spacy<3.8.0,>=3.7.2->en-core-web-md==3.7.1) (2.0.10)\n",
            "Requirement already satisfied: weasel<0.4.0,>=0.1.0 in /usr/local/lib/python3.10/dist-packages (from spacy<3.8.0,>=3.7.2->en-core-web-md==3.7.1) (0.3.4)\n",
            "Requirement already satisfied: typer<0.10.0,>=0.3.0 in /usr/local/lib/python3.10/dist-packages (from spacy<3.8.0,>=3.7.2->en-core-web-md==3.7.1) (0.9.4)\n",
            "Requirement already satisfied: smart-open<7.0.0,>=5.2.1 in /usr/local/lib/python3.10/dist-packages (from spacy<3.8.0,>=3.7.2->en-core-web-md==3.7.1) (6.4.0)\n",
            "Requirement already satisfied: tqdm<5.0.0,>=4.38.0 in /usr/local/lib/python3.10/dist-packages (from spacy<3.8.0,>=3.7.2->en-core-web-md==3.7.1) (4.66.2)\n",
            "Requirement already satisfied: requests<3.0.0,>=2.13.0 in /usr/local/lib/python3.10/dist-packages (from spacy<3.8.0,>=3.7.2->en-core-web-md==3.7.1) (2.31.0)\n",
            "Requirement already satisfied: pydantic!=1.8,!=1.8.1,<3.0.0,>=1.7.4 in /usr/local/lib/python3.10/dist-packages (from spacy<3.8.0,>=3.7.2->en-core-web-md==3.7.1) (2.6.4)\n",
            "Requirement already satisfied: jinja2 in /usr/local/lib/python3.10/dist-packages (from spacy<3.8.0,>=3.7.2->en-core-web-md==3.7.1) (3.1.3)\n",
            "Requirement already satisfied: setuptools in /usr/local/lib/python3.10/dist-packages (from spacy<3.8.0,>=3.7.2->en-core-web-md==3.7.1) (67.7.2)\n",
            "Requirement already satisfied: packaging>=20.0 in /usr/local/lib/python3.10/dist-packages (from spacy<3.8.0,>=3.7.2->en-core-web-md==3.7.1) (24.0)\n",
            "Requirement already satisfied: langcodes<4.0.0,>=3.2.0 in /usr/local/lib/python3.10/dist-packages (from spacy<3.8.0,>=3.7.2->en-core-web-md==3.7.1) (3.3.0)\n",
            "Requirement already satisfied: numpy>=1.19.0 in /usr/local/lib/python3.10/dist-packages (from spacy<3.8.0,>=3.7.2->en-core-web-md==3.7.1) (1.25.2)\n",
            "Requirement already satisfied: annotated-types>=0.4.0 in /usr/local/lib/python3.10/dist-packages (from pydantic!=1.8,!=1.8.1,<3.0.0,>=1.7.4->spacy<3.8.0,>=3.7.2->en-core-web-md==3.7.1) (0.6.0)\n",
            "Requirement already satisfied: pydantic-core==2.16.3 in /usr/local/lib/python3.10/dist-packages (from pydantic!=1.8,!=1.8.1,<3.0.0,>=1.7.4->spacy<3.8.0,>=3.7.2->en-core-web-md==3.7.1) (2.16.3)\n",
            "Requirement already satisfied: typing-extensions>=4.6.1 in /usr/local/lib/python3.10/dist-packages (from pydantic!=1.8,!=1.8.1,<3.0.0,>=1.7.4->spacy<3.8.0,>=3.7.2->en-core-web-md==3.7.1) (4.11.0)\n",
            "Requirement already satisfied: charset-normalizer<4,>=2 in /usr/local/lib/python3.10/dist-packages (from requests<3.0.0,>=2.13.0->spacy<3.8.0,>=3.7.2->en-core-web-md==3.7.1) (3.3.2)\n",
            "Requirement already satisfied: idna<4,>=2.5 in /usr/local/lib/python3.10/dist-packages (from requests<3.0.0,>=2.13.0->spacy<3.8.0,>=3.7.2->en-core-web-md==3.7.1) (3.6)\n",
            "Requirement already satisfied: urllib3<3,>=1.21.1 in /usr/local/lib/python3.10/dist-packages (from requests<3.0.0,>=2.13.0->spacy<3.8.0,>=3.7.2->en-core-web-md==3.7.1) (2.0.7)\n",
            "Requirement already satisfied: certifi>=2017.4.17 in /usr/local/lib/python3.10/dist-packages (from requests<3.0.0,>=2.13.0->spacy<3.8.0,>=3.7.2->en-core-web-md==3.7.1) (2024.2.2)\n",
            "Requirement already satisfied: blis<0.8.0,>=0.7.8 in /usr/local/lib/python3.10/dist-packages (from thinc<8.3.0,>=8.2.2->spacy<3.8.0,>=3.7.2->en-core-web-md==3.7.1) (0.7.11)\n",
            "Requirement already satisfied: confection<1.0.0,>=0.0.1 in /usr/local/lib/python3.10/dist-packages (from thinc<8.3.0,>=8.2.2->spacy<3.8.0,>=3.7.2->en-core-web-md==3.7.1) (0.1.4)\n",
            "Requirement already satisfied: click<9.0.0,>=7.1.1 in /usr/local/lib/python3.10/dist-packages (from typer<0.10.0,>=0.3.0->spacy<3.8.0,>=3.7.2->en-core-web-md==3.7.1) (8.1.7)\n",
            "Requirement already satisfied: cloudpathlib<0.17.0,>=0.7.0 in /usr/local/lib/python3.10/dist-packages (from weasel<0.4.0,>=0.1.0->spacy<3.8.0,>=3.7.2->en-core-web-md==3.7.1) (0.16.0)\n",
            "Requirement already satisfied: MarkupSafe>=2.0 in /usr/local/lib/python3.10/dist-packages (from jinja2->spacy<3.8.0,>=3.7.2->en-core-web-md==3.7.1) (2.1.5)\n",
            "Installing collected packages: en-core-web-md\n",
            "Successfully installed en-core-web-md-3.7.1\n",
            "\u001b[38;5;2m✔ Download and installation successful\u001b[0m\n",
            "You can now load the package via spacy.load('en_core_web_md')\n",
            "\u001b[38;5;3m⚠ Restart to reload dependencies\u001b[0m\n",
            "If you are in a Jupyter or Colab notebook, you may need to restart Python in\n",
            "order to load all the package's dependencies. You can do this by selecting the\n",
            "'Restart kernel' or 'Restart runtime' option.\n"
          ]
        }
      ]
    },
    {
      "cell_type": "code",
      "source": [
        "import spacy\n",
        "\n",
        "# Attempt to load the installed model\n",
        "try:\n",
        "    nlp = spacy.load('en_core_web_md')\n",
        "    print(\"Model loaded successfully!\")\n",
        "except Exception as e:\n",
        "    print(f\"An error occurred: {e}\")\n",
        "\n",
        "# If the model loads successfully, process a sentence\n",
        "doc = nlp(\"This is some text that I am processing with Spacy\")\n",
        "\n",
        "# Print word vectors for the first three elements of each token\n",
        "for token in doc:\n",
        "    print(token.text, \"->\", token.vector[:3])\n",
        "\n",
        "# Print the third token in the document\n",
        "print('\\n', doc[3])\n",
        "\n",
        "# Print the shape of the document vector\n",
        "print(doc.vector.shape)\n",
        "\n",
        "# Print the vector of the third token\n",
        "print(doc[3].vector)\n",
        "\n",
        "# To print the mean vector for the entire document\n",
        "print(doc.vector)\n"
      ],
      "metadata": {
        "id": "6-lFaCGvG5aD",
        "outputId": "50bdba33-e195-4b6e-ed5b-87ce5b26955f",
        "colab": {
          "base_uri": "https://localhost:8080/"
        }
      },
      "id": "6-lFaCGvG5aD",
      "execution_count": null,
      "outputs": [
        {
          "output_type": "stream",
          "name": "stdout",
          "text": [
            "Model loaded successfully!\n",
            "This -> [ 1.6849   1.9826  -0.77743]\n",
            "is -> [1.475  6.0078 1.1205]\n",
            "some -> [-0.91138 -1.2467  -1.4404 ]\n",
            "text -> [ 1.8153 -3.0974  7.8781]\n",
            "that -> [-1.1026  2.9549 -2.8606]\n",
            "I -> [-1.8607   0.15804 -4.1425 ]\n",
            "am -> [ 8.3869 -7.2075  2.3706]\n",
            "processing -> [-0.98158 -2.6326  -0.02352]\n",
            "with -> [-7.3029  -1.8444  -0.76674]\n",
            "Spacy -> [1.8534  0.65457 3.6501 ]\n",
            "\n",
            " text\n",
            "(300,)\n",
            "[ 1.8153e+00 -3.0974e+00  7.8781e+00  1.7159e+00  1.3492e+00 -4.6307e+00\n",
            "  3.6709e+00 -8.5784e-02 -4.9755e+00 -8.4094e-01  1.0642e+01  6.8609e+00\n",
            " -9.2319e+00 -1.5872e-01 -3.8155e-01 -1.9255e-01  3.3571e+00  3.7723e+00\n",
            "  1.3672e+00  6.5571e+00 -6.5411e+00 -3.9489e-01 -5.2012e-01  5.5753e-01\n",
            " -3.4513e+00 -4.5028e+00 -1.5902e+00 -3.7582e+00 -4.8479e+00  2.5768e+00\n",
            " -7.2187e+00 -4.7998e+00 -1.8594e+00 -4.9777e-01 -2.4411e-01 -4.1268e+00\n",
            " -3.4901e+00 -4.8338e+00  4.3046e+00  2.6234e+00 -4.4230e-02 -1.3608e-02\n",
            " -8.8456e+00  3.7733e+00  2.6316e+00  3.4657e+00  4.3546e+00  1.1333e+00\n",
            " -3.7832e+00 -5.7349e+00 -3.3476e+00 -1.0848e+00  3.8662e+00 -1.7437e+00\n",
            " -9.9700e-01  4.1109e+00  1.0865e+00  3.2447e+00  1.9290e+00 -4.9990e+00\n",
            "  6.1250e+00  3.9852e+00 -5.0349e+00  2.2019e+00 -1.2268e+00  1.2217e+01\n",
            " -1.9911e-01 -6.9239e+00 -1.4570e-01  2.5162e+00 -4.3404e+00  5.0859e-01\n",
            " -2.5466e-01  1.1865e+00 -2.6420e+00  2.5545e+00 -2.7378e+00  3.4351e+00\n",
            " -3.8275e+00  3.9841e+00 -8.7007e-01 -3.5022e+00  2.4658e+00  1.1413e-01\n",
            "  7.0192e+00  1.5351e+00  6.3644e+00  1.7950e+00  1.3846e+00  1.9949e+00\n",
            " -2.5775e+00  6.8543e+00  4.9167e+00  1.0726e+00  4.2185e+00 -5.2995e+00\n",
            " -1.0998e+00  2.7981e+00 -2.9641e+00 -3.9380e+00  4.4521e+00  5.4607e+00\n",
            "  2.2630e+00 -4.3339e+00 -1.3492e+00  1.9899e+00  1.3943e+00 -6.4898e+00\n",
            " -1.1698e+00  2.6809e+00  7.4944e+00 -4.1128e+00  2.1884e+00  2.5359e+00\n",
            "  1.3449e+00 -2.4524e-01  8.9151e-01  1.4429e+00 -5.4536e+00 -4.6541e+00\n",
            " -2.4937e+00 -1.7425e+00  3.6180e+00  1.4103e+00  2.3171e+00 -5.6080e+00\n",
            "  2.9942e+00 -3.3632e+00 -3.1912e+00 -3.6574e+00 -6.8953e+00  1.5619e+00\n",
            " -2.8472e+00 -2.3034e+00  1.2764e+00  5.1938e-02 -2.1767e-01 -4.4340e-01\n",
            "  1.9860e+00 -3.9447e+00 -1.6374e-01 -3.3162e+00  3.0624e-01 -2.2645e+00\n",
            "  4.1747e+00  3.1061e-01  2.4868e+00  4.4836e+00  2.6715e+00  7.5077e+00\n",
            " -2.6008e+00  5.2290e+00 -1.9564e-02  8.6515e-01  4.9600e-01 -2.7190e+00\n",
            "  2.1371e+00  4.7286e+00  2.7932e-01 -1.8440e+00  3.1654e+00 -1.1175e-01\n",
            "  8.9190e-01 -1.1452e+00 -2.5718e+00 -3.7142e+00 -6.9255e+00  1.1165e+00\n",
            " -3.4216e+00 -1.3337e+00 -7.1805e-01  7.2577e-01 -2.7242e+00  1.8017e+00\n",
            "  9.0910e+00  8.8726e-03  1.6012e+00  3.4569e+00 -5.0202e+00 -5.4944e+00\n",
            "  8.7428e+00 -2.9288e+00 -9.9861e-01 -2.6903e+00  5.0044e+00  2.7749e-01\n",
            "  1.3357e+00 -6.9442e+00  1.4123e+00 -6.2846e+00 -4.5341e+00 -3.6088e+00\n",
            " -4.5898e+00  2.7224e+00  5.0870e+00  3.1570e+00 -3.4397e+00  3.1942e+00\n",
            "  5.1315e+00  9.1256e+00 -1.9185e+00 -1.8924e+00 -1.6918e+00 -5.2486e+00\n",
            "  1.0434e+00  3.9521e+00  2.6612e+00 -4.0238e+00  3.6476e+00  1.0760e+00\n",
            "  2.2546e+00 -2.9131e+00  4.1481e+00  6.7236e+00  4.2079e-01  1.2782e+00\n",
            "  9.1259e-01 -2.7402e+00  5.7157e-01  3.2752e+00  3.8041e+00 -2.3013e-01\n",
            "  2.4876e+00  3.8989e-01 -4.7766e+00 -3.4029e+00  5.0152e+00  5.2771e-01\n",
            "  8.9613e-01 -5.0365e+00  1.0466e-01 -1.8650e+00  7.6624e-01 -5.4027e+00\n",
            " -1.3898e-01  5.2780e+00  4.3138e+00  4.1568e+00  2.9571e+00 -1.3304e+00\n",
            " -6.7570e+00 -1.9064e+00 -1.2822e+00  5.4065e+00  4.0695e+00 -3.6669e+00\n",
            " -3.1327e+00 -4.1047e+00  3.6837e+00 -1.2322e+00  2.2510e+00 -5.5596e+00\n",
            "  1.1376e-01 -4.2178e+00 -1.4326e+00  2.0191e+00 -9.3392e-02  1.2639e+00\n",
            "  8.5859e-02  2.7242e-01  4.6008e+00  3.1308e+00  5.4251e-01 -1.7078e+00\n",
            "  1.9982e+00  4.7233e+00 -3.0300e+00  4.8159e+00 -7.5448e+00 -6.8540e+00\n",
            "  9.2230e-01 -4.3552e+00 -1.2993e+00 -3.7137e+00 -5.2262e+00  1.2077e+00\n",
            "  5.9088e-01  3.6372e+00 -3.1487e+00  1.8208e+00 -1.5681e+00 -1.8223e+00\n",
            "  4.3911e+00  3.1354e+00  5.3926e+00  2.3312e+00  3.3455e+00 -3.2092e+00\n",
            " -1.0546e+00  3.1676e+00  3.7958e+00 -6.1199e-01  4.8044e+00 -3.9273e+00\n",
            " -1.3952e-01  1.6868e+00  5.2596e+00 -4.0270e+00 -4.8126e+00 -1.8458e+00]\n",
            "[ 0.30563405 -0.427069    0.500811   -1.6580696  -0.94629    -0.23934703\n",
            "  0.028577    4.295377   -3.8321986   1.7672628   6.658099    1.1359228\n",
            " -3.006612   -0.50961006  2.3700955   0.703461    2.34051    -0.3941861\n",
            " -1.369067    0.59585994  1.3248701   2.0000231  -3.4256172  -2.002854\n",
            " -2.0418718  -2.193501   -1.819932   -1.423071   -2.0385802  -0.10317302\n",
            " -0.46430922 -0.14729555 -3.394214   -0.04532397 -2.269256    0.17045009\n",
            " -0.13494173  0.932325    5.7848444   2.148113   -1.5996732   2.2030263\n",
            " -0.79875904 -1.350127   -1.3724102   2.8075051   3.299128   -2.831655\n",
            " -2.130708    0.97382486  1.6305139  -0.57544106  2.093894   -4.6533303\n",
            " -1.3734801   0.5552629   2.419354    2.0564501   0.612147    0.47596803\n",
            "  4.43481     0.15596    -1.7175634   0.38855594 -0.89715827  2.3118348\n",
            " -2.541205   -4.31619     2.454495    3.79598    -1.0783069   2.722444\n",
            " -0.92606604 -0.476808    0.39366612  1.075635   -2.3088498   1.0753001\n",
            " -2.818402   -1.405414   -3.3402772  -2.546393    2.4205518  -0.831272\n",
            "  2.9896379  -0.20465302  0.02480499 -1.08067     1.8324687  -2.684995\n",
            " -1.067833   -0.7799639   3.34584    -6.33815     0.24058883 -1.7337329\n",
            "  0.30885807 -2.472527    0.22089107 -2.8528237   1.5645981   1.3620209\n",
            "  1.4146221   1.2246253  -1.0189512   3.9332752  -0.14244299  0.05134308\n",
            " -0.70787704  0.98634833  0.983918   -2.489817   -0.37863597  1.056667\n",
            "  0.07038905  0.93299186 -3.3040612  -1.459826   -1.255954   -1.58012\n",
            " -3.6165156  -1.7077968  -0.01509399  4.0862784  -1.2418749  -3.802525\n",
            "  0.69377816 -2.7189171  -0.43720597 -1.180317   -3.370336    0.90560806\n",
            "  2.477566   -3.4777691  -2.2713912   1.8330419  -1.2760999  -1.113861\n",
            "  6.059766   -0.91248095 -0.28656003 -1.235962    1.1542532  -0.8326079\n",
            " -0.7066811  -0.608421   -3.4267292  -0.5314786  -1.69789     2.332994\n",
            " -0.65697306  1.920978   -1.7829889   0.04741685 -0.49004602  1.8466461\n",
            "  2.4439702   1.4111999  -0.009308   -2.5239038  -1.1275359  -2.8978336\n",
            " -1.0351676  -0.07996996 -2.0385349  -1.6165011  -2.9758508   1.9204849\n",
            "  0.31267795 -1.2895534   1.3995272  -1.082098   -0.5246801   2.1325269\n",
            "  3.163244   -2.4248405   0.70356     1.7774343  -1.693312   -0.568895\n",
            " -0.05817306 -0.2480501   4.498539   -0.63889605 -0.40738302  1.8994381\n",
            " -2.1067774  -3.572049    1.607991    3.5211303  -3.307549   -0.83129996\n",
            " -0.93277705 -0.10384001  2.5165267   1.4800619  -4.7294197   3.162191\n",
            "  2.114223    2.16163    -1.7953751  -1.064044   -2.5254931  -1.923002\n",
            "  1.45557     2.5316222  -2.79178    -0.44553915 -0.649095   -0.5323398\n",
            "  2.522916    1.023482    0.7430055   3.5510612  -2.178901    0.22337899\n",
            " -0.08578251 -1.85267     0.57078296  1.0050399  -0.96648586  0.23848796\n",
            "  2.0102868   0.29869002  1.31451    -1.1515701   1.6161289   1.820121\n",
            "  0.17467909 -0.17713399 -2.47082    -4.20842     0.7466057   0.39972296\n",
            " -1.3546581   1.5044      0.955846    1.037893    1.314671   -0.180228\n",
            " -3.1153862  -0.8942631   0.46362194  0.87325984 -0.427061   -2.4928\n",
            " -2.0991445   0.9411739   3.6993728   4.311467    0.35995802  0.599337\n",
            " -5.014844   -0.8915901  -0.529793   -1.960756    0.64939874  2.959001\n",
            " -2.160853    2.027445    0.1151435   5.409936    2.931291    4.8695498\n",
            "  0.76259595 -0.03534485 -0.15046     3.029665   -5.237672    0.836624\n",
            " -0.128725   -3.191173   -0.607369   -2.1881042  -0.55797005 -0.7237069\n",
            "  0.85019004 -1.941087    0.384834    1.5398511  -0.7949482  -1.5606661\n",
            "  0.54367006  1.0514437   5.35902    -1.2420781   3.3212998   0.6925169\n",
            " -1.1787201   2.5486398   4.4299192  -1.4245069   2.452001   -1.73069\n",
            " -1.6239288   0.6340111   1.7662709  -1.320726   -4.7119703   2.9724488 ]\n"
          ]
        }
      ]
    },
    {
      "cell_type": "code",
      "execution_count": null,
      "id": "06a2d582",
      "metadata": {
        "id": "06a2d582",
        "outputId": "781b3c99-4989-47fa-8fd9-fbe867b35bd0",
        "colab": {
          "base_uri": "https://localhost:8080/"
        }
      },
      "outputs": [
        {
          "output_type": "stream",
          "name": "stdout",
          "text": [
            "This -> [ 1.6849   1.9826  -0.77743]\n",
            "is -> [1.475  6.0078 1.1205]\n",
            "some -> [-0.91138 -1.2467  -1.4404 ]\n",
            "text -> [ 1.8153 -3.0974  7.8781]\n",
            "that -> [-1.1026  2.9549 -2.8606]\n",
            "I -> [-1.8607   0.15804 -4.1425 ]\n",
            "am -> [ 8.3869 -7.2075  2.3706]\n",
            "processing -> [-0.98158 -2.6326  -0.02352]\n",
            "with -> [-7.3029  -1.8444  -0.76674]\n",
            "Spacy -> [1.8534  0.65457 3.6501 ]\n",
            "\n",
            " text\n",
            "(300,)\n"
          ]
        },
        {
          "output_type": "execute_result",
          "data": {
            "text/plain": [
              "array([ 1.8153e+00, -3.0974e+00,  7.8781e+00,  1.7159e+00,  1.3492e+00,\n",
              "       -4.6307e+00,  3.6709e+00, -8.5784e-02, -4.9755e+00, -8.4094e-01,\n",
              "        1.0642e+01,  6.8609e+00, -9.2319e+00, -1.5872e-01, -3.8155e-01,\n",
              "       -1.9255e-01,  3.3571e+00,  3.7723e+00,  1.3672e+00,  6.5571e+00,\n",
              "       -6.5411e+00, -3.9489e-01, -5.2012e-01,  5.5753e-01, -3.4513e+00,\n",
              "       -4.5028e+00, -1.5902e+00, -3.7582e+00, -4.8479e+00,  2.5768e+00,\n",
              "       -7.2187e+00, -4.7998e+00, -1.8594e+00, -4.9777e-01, -2.4411e-01,\n",
              "       -4.1268e+00, -3.4901e+00, -4.8338e+00,  4.3046e+00,  2.6234e+00,\n",
              "       -4.4230e-02, -1.3608e-02, -8.8456e+00,  3.7733e+00,  2.6316e+00,\n",
              "        3.4657e+00,  4.3546e+00,  1.1333e+00, -3.7832e+00, -5.7349e+00,\n",
              "       -3.3476e+00, -1.0848e+00,  3.8662e+00, -1.7437e+00, -9.9700e-01,\n",
              "        4.1109e+00,  1.0865e+00,  3.2447e+00,  1.9290e+00, -4.9990e+00,\n",
              "        6.1250e+00,  3.9852e+00, -5.0349e+00,  2.2019e+00, -1.2268e+00,\n",
              "        1.2217e+01, -1.9911e-01, -6.9239e+00, -1.4570e-01,  2.5162e+00,\n",
              "       -4.3404e+00,  5.0859e-01, -2.5466e-01,  1.1865e+00, -2.6420e+00,\n",
              "        2.5545e+00, -2.7378e+00,  3.4351e+00, -3.8275e+00,  3.9841e+00,\n",
              "       -8.7007e-01, -3.5022e+00,  2.4658e+00,  1.1413e-01,  7.0192e+00,\n",
              "        1.5351e+00,  6.3644e+00,  1.7950e+00,  1.3846e+00,  1.9949e+00,\n",
              "       -2.5775e+00,  6.8543e+00,  4.9167e+00,  1.0726e+00,  4.2185e+00,\n",
              "       -5.2995e+00, -1.0998e+00,  2.7981e+00, -2.9641e+00, -3.9380e+00,\n",
              "        4.4521e+00,  5.4607e+00,  2.2630e+00, -4.3339e+00, -1.3492e+00,\n",
              "        1.9899e+00,  1.3943e+00, -6.4898e+00, -1.1698e+00,  2.6809e+00,\n",
              "        7.4944e+00, -4.1128e+00,  2.1884e+00,  2.5359e+00,  1.3449e+00,\n",
              "       -2.4524e-01,  8.9151e-01,  1.4429e+00, -5.4536e+00, -4.6541e+00,\n",
              "       -2.4937e+00, -1.7425e+00,  3.6180e+00,  1.4103e+00,  2.3171e+00,\n",
              "       -5.6080e+00,  2.9942e+00, -3.3632e+00, -3.1912e+00, -3.6574e+00,\n",
              "       -6.8953e+00,  1.5619e+00, -2.8472e+00, -2.3034e+00,  1.2764e+00,\n",
              "        5.1938e-02, -2.1767e-01, -4.4340e-01,  1.9860e+00, -3.9447e+00,\n",
              "       -1.6374e-01, -3.3162e+00,  3.0624e-01, -2.2645e+00,  4.1747e+00,\n",
              "        3.1061e-01,  2.4868e+00,  4.4836e+00,  2.6715e+00,  7.5077e+00,\n",
              "       -2.6008e+00,  5.2290e+00, -1.9564e-02,  8.6515e-01,  4.9600e-01,\n",
              "       -2.7190e+00,  2.1371e+00,  4.7286e+00,  2.7932e-01, -1.8440e+00,\n",
              "        3.1654e+00, -1.1175e-01,  8.9190e-01, -1.1452e+00, -2.5718e+00,\n",
              "       -3.7142e+00, -6.9255e+00,  1.1165e+00, -3.4216e+00, -1.3337e+00,\n",
              "       -7.1805e-01,  7.2577e-01, -2.7242e+00,  1.8017e+00,  9.0910e+00,\n",
              "        8.8726e-03,  1.6012e+00,  3.4569e+00, -5.0202e+00, -5.4944e+00,\n",
              "        8.7428e+00, -2.9288e+00, -9.9861e-01, -2.6903e+00,  5.0044e+00,\n",
              "        2.7749e-01,  1.3357e+00, -6.9442e+00,  1.4123e+00, -6.2846e+00,\n",
              "       -4.5341e+00, -3.6088e+00, -4.5898e+00,  2.7224e+00,  5.0870e+00,\n",
              "        3.1570e+00, -3.4397e+00,  3.1942e+00,  5.1315e+00,  9.1256e+00,\n",
              "       -1.9185e+00, -1.8924e+00, -1.6918e+00, -5.2486e+00,  1.0434e+00,\n",
              "        3.9521e+00,  2.6612e+00, -4.0238e+00,  3.6476e+00,  1.0760e+00,\n",
              "        2.2546e+00, -2.9131e+00,  4.1481e+00,  6.7236e+00,  4.2079e-01,\n",
              "        1.2782e+00,  9.1259e-01, -2.7402e+00,  5.7157e-01,  3.2752e+00,\n",
              "        3.8041e+00, -2.3013e-01,  2.4876e+00,  3.8989e-01, -4.7766e+00,\n",
              "       -3.4029e+00,  5.0152e+00,  5.2771e-01,  8.9613e-01, -5.0365e+00,\n",
              "        1.0466e-01, -1.8650e+00,  7.6624e-01, -5.4027e+00, -1.3898e-01,\n",
              "        5.2780e+00,  4.3138e+00,  4.1568e+00,  2.9571e+00, -1.3304e+00,\n",
              "       -6.7570e+00, -1.9064e+00, -1.2822e+00,  5.4065e+00,  4.0695e+00,\n",
              "       -3.6669e+00, -3.1327e+00, -4.1047e+00,  3.6837e+00, -1.2322e+00,\n",
              "        2.2510e+00, -5.5596e+00,  1.1376e-01, -4.2178e+00, -1.4326e+00,\n",
              "        2.0191e+00, -9.3392e-02,  1.2639e+00,  8.5859e-02,  2.7242e-01,\n",
              "        4.6008e+00,  3.1308e+00,  5.4251e-01, -1.7078e+00,  1.9982e+00,\n",
              "        4.7233e+00, -3.0300e+00,  4.8159e+00, -7.5448e+00, -6.8540e+00,\n",
              "        9.2230e-01, -4.3552e+00, -1.2993e+00, -3.7137e+00, -5.2262e+00,\n",
              "        1.2077e+00,  5.9088e-01,  3.6372e+00, -3.1487e+00,  1.8208e+00,\n",
              "       -1.5681e+00, -1.8223e+00,  4.3911e+00,  3.1354e+00,  5.3926e+00,\n",
              "        2.3312e+00,  3.3455e+00, -3.2092e+00, -1.0546e+00,  3.1676e+00,\n",
              "        3.7958e+00, -6.1199e-01,  4.8044e+00, -3.9273e+00, -1.3952e-01,\n",
              "        1.6868e+00,  5.2596e+00, -4.0270e+00, -4.8126e+00, -1.8458e+00],\n",
              "      dtype=float32)"
            ]
          },
          "metadata": {},
          "execution_count": 3
        }
      ],
      "source": [
        "import spacy\n",
        "# Load the spacy model that you have installed\n",
        "nlp = spacy.load('en_core_web_md')\n",
        "# process a sentence using the model\n",
        "doc = nlp(\"This is some text that I am processing with Spacy\")\n",
        "# It's that simple - all of the vectors and words are assigned after this point\n",
        "# Get the vector for 'text':\n",
        "\n",
        "for token in doc:\n",
        "    print(token.text, \"->\", token.vector[:3])\n",
        "\n",
        "\n",
        "print('\\n', doc[3])\n",
        "\n",
        "print(doc.vector.shape)\n",
        "doc[3].vector\n",
        "# Get the mean vector for the entire sentence (useful for sentence classification etc.)\n",
        "#doc.vector"
      ]
    },
    {
      "cell_type": "code",
      "execution_count": null,
      "id": "ad5d5f25",
      "metadata": {
        "id": "ad5d5f25",
        "outputId": "3df3955d-1925-4dbb-b51d-f65cab4f4910",
        "colab": {
          "base_uri": "https://localhost:8080/"
        }
      },
      "outputs": [
        {
          "output_type": "execute_result",
          "data": {
            "text/plain": [
              "array([ 0.30563405, -0.427069  ,  0.500811  , -1.6580696 , -0.94629   ,\n",
              "       -0.23934703,  0.028577  ,  4.295377  , -3.8321986 ,  1.7672628 ,\n",
              "        6.658099  ,  1.1359228 , -3.006612  , -0.50961006,  2.3700955 ,\n",
              "        0.703461  ,  2.34051   , -0.3941861 , -1.369067  ,  0.59585994,\n",
              "        1.3248701 ,  2.0000231 , -3.4256172 , -2.002854  , -2.0418718 ,\n",
              "       -2.193501  , -1.819932  , -1.423071  , -2.0385802 , -0.10317302,\n",
              "       -0.46430922, -0.14729555, -3.394214  , -0.04532397, -2.269256  ,\n",
              "        0.17045009, -0.13494173,  0.932325  ,  5.7848444 ,  2.148113  ,\n",
              "       -1.5996732 ,  2.2030263 , -0.79875904, -1.350127  , -1.3724102 ,\n",
              "        2.8075051 ,  3.299128  , -2.831655  , -2.130708  ,  0.97382486,\n",
              "        1.6305139 , -0.57544106,  2.093894  , -4.6533303 , -1.3734801 ,\n",
              "        0.5552629 ,  2.419354  ,  2.0564501 ,  0.612147  ,  0.47596803,\n",
              "        4.43481   ,  0.15596   , -1.7175634 ,  0.38855594, -0.89715827,\n",
              "        2.3118348 , -2.541205  , -4.31619   ,  2.454495  ,  3.79598   ,\n",
              "       -1.0783069 ,  2.722444  , -0.92606604, -0.476808  ,  0.39366612,\n",
              "        1.075635  , -2.3088498 ,  1.0753001 , -2.818402  , -1.405414  ,\n",
              "       -3.3402772 , -2.546393  ,  2.4205518 , -0.831272  ,  2.9896379 ,\n",
              "       -0.20465302,  0.02480499, -1.08067   ,  1.8324687 , -2.684995  ,\n",
              "       -1.067833  , -0.7799639 ,  3.34584   , -6.33815   ,  0.24058883,\n",
              "       -1.7337329 ,  0.30885807, -2.472527  ,  0.22089107, -2.8528237 ,\n",
              "        1.5645981 ,  1.3620209 ,  1.4146221 ,  1.2246253 , -1.0189512 ,\n",
              "        3.9332752 , -0.14244299,  0.05134308, -0.70787704,  0.98634833,\n",
              "        0.983918  , -2.489817  , -0.37863597,  1.056667  ,  0.07038905,\n",
              "        0.93299186, -3.3040612 , -1.459826  , -1.255954  , -1.58012   ,\n",
              "       -3.6165156 , -1.7077968 , -0.01509399,  4.0862784 , -1.2418749 ,\n",
              "       -3.802525  ,  0.69377816, -2.7189171 , -0.43720597, -1.180317  ,\n",
              "       -3.370336  ,  0.90560806,  2.477566  , -3.4777691 , -2.2713912 ,\n",
              "        1.8330419 , -1.2760999 , -1.113861  ,  6.059766  , -0.91248095,\n",
              "       -0.28656003, -1.235962  ,  1.1542532 , -0.8326079 , -0.7066811 ,\n",
              "       -0.608421  , -3.4267292 , -0.5314786 , -1.69789   ,  2.332994  ,\n",
              "       -0.65697306,  1.920978  , -1.7829889 ,  0.04741685, -0.49004602,\n",
              "        1.8466461 ,  2.4439702 ,  1.4111999 , -0.009308  , -2.5239038 ,\n",
              "       -1.1275359 , -2.8978336 , -1.0351676 , -0.07996996, -2.0385349 ,\n",
              "       -1.6165011 , -2.9758508 ,  1.9204849 ,  0.31267795, -1.2895534 ,\n",
              "        1.3995272 , -1.082098  , -0.5246801 ,  2.1325269 ,  3.163244  ,\n",
              "       -2.4248405 ,  0.70356   ,  1.7774343 , -1.693312  , -0.568895  ,\n",
              "       -0.05817306, -0.2480501 ,  4.498539  , -0.63889605, -0.40738302,\n",
              "        1.8994381 , -2.1067774 , -3.572049  ,  1.607991  ,  3.5211303 ,\n",
              "       -3.307549  , -0.83129996, -0.93277705, -0.10384001,  2.5165267 ,\n",
              "        1.4800619 , -4.7294197 ,  3.162191  ,  2.114223  ,  2.16163   ,\n",
              "       -1.7953751 , -1.064044  , -2.5254931 , -1.923002  ,  1.45557   ,\n",
              "        2.5316222 , -2.79178   , -0.44553915, -0.649095  , -0.5323398 ,\n",
              "        2.522916  ,  1.023482  ,  0.7430055 ,  3.5510612 , -2.178901  ,\n",
              "        0.22337899, -0.08578251, -1.85267   ,  0.57078296,  1.0050399 ,\n",
              "       -0.96648586,  0.23848796,  2.0102868 ,  0.29869002,  1.31451   ,\n",
              "       -1.1515701 ,  1.6161289 ,  1.820121  ,  0.17467909, -0.17713399,\n",
              "       -2.47082   , -4.20842   ,  0.7466057 ,  0.39972296, -1.3546581 ,\n",
              "        1.5044    ,  0.955846  ,  1.037893  ,  1.314671  , -0.180228  ,\n",
              "       -3.1153862 , -0.8942631 ,  0.46362194,  0.87325984, -0.427061  ,\n",
              "       -2.4928    , -2.0991445 ,  0.9411739 ,  3.6993728 ,  4.311467  ,\n",
              "        0.35995802,  0.599337  , -5.014844  , -0.8915901 , -0.529793  ,\n",
              "       -1.960756  ,  0.64939874,  2.959001  , -2.160853  ,  2.027445  ,\n",
              "        0.1151435 ,  5.409936  ,  2.931291  ,  4.8695498 ,  0.76259595,\n",
              "       -0.03534485, -0.15046   ,  3.029665  , -5.237672  ,  0.836624  ,\n",
              "       -0.128725  , -3.191173  , -0.607369  , -2.1881042 , -0.55797005,\n",
              "       -0.7237069 ,  0.85019004, -1.941087  ,  0.384834  ,  1.5398511 ,\n",
              "       -0.7949482 , -1.5606661 ,  0.54367006,  1.0514437 ,  5.35902   ,\n",
              "       -1.2420781 ,  3.3212998 ,  0.6925169 , -1.1787201 ,  2.5486398 ,\n",
              "        4.4299192 , -1.4245069 ,  2.452001  , -1.73069   , -1.6239288 ,\n",
              "        0.6340111 ,  1.7662709 , -1.320726  , -4.7119703 ,  2.9724488 ],\n",
              "      dtype=float32)"
            ]
          },
          "metadata": {},
          "execution_count": 4
        }
      ],
      "source": [
        "doc.vector"
      ]
    },
    {
      "cell_type": "markdown",
      "id": "7b9762ce",
      "metadata": {
        "id": "7b9762ce"
      },
      "source": [
        "### Doc Similarity"
      ]
    },
    {
      "cell_type": "code",
      "execution_count": null,
      "id": "35a2764d",
      "metadata": {
        "id": "35a2764d",
        "outputId": "b18191c2-16d3-40e6-b75d-9190f487c909",
        "colab": {
          "base_uri": "https://localhost:8080/"
        }
      },
      "outputs": [
        {
          "output_type": "stream",
          "name": "stdout",
          "text": [
            "I like salty fries and hamburgers. <-> Fast food tastes very good. 0.691649353055761\n"
          ]
        }
      ],
      "source": [
        "doc1 = nlp(\"I like salty fries and hamburgers.\")\n",
        "doc2 = nlp(\"Fast food tastes very good.\")\n",
        "\n",
        "# Similarity of two documents\n",
        "print(doc1, \"<->\", doc2, doc1.similarity(doc2))"
      ]
    },
    {
      "cell_type": "markdown",
      "id": "d7f05c1c",
      "metadata": {
        "id": "d7f05c1c"
      },
      "source": [
        "### Word Similarity"
      ]
    },
    {
      "cell_type": "code",
      "execution_count": null,
      "id": "909bb002",
      "metadata": {
        "id": "909bb002",
        "outputId": "becda4d1-30b5-44c3-f230-b2261f93e77c",
        "colab": {
          "base_uri": "https://localhost:8080/"
        }
      },
      "outputs": [
        {
          "output_type": "stream",
          "name": "stdout",
          "text": [
            "salty fries <-> hamburgers 0.6938489675521851\n"
          ]
        }
      ],
      "source": [
        "# Similarity of tokens and spans\n",
        "french_fries = doc1[2:4]\n",
        "burgers = doc1[5]\n",
        "print(french_fries, \"<->\", burgers, french_fries.similarity(burgers))"
      ]
    },
    {
      "cell_type": "markdown",
      "id": "fa3ed13b",
      "metadata": {
        "id": "fa3ed13b"
      },
      "source": [
        "### Pretrained model ( from Google's word embeddings ) with Gensim\n",
        "#### Gensim does not provde pretrained models for word2vec embeddings. There are models available online which you can use with Gensim. One option is to use the Google News dataset model which provides pre-trained vectors trained on part of Google News dataset (about 100 billion words). The model contains 300-dimensional vectors for 3 million words and phrases."
      ]
    },
    {
      "cell_type": "code",
      "execution_count": null,
      "id": "4ef951fb",
      "metadata": {
        "id": "4ef951fb",
        "outputId": "5d9e044e-280d-4a41-c6bd-2aaea11ec666",
        "colab": {
          "base_uri": "https://localhost:8080/"
        }
      },
      "outputs": [
        {
          "output_type": "stream",
          "name": "stdout",
          "text": [
            "4.3.2\n"
          ]
        }
      ],
      "source": [
        "#!pip install gensim==3.4.0\n",
        "import gensim\n",
        "print(gensim.__version__)"
      ]
    },
    {
      "cell_type": "code",
      "execution_count": null,
      "id": "226a35f6",
      "metadata": {
        "id": "226a35f6",
        "outputId": "298f1d25-b78d-4da6-b033-569746284ab2",
        "colab": {
          "base_uri": "https://localhost:8080/",
          "height": 356
        }
      },
      "outputs": [
        {
          "output_type": "error",
          "ename": "EOFError",
          "evalue": "Compressed file ended before the end-of-stream marker was reached",
          "traceback": [
            "\u001b[0;31m---------------------------------------------------------------------------\u001b[0m",
            "\u001b[0;31mEOFError\u001b[0m                                  Traceback (most recent call last)",
            "\u001b[0;32m<ipython-input-11-c58305fce1ad>\u001b[0m in \u001b[0;36m<cell line: 3>\u001b[0;34m()\u001b[0m\n\u001b[1;32m      1\u001b[0m \u001b[0;32mfrom\u001b[0m \u001b[0mgensim\u001b[0m\u001b[0;34m.\u001b[0m\u001b[0mmodels\u001b[0m \u001b[0;32mimport\u001b[0m \u001b[0mKeyedVectors\u001b[0m\u001b[0;34m\u001b[0m\u001b[0;34m\u001b[0m\u001b[0m\n\u001b[1;32m      2\u001b[0m \u001b[0mfilename\u001b[0m \u001b[0;34m=\u001b[0m \u001b[0;34m'/content/GoogleNews-vectors-negative300.bin.gz'\u001b[0m\u001b[0;34m\u001b[0m\u001b[0;34m\u001b[0m\u001b[0m\n\u001b[0;32m----> 3\u001b[0;31m \u001b[0mgensim_pretrain_model\u001b[0m \u001b[0;34m=\u001b[0m \u001b[0mKeyedVectors\u001b[0m\u001b[0;34m.\u001b[0m\u001b[0mload_word2vec_format\u001b[0m\u001b[0;34m(\u001b[0m\u001b[0mfilename\u001b[0m\u001b[0;34m,\u001b[0m \u001b[0mbinary\u001b[0m\u001b[0;34m=\u001b[0m\u001b[0;32mTrue\u001b[0m\u001b[0;34m)\u001b[0m\u001b[0;34m\u001b[0m\u001b[0;34m\u001b[0m\u001b[0m\n\u001b[0m\u001b[1;32m      4\u001b[0m \u001b[0;34m\u001b[0m\u001b[0m\n\u001b[1;32m      5\u001b[0m \u001b[0;31m# calculate: (king - man) + woman = ?\u001b[0m\u001b[0;34m\u001b[0m\u001b[0;34m\u001b[0m\u001b[0m\n",
            "\u001b[0;32m/usr/local/lib/python3.10/dist-packages/gensim/models/keyedvectors.py\u001b[0m in \u001b[0;36mload_word2vec_format\u001b[0;34m(cls, fname, fvocab, binary, encoding, unicode_errors, limit, datatype, no_header)\u001b[0m\n\u001b[1;32m   1717\u001b[0m \u001b[0;34m\u001b[0m\u001b[0m\n\u001b[1;32m   1718\u001b[0m         \"\"\"\n\u001b[0;32m-> 1719\u001b[0;31m         return _load_word2vec_format(\n\u001b[0m\u001b[1;32m   1720\u001b[0m             \u001b[0mcls\u001b[0m\u001b[0;34m,\u001b[0m \u001b[0mfname\u001b[0m\u001b[0;34m,\u001b[0m \u001b[0mfvocab\u001b[0m\u001b[0;34m=\u001b[0m\u001b[0mfvocab\u001b[0m\u001b[0;34m,\u001b[0m \u001b[0mbinary\u001b[0m\u001b[0;34m=\u001b[0m\u001b[0mbinary\u001b[0m\u001b[0;34m,\u001b[0m \u001b[0mencoding\u001b[0m\u001b[0;34m=\u001b[0m\u001b[0mencoding\u001b[0m\u001b[0;34m,\u001b[0m \u001b[0municode_errors\u001b[0m\u001b[0;34m=\u001b[0m\u001b[0municode_errors\u001b[0m\u001b[0;34m,\u001b[0m\u001b[0;34m\u001b[0m\u001b[0;34m\u001b[0m\u001b[0m\n\u001b[1;32m   1721\u001b[0m             \u001b[0mlimit\u001b[0m\u001b[0;34m=\u001b[0m\u001b[0mlimit\u001b[0m\u001b[0;34m,\u001b[0m \u001b[0mdatatype\u001b[0m\u001b[0;34m=\u001b[0m\u001b[0mdatatype\u001b[0m\u001b[0;34m,\u001b[0m \u001b[0mno_header\u001b[0m\u001b[0;34m=\u001b[0m\u001b[0mno_header\u001b[0m\u001b[0;34m,\u001b[0m\u001b[0;34m\u001b[0m\u001b[0;34m\u001b[0m\u001b[0m\n",
            "\u001b[0;32m/usr/local/lib/python3.10/dist-packages/gensim/models/keyedvectors.py\u001b[0m in \u001b[0;36m_load_word2vec_format\u001b[0;34m(cls, fname, fvocab, binary, encoding, unicode_errors, limit, datatype, no_header, binary_chunk_size)\u001b[0m\n\u001b[1;32m   2063\u001b[0m \u001b[0;34m\u001b[0m\u001b[0m\n\u001b[1;32m   2064\u001b[0m         \u001b[0;32mif\u001b[0m \u001b[0mbinary\u001b[0m\u001b[0;34m:\u001b[0m\u001b[0;34m\u001b[0m\u001b[0;34m\u001b[0m\u001b[0m\n\u001b[0;32m-> 2065\u001b[0;31m             _word2vec_read_binary(\n\u001b[0m\u001b[1;32m   2066\u001b[0m                 \u001b[0mfin\u001b[0m\u001b[0;34m,\u001b[0m \u001b[0mkv\u001b[0m\u001b[0;34m,\u001b[0m \u001b[0mcounts\u001b[0m\u001b[0;34m,\u001b[0m \u001b[0mvocab_size\u001b[0m\u001b[0;34m,\u001b[0m \u001b[0mvector_size\u001b[0m\u001b[0;34m,\u001b[0m \u001b[0mdatatype\u001b[0m\u001b[0;34m,\u001b[0m \u001b[0municode_errors\u001b[0m\u001b[0;34m,\u001b[0m \u001b[0mbinary_chunk_size\u001b[0m\u001b[0;34m,\u001b[0m \u001b[0mencoding\u001b[0m\u001b[0;34m\u001b[0m\u001b[0;34m\u001b[0m\u001b[0m\n\u001b[1;32m   2067\u001b[0m             )\n",
            "\u001b[0;32m/usr/local/lib/python3.10/dist-packages/gensim/models/keyedvectors.py\u001b[0m in \u001b[0;36m_word2vec_read_binary\u001b[0;34m(fin, kv, counts, vocab_size, vector_size, datatype, unicode_errors, binary_chunk_size, encoding)\u001b[0m\n\u001b[1;32m   1956\u001b[0m \u001b[0;34m\u001b[0m\u001b[0m\n\u001b[1;32m   1957\u001b[0m     \u001b[0;32mwhile\u001b[0m \u001b[0mtot_processed_words\u001b[0m \u001b[0;34m<\u001b[0m \u001b[0mvocab_size\u001b[0m\u001b[0;34m:\u001b[0m\u001b[0;34m\u001b[0m\u001b[0;34m\u001b[0m\u001b[0m\n\u001b[0;32m-> 1958\u001b[0;31m         \u001b[0mnew_chunk\u001b[0m \u001b[0;34m=\u001b[0m \u001b[0mfin\u001b[0m\u001b[0;34m.\u001b[0m\u001b[0mread\u001b[0m\u001b[0;34m(\u001b[0m\u001b[0mbinary_chunk_size\u001b[0m\u001b[0;34m)\u001b[0m\u001b[0;34m\u001b[0m\u001b[0;34m\u001b[0m\u001b[0m\n\u001b[0m\u001b[1;32m   1959\u001b[0m         \u001b[0mchunk\u001b[0m \u001b[0;34m+=\u001b[0m \u001b[0mnew_chunk\u001b[0m\u001b[0;34m\u001b[0m\u001b[0;34m\u001b[0m\u001b[0m\n\u001b[1;32m   1960\u001b[0m         processed_words, chunk = _add_bytes_to_kv(\n",
            "\u001b[0;32m/usr/lib/python3.10/gzip.py\u001b[0m in \u001b[0;36mread\u001b[0;34m(self, size)\u001b[0m\n\u001b[1;32m    299\u001b[0m             \u001b[0;32mimport\u001b[0m \u001b[0merrno\u001b[0m\u001b[0;34m\u001b[0m\u001b[0;34m\u001b[0m\u001b[0m\n\u001b[1;32m    300\u001b[0m             \u001b[0;32mraise\u001b[0m \u001b[0mOSError\u001b[0m\u001b[0;34m(\u001b[0m\u001b[0merrno\u001b[0m\u001b[0;34m.\u001b[0m\u001b[0mEBADF\u001b[0m\u001b[0;34m,\u001b[0m \u001b[0;34m\"read() on write-only GzipFile object\"\u001b[0m\u001b[0;34m)\u001b[0m\u001b[0;34m\u001b[0m\u001b[0;34m\u001b[0m\u001b[0m\n\u001b[0;32m--> 301\u001b[0;31m         \u001b[0;32mreturn\u001b[0m \u001b[0mself\u001b[0m\u001b[0;34m.\u001b[0m\u001b[0m_buffer\u001b[0m\u001b[0;34m.\u001b[0m\u001b[0mread\u001b[0m\u001b[0;34m(\u001b[0m\u001b[0msize\u001b[0m\u001b[0;34m)\u001b[0m\u001b[0;34m\u001b[0m\u001b[0;34m\u001b[0m\u001b[0m\n\u001b[0m\u001b[1;32m    302\u001b[0m \u001b[0;34m\u001b[0m\u001b[0m\n\u001b[1;32m    303\u001b[0m     \u001b[0;32mdef\u001b[0m \u001b[0mread1\u001b[0m\u001b[0;34m(\u001b[0m\u001b[0mself\u001b[0m\u001b[0;34m,\u001b[0m \u001b[0msize\u001b[0m\u001b[0;34m=\u001b[0m\u001b[0;34m-\u001b[0m\u001b[0;36m1\u001b[0m\u001b[0;34m)\u001b[0m\u001b[0;34m:\u001b[0m\u001b[0;34m\u001b[0m\u001b[0;34m\u001b[0m\u001b[0m\n",
            "\u001b[0;32m/usr/lib/python3.10/_compression.py\u001b[0m in \u001b[0;36mreadinto\u001b[0;34m(self, b)\u001b[0m\n\u001b[1;32m     66\u001b[0m     \u001b[0;32mdef\u001b[0m \u001b[0mreadinto\u001b[0m\u001b[0;34m(\u001b[0m\u001b[0mself\u001b[0m\u001b[0;34m,\u001b[0m \u001b[0mb\u001b[0m\u001b[0;34m)\u001b[0m\u001b[0;34m:\u001b[0m\u001b[0;34m\u001b[0m\u001b[0;34m\u001b[0m\u001b[0m\n\u001b[1;32m     67\u001b[0m         \u001b[0;32mwith\u001b[0m \u001b[0mmemoryview\u001b[0m\u001b[0;34m(\u001b[0m\u001b[0mb\u001b[0m\u001b[0;34m)\u001b[0m \u001b[0;32mas\u001b[0m \u001b[0mview\u001b[0m\u001b[0;34m,\u001b[0m \u001b[0mview\u001b[0m\u001b[0;34m.\u001b[0m\u001b[0mcast\u001b[0m\u001b[0;34m(\u001b[0m\u001b[0;34m\"B\"\u001b[0m\u001b[0;34m)\u001b[0m \u001b[0;32mas\u001b[0m \u001b[0mbyte_view\u001b[0m\u001b[0;34m:\u001b[0m\u001b[0;34m\u001b[0m\u001b[0;34m\u001b[0m\u001b[0m\n\u001b[0;32m---> 68\u001b[0;31m             \u001b[0mdata\u001b[0m \u001b[0;34m=\u001b[0m \u001b[0mself\u001b[0m\u001b[0;34m.\u001b[0m\u001b[0mread\u001b[0m\u001b[0;34m(\u001b[0m\u001b[0mlen\u001b[0m\u001b[0;34m(\u001b[0m\u001b[0mbyte_view\u001b[0m\u001b[0;34m)\u001b[0m\u001b[0;34m)\u001b[0m\u001b[0;34m\u001b[0m\u001b[0;34m\u001b[0m\u001b[0m\n\u001b[0m\u001b[1;32m     69\u001b[0m             \u001b[0mbyte_view\u001b[0m\u001b[0;34m[\u001b[0m\u001b[0;34m:\u001b[0m\u001b[0mlen\u001b[0m\u001b[0;34m(\u001b[0m\u001b[0mdata\u001b[0m\u001b[0;34m)\u001b[0m\u001b[0;34m]\u001b[0m \u001b[0;34m=\u001b[0m \u001b[0mdata\u001b[0m\u001b[0;34m\u001b[0m\u001b[0;34m\u001b[0m\u001b[0m\n\u001b[1;32m     70\u001b[0m         \u001b[0;32mreturn\u001b[0m \u001b[0mlen\u001b[0m\u001b[0;34m(\u001b[0m\u001b[0mdata\u001b[0m\u001b[0;34m)\u001b[0m\u001b[0;34m\u001b[0m\u001b[0;34m\u001b[0m\u001b[0m\n",
            "\u001b[0;32m/usr/lib/python3.10/gzip.py\u001b[0m in \u001b[0;36mread\u001b[0;34m(self, size)\u001b[0m\n\u001b[1;32m    505\u001b[0m                 \u001b[0;32mbreak\u001b[0m\u001b[0;34m\u001b[0m\u001b[0;34m\u001b[0m\u001b[0m\n\u001b[1;32m    506\u001b[0m             \u001b[0;32mif\u001b[0m \u001b[0mbuf\u001b[0m \u001b[0;34m==\u001b[0m \u001b[0;34mb\"\"\u001b[0m\u001b[0;34m:\u001b[0m\u001b[0;34m\u001b[0m\u001b[0;34m\u001b[0m\u001b[0m\n\u001b[0;32m--> 507\u001b[0;31m                 raise EOFError(\"Compressed file ended before the \"\n\u001b[0m\u001b[1;32m    508\u001b[0m                                \"end-of-stream marker was reached\")\n\u001b[1;32m    509\u001b[0m \u001b[0;34m\u001b[0m\u001b[0m\n",
            "\u001b[0;31mEOFError\u001b[0m: Compressed file ended before the end-of-stream marker was reached"
          ]
        }
      ],
      "source": [
        "from gensim.models import KeyedVectors\n",
        "filename = '/content/GoogleNews-vectors-negative300.bin.gz'\n",
        "gensim_pretrain_model = KeyedVectors.load_word2vec_format(filename, binary=True)\n",
        "\n",
        "# calculate: (king - man) + woman = ?\n",
        "result = gensim_pretrain_model.most_similar(positive=['woman', 'king'], negative=['man'], topn=1)\n",
        "print(result)\n",
        "\n",
        "print(gensim_pretrain_model.similarity('woman','man'))"
      ]
    },
    {
      "cell_type": "markdown",
      "id": "aad17dc5",
      "metadata": {
        "id": "aad17dc5"
      },
      "source": [
        "### Create Custom Word Embeddings (word2vec) with Gensim"
      ]
    },
    {
      "cell_type": "markdown",
      "id": "fb18ddbc",
      "metadata": {
        "id": "fb18ddbc"
      },
      "source": [
        "### https://machinelearningmastery.com/develop-word-embeddings-python-gensim/"
      ]
    },
    {
      "cell_type": "code",
      "execution_count": null,
      "id": "a8c17158",
      "metadata": {
        "id": "a8c17158",
        "outputId": "82c260aa-ca3e-4d34-faea-521d31d4739f",
        "colab": {
          "base_uri": "https://localhost:8080/"
        }
      },
      "outputs": [
        {
          "output_type": "stream",
          "name": "stdout",
          "text": [
            "Word2Vec<vocab=15, vector_size=50, alpha=0.025>\n",
            "Word2Vec<vocab=15, vector_size=50, alpha=0.025>\n"
          ]
        }
      ],
      "source": [
        "from gensim.models import Word2Vec\n",
        "# define training data\n",
        "sentences = [['this', 'is', 'the', 'first', 'sentence', 'for', 'word2vec'],\n",
        " ['this', 'is', 'the', 'second', 'sentence'],\n",
        " ['yet', 'another', 'sentence'],\n",
        " ['one', 'more', 'sentence'],\n",
        " ['and', 'the', 'final', 'last', 'sentence']]\n",
        "# train model\n",
        "gensim_custom_model = Word2Vec(sentences,\n",
        "                 min_count=1, # ignores words that appear less than min_count\n",
        "                vector_size = 50,   # Dimensionality of words embeddings\n",
        "                workers = 1,  # Number of processors ( for parallelization )\n",
        "                window = 5,   # Context window for words during training\n",
        "                epochs=30)      # Number of epochs training over corpus\n",
        "# summarize the loaded model\n",
        "print(gensim_custom_model)\n",
        "# summarize vocabulary\n",
        "words = gensim_custom_model.wv.index_to_key\n",
        "#print(words)\n",
        "# access vector for one word\n",
        "#print(gensim_custom_model['sentence'])\n",
        "# save model\n",
        "gensim_custom_model.save('gensim_embed_model.bin')\n",
        "# load model\n",
        "new_model = Word2Vec.load('gensim_embed_model.bin')\n",
        "print(new_model)"
      ]
    },
    {
      "cell_type": "code",
      "execution_count": null,
      "id": "af4a91ca",
      "metadata": {
        "id": "af4a91ca",
        "outputId": "f4e7e621-a538-4e7c-c41b-73eda57aa5de",
        "colab": {
          "base_uri": "https://localhost:8080/"
        }
      },
      "outputs": [
        {
          "output_type": "execute_result",
          "data": {
            "text/plain": [
              "array([-1.06058049e-03,  4.47264174e-04,  1.01994919e-02,  1.80629119e-02,\n",
              "       -1.86427850e-02, -1.42561682e-02,  1.29760234e-02,  1.79636199e-02,\n",
              "       -1.00990217e-02, -7.53042474e-03,  1.47771966e-02, -3.07391817e-03,\n",
              "       -9.06720944e-03,  1.31087527e-02, -9.73224360e-03, -3.62750585e-03,\n",
              "        5.80387143e-03,  2.02352251e-03, -1.66355837e-02, -1.89565215e-02,\n",
              "        1.46455150e-02,  1.01662008e-02,  1.35671813e-02,  1.53746956e-03,\n",
              "        1.27431070e-02, -6.83339080e-03, -1.88717921e-03,  1.15930140e-02,\n",
              "       -1.50935119e-02, -7.89231062e-03, -1.50507120e-02, -1.87043264e-03,\n",
              "        1.91151258e-02, -1.46868080e-02, -4.71115345e-03, -3.91292153e-03,\n",
              "        1.62098780e-02, -1.19156707e-02,  5.56756095e-05, -9.53334570e-03,\n",
              "       -1.92272812e-02,  1.00265285e-02, -1.75463520e-02, -8.81345477e-03,\n",
              "       -8.69064843e-06, -5.69400960e-04, -1.53458025e-02,  1.92105714e-02,\n",
              "        9.96635295e-03,  1.85121242e-02], dtype=float32)"
            ]
          },
          "metadata": {},
          "execution_count": 14
        }
      ],
      "source": [
        "new_model.wv['sentence']"
      ]
    },
    {
      "cell_type": "markdown",
      "id": "c5571de9",
      "metadata": {
        "id": "c5571de9"
      },
      "source": [
        "### Visualizing word embedding"
      ]
    },
    {
      "cell_type": "code",
      "execution_count": null,
      "id": "4b7263c7",
      "metadata": {
        "id": "4b7263c7",
        "outputId": "6a80e3eb-8629-47b2-ac98-1b7e453889d8",
        "colab": {
          "base_uri": "https://localhost:8080/"
        }
      },
      "outputs": [
        {
          "output_type": "execute_result",
          "data": {
            "text/plain": [
              "['sentence',\n",
              " 'the',\n",
              " 'is',\n",
              " 'this',\n",
              " 'last',\n",
              " 'final',\n",
              " 'and',\n",
              " 'more',\n",
              " 'one',\n",
              " 'another',\n",
              " 'yet',\n",
              " 'second',\n",
              " 'word2vec',\n",
              " 'for',\n",
              " 'first']"
            ]
          },
          "metadata": {},
          "execution_count": 15
        }
      ],
      "source": [
        "words"
      ]
    },
    {
      "cell_type": "code",
      "execution_count": null,
      "id": "40c867d1",
      "metadata": {
        "id": "40c867d1",
        "outputId": "09d0ba93-2792-4f14-ce42-2c3eceb40a11",
        "colab": {
          "base_uri": "https://localhost:8080/"
        }
      },
      "outputs": [
        {
          "output_type": "execute_result",
          "data": {
            "text/plain": [
              "array([-1.06058049e-03,  4.47264174e-04,  1.01994919e-02,  1.80629119e-02,\n",
              "       -1.86427850e-02, -1.42561682e-02,  1.29760234e-02,  1.79636199e-02,\n",
              "       -1.00990217e-02, -7.53042474e-03,  1.47771966e-02, -3.07391817e-03,\n",
              "       -9.06720944e-03,  1.31087527e-02, -9.73224360e-03, -3.62750585e-03,\n",
              "        5.80387143e-03,  2.02352251e-03, -1.66355837e-02, -1.89565215e-02,\n",
              "        1.46455150e-02,  1.01662008e-02,  1.35671813e-02,  1.53746956e-03,\n",
              "        1.27431070e-02, -6.83339080e-03, -1.88717921e-03,  1.15930140e-02,\n",
              "       -1.50935119e-02, -7.89231062e-03, -1.50507120e-02, -1.87043264e-03,\n",
              "        1.91151258e-02, -1.46868080e-02, -4.71115345e-03, -3.91292153e-03,\n",
              "        1.62098780e-02, -1.19156707e-02,  5.56756095e-05, -9.53334570e-03,\n",
              "       -1.92272812e-02,  1.00265285e-02, -1.75463520e-02, -8.81345477e-03,\n",
              "       -8.69064843e-06, -5.69400960e-04, -1.53458025e-02,  1.92105714e-02,\n",
              "        9.96635295e-03,  1.85121242e-02], dtype=float32)"
            ]
          },
          "metadata": {},
          "execution_count": 16
        }
      ],
      "source": [
        "new_model.wv['sentence']"
      ]
    },
    {
      "cell_type": "code",
      "execution_count": null,
      "id": "e5a1bd8f",
      "metadata": {
        "id": "e5a1bd8f"
      },
      "outputs": [],
      "source": [
        "from sklearn.manifold import TSNE\n",
        "import matplotlib.pyplot as plt\n",
        "%matplotlib inline"
      ]
    },
    {
      "cell_type": "code",
      "execution_count": null,
      "id": "1854b119",
      "metadata": {
        "id": "1854b119"
      },
      "outputs": [],
      "source": [
        "def tsne_plot(model):\n",
        "    \"Creates and TSNE model and plots it\"\n",
        "    labels = []\n",
        "    tokens = []\n",
        "\n",
        "    for word in words:\n",
        "        tokens.append(new_model.wv[word])\n",
        "        labels.append(word)\n",
        "\n",
        "    tsne_model = TSNE(perplexity=40, n_components=2, init='pca', n_iter=2500, random_state=23)\n",
        "    new_values = tsne_model.fit_transform(tokens)\n",
        "\n",
        "    x = []\n",
        "    y = []\n",
        "    for value in new_values:\n",
        "        x.append(value[0])\n",
        "        y.append(value[1])\n",
        "\n",
        "    plt.figure(figsize=(10, 10))\n",
        "    for i in range(len(x)):\n",
        "        plt.scatter(x[i],y[i])\n",
        "        plt.annotate(labels[i],\n",
        "                     xy=(x[i], y[i]),\n",
        "                     xytext=(5, 2),\n",
        "                     textcoords='offset points',\n",
        "                     ha='right',\n",
        "                     va='bottom')\n",
        "    plt.show()"
      ]
    },
    {
      "cell_type": "code",
      "execution_count": null,
      "id": "633ea361",
      "metadata": {
        "id": "633ea361",
        "outputId": "df4a4f29-9194-44e7-b222-54320c34540d",
        "colab": {
          "base_uri": "https://localhost:8080/",
          "height": 287
        }
      },
      "outputs": [
        {
          "output_type": "error",
          "ename": "AttributeError",
          "evalue": "'list' object has no attribute 'shape'",
          "traceback": [
            "\u001b[0;31m---------------------------------------------------------------------------\u001b[0m",
            "\u001b[0;31mAttributeError\u001b[0m                            Traceback (most recent call last)",
            "\u001b[0;32m<ipython-input-20-e62af443e061>\u001b[0m in \u001b[0;36m<cell line: 1>\u001b[0;34m()\u001b[0m\n\u001b[0;32m----> 1\u001b[0;31m \u001b[0mtsne_plot\u001b[0m\u001b[0;34m(\u001b[0m\u001b[0mnew_model\u001b[0m\u001b[0;34m)\u001b[0m\u001b[0;34m\u001b[0m\u001b[0;34m\u001b[0m\u001b[0m\n\u001b[0m",
            "\u001b[0;32m<ipython-input-18-4c2cb84abe35>\u001b[0m in \u001b[0;36mtsne_plot\u001b[0;34m(model)\u001b[0m\n\u001b[1;32m      9\u001b[0m \u001b[0;34m\u001b[0m\u001b[0m\n\u001b[1;32m     10\u001b[0m     \u001b[0mtsne_model\u001b[0m \u001b[0;34m=\u001b[0m \u001b[0mTSNE\u001b[0m\u001b[0;34m(\u001b[0m\u001b[0mperplexity\u001b[0m\u001b[0;34m=\u001b[0m\u001b[0;36m40\u001b[0m\u001b[0;34m,\u001b[0m \u001b[0mn_components\u001b[0m\u001b[0;34m=\u001b[0m\u001b[0;36m2\u001b[0m\u001b[0;34m,\u001b[0m \u001b[0minit\u001b[0m\u001b[0;34m=\u001b[0m\u001b[0;34m'pca'\u001b[0m\u001b[0;34m,\u001b[0m \u001b[0mn_iter\u001b[0m\u001b[0;34m=\u001b[0m\u001b[0;36m2500\u001b[0m\u001b[0;34m,\u001b[0m \u001b[0mrandom_state\u001b[0m\u001b[0;34m=\u001b[0m\u001b[0;36m23\u001b[0m\u001b[0;34m)\u001b[0m\u001b[0;34m\u001b[0m\u001b[0;34m\u001b[0m\u001b[0m\n\u001b[0;32m---> 11\u001b[0;31m     \u001b[0mnew_values\u001b[0m \u001b[0;34m=\u001b[0m \u001b[0mtsne_model\u001b[0m\u001b[0;34m.\u001b[0m\u001b[0mfit_transform\u001b[0m\u001b[0;34m(\u001b[0m\u001b[0mtokens\u001b[0m\u001b[0;34m)\u001b[0m\u001b[0;34m\u001b[0m\u001b[0;34m\u001b[0m\u001b[0m\n\u001b[0m\u001b[1;32m     12\u001b[0m \u001b[0;34m\u001b[0m\u001b[0m\n\u001b[1;32m     13\u001b[0m     \u001b[0mx\u001b[0m \u001b[0;34m=\u001b[0m \u001b[0;34m[\u001b[0m\u001b[0;34m]\u001b[0m\u001b[0;34m\u001b[0m\u001b[0;34m\u001b[0m\u001b[0m\n",
            "\u001b[0;32m/usr/local/lib/python3.10/dist-packages/sklearn/manifold/_t_sne.py\u001b[0m in \u001b[0;36mfit_transform\u001b[0;34m(self, X, y)\u001b[0m\n\u001b[1;32m   1116\u001b[0m         \"\"\"\n\u001b[1;32m   1117\u001b[0m         \u001b[0mself\u001b[0m\u001b[0;34m.\u001b[0m\u001b[0m_validate_params\u001b[0m\u001b[0;34m(\u001b[0m\u001b[0;34m)\u001b[0m\u001b[0;34m\u001b[0m\u001b[0;34m\u001b[0m\u001b[0m\n\u001b[0;32m-> 1118\u001b[0;31m         \u001b[0mself\u001b[0m\u001b[0;34m.\u001b[0m\u001b[0m_check_params_vs_input\u001b[0m\u001b[0;34m(\u001b[0m\u001b[0mX\u001b[0m\u001b[0;34m)\u001b[0m\u001b[0;34m\u001b[0m\u001b[0;34m\u001b[0m\u001b[0m\n\u001b[0m\u001b[1;32m   1119\u001b[0m         \u001b[0membedding\u001b[0m \u001b[0;34m=\u001b[0m \u001b[0mself\u001b[0m\u001b[0;34m.\u001b[0m\u001b[0m_fit\u001b[0m\u001b[0;34m(\u001b[0m\u001b[0mX\u001b[0m\u001b[0;34m)\u001b[0m\u001b[0;34m\u001b[0m\u001b[0;34m\u001b[0m\u001b[0m\n\u001b[1;32m   1120\u001b[0m         \u001b[0mself\u001b[0m\u001b[0;34m.\u001b[0m\u001b[0membedding_\u001b[0m \u001b[0;34m=\u001b[0m \u001b[0membedding\u001b[0m\u001b[0;34m\u001b[0m\u001b[0;34m\u001b[0m\u001b[0m\n",
            "\u001b[0;32m/usr/local/lib/python3.10/dist-packages/sklearn/manifold/_t_sne.py\u001b[0m in \u001b[0;36m_check_params_vs_input\u001b[0;34m(self, X)\u001b[0m\n\u001b[1;32m    826\u001b[0m \u001b[0;34m\u001b[0m\u001b[0m\n\u001b[1;32m    827\u001b[0m     \u001b[0;32mdef\u001b[0m \u001b[0m_check_params_vs_input\u001b[0m\u001b[0;34m(\u001b[0m\u001b[0mself\u001b[0m\u001b[0;34m,\u001b[0m \u001b[0mX\u001b[0m\u001b[0;34m)\u001b[0m\u001b[0;34m:\u001b[0m\u001b[0;34m\u001b[0m\u001b[0;34m\u001b[0m\u001b[0m\n\u001b[0;32m--> 828\u001b[0;31m         \u001b[0;32mif\u001b[0m \u001b[0mself\u001b[0m\u001b[0;34m.\u001b[0m\u001b[0mperplexity\u001b[0m \u001b[0;34m>=\u001b[0m \u001b[0mX\u001b[0m\u001b[0;34m.\u001b[0m\u001b[0mshape\u001b[0m\u001b[0;34m[\u001b[0m\u001b[0;36m0\u001b[0m\u001b[0;34m]\u001b[0m\u001b[0;34m:\u001b[0m\u001b[0;34m\u001b[0m\u001b[0;34m\u001b[0m\u001b[0m\n\u001b[0m\u001b[1;32m    829\u001b[0m             \u001b[0;32mraise\u001b[0m \u001b[0mValueError\u001b[0m\u001b[0;34m(\u001b[0m\u001b[0;34m\"perplexity must be less than n_samples\"\u001b[0m\u001b[0;34m)\u001b[0m\u001b[0;34m\u001b[0m\u001b[0;34m\u001b[0m\u001b[0m\n\u001b[1;32m    830\u001b[0m \u001b[0;34m\u001b[0m\u001b[0m\n",
            "\u001b[0;31mAttributeError\u001b[0m: 'list' object has no attribute 'shape'"
          ]
        }
      ],
      "source": [
        "tsne_plot(new_model)"
      ]
    },
    {
      "cell_type": "code",
      "execution_count": null,
      "id": "07a65c0b",
      "metadata": {
        "id": "07a65c0b"
      },
      "outputs": [],
      "source": []
    },
    {
      "cell_type": "code",
      "execution_count": null,
      "id": "f5bd2984",
      "metadata": {
        "id": "f5bd2984"
      },
      "outputs": [],
      "source": []
    },
    {
      "cell_type": "code",
      "execution_count": null,
      "id": "d01bca3e",
      "metadata": {
        "id": "d01bca3e"
      },
      "outputs": [],
      "source": []
    }
  ],
  "metadata": {
    "kernelspec": {
      "display_name": "Python 3",
      "language": "python",
      "name": "python3"
    },
    "language_info": {
      "codemirror_mode": {
        "name": "ipython",
        "version": 3
      },
      "file_extension": ".py",
      "mimetype": "text/x-python",
      "name": "python",
      "nbconvert_exporter": "python",
      "pygments_lexer": "ipython3",
      "version": "3.8.8"
    },
    "colab": {
      "provenance": []
    }
  },
  "nbformat": 4,
  "nbformat_minor": 5
}